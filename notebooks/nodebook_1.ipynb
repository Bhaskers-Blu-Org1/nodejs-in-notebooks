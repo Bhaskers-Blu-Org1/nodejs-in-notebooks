{
 "cells": [
  {
   "cell_type": "markdown",
   "metadata": {},
   "source": [
    "## Nodebooks: Introducing Node.js Data Science Notebooks\n",
    "\n",
    "Notebooks (that’s Jupyter/IPython Notebooks, not Moleskine® notebooks) are where data scientists process, analyse, and visualise data in an iterative, collaborative environment. Like other developers, I am not a data scientist, but I do like the idea of having a scratchpad where I can write some code, iteratively work on some algorithms, and visualise the results quickly.\n",
    "To that end, David Taieb and I created pixiedust_node, an add-on for Jupyter notebooks that allows Node.js/JavaScript to run inside notebook cells. It’s built on the popular PixieDust helper library. So let’s get started!\n",
    "\n",
    "\n",
    "## Part 1: Variables, functions, and promises\n",
    "\n",
    "\n",
    "### Installing\n",
    "Install the [`pixiedust`](https://pypi.python.org/pypi/pixiedust) and [`pixiedust_node`](https://pypi.python.org/pypi/pixiedust-node) packages using `pip`, the Python package manager. "
   ]
  },
  {
   "cell_type": "code",
   "execution_count": null,
   "metadata": {
    "collapsed": false
   },
   "outputs": [],
   "source": [
    "!pip install pixiedust\n",
    "!pip install pixiedust_node"
   ]
  },
  {
   "cell_type": "markdown",
   "metadata": {},
   "source": [
    "### Using pixiedust_node\n",
    "Now we can import `pixiedust_node` into our notebook:"
   ]
  },
  {
   "cell_type": "code",
   "execution_count": 2,
   "metadata": {
    "collapsed": false
   },
   "outputs": [
    {
     "name": "stdout",
     "output_type": "stream",
     "text": [
      "Pixiedust database opened successfully\n"
     ]
    },
    {
     "data": {
      "text/html": [
       "\n",
       "        <div style=\"margin:10px\">\n",
       "            <a href=\"https://github.com/ibm-watson-data-lab/pixiedust\" target=\"_new\">\n",
       "                <img src=\"https://github.com/ibm-watson-data-lab/pixiedust/raw/master/docs/_static/pd_icon32.png\" style=\"float:left;margin-right:10px\"/>\n",
       "            </a>\n",
       "            <span>Pixiedust version 1.1.6</span>\n",
       "        </div>\n",
       "        "
      ],
      "text/plain": [
       "<IPython.core.display.HTML object>"
      ]
     },
     "metadata": {},
     "output_type": "display_data"
    },
    {
     "data": {
      "text/html": [
       "<div>Warning: You are not running the latest version of PixieDust. Current is 1.1.6, Latest is 1.1.7</div>"
      ],
      "text/plain": [
       "<IPython.core.display.HTML object>"
      ]
     },
     "metadata": {},
     "output_type": "display_data"
    },
    {
     "data": {
      "text/html": [
       "\n",
       "                <div>Please copy and run the following command in a new cell to upgrade: <span style=\"background-color:#ececec;font-family:monospace;padding:0 5px\">!pip install --user --upgrade pixiedust</span></div>\n",
       "            "
      ],
      "text/plain": [
       "<IPython.core.display.HTML object>"
      ]
     },
     "metadata": {},
     "output_type": "display_data"
    },
    {
     "data": {
      "text/html": [
       "<div>Please restart kernel after upgrading.</div>"
      ],
      "text/plain": [
       "<IPython.core.display.HTML object>"
      ]
     },
     "metadata": {},
     "output_type": "display_data"
    },
    {
     "data": {
      "text/html": [
       "\n",
       "            <div style=\"margin:10px\"> \n",
       "            <a href=\"https://github.com/ibm-cds-labs/pixiedust_node\" target=\"_new\"> \n",
       "            <img src=\"https://github.com/ibm-cds-labs/pixiedust_node/raw/master/docs/_images/pdn_icon32.png\" style=\"float:left;margin-right:10px\"/> \n",
       "            </a> \n",
       "            <span>Pixiedust Node.js</span> \n",
       "            </div> \n"
      ],
      "text/plain": [
       "<IPython.core.display.HTML object>"
      ]
     },
     "metadata": {},
     "output_type": "display_data"
    }
   ],
   "source": [
    "import pixiedust_node"
   ]
  },
  {
   "cell_type": "markdown",
   "metadata": {},
   "source": [
    "And then we can write JavaScript code in cells whose first line is `%%node`:"
   ]
  },
  {
   "cell_type": "code",
   "execution_count": 3,
   "metadata": {
    "collapsed": false
   },
   "outputs": [
    {
     "name": "stdout",
     "output_type": "stream",
     "text": [
      "pixiedust_node 0.1.4 started. Cells starting '%%node' may contain Node.js code.\n",
      "\"2018-02-07T21:20:27.731Z\"\n"
     ]
    }
   ],
   "source": [
    "%%node\n",
    "var date = new Date();\n",
    "print(date);"
   ]
  },
  {
   "cell_type": "markdown",
   "metadata": {},
   "source": [
    "It’s that easy! We can have Python and Node.js in the same notebook. Cells are Python by default, but simply starting a cell with `%%node` indicates that the next lines will be JavaScript."
   ]
  },
  {
   "cell_type": "markdown",
   "metadata": {},
   "source": [
    "### Printing JavaScript variables\n",
    "Calling the `print` function within your JavaScript code is the same as calling `print` in your Python code."
   ]
  },
  {
   "cell_type": "code",
   "execution_count": 4,
   "metadata": {
    "collapsed": false
   },
   "outputs": [
    {
     "name": "stdout",
     "output_type": "stream",
     "text": [
      "{\"a\": 1, \"c\": true, \"b\": \"two\"}\n"
     ]
    }
   ],
   "source": [
    "%%node\n",
    "var x = { a:1, b:'two', c: true };\n",
    "print(x);"
   ]
  },
  {
   "cell_type": "markdown",
   "metadata": {},
   "source": [
    "### Visualizing data\n",
    "You can also use PixieDust’s `display` function to render data graphically."
   ]
  },
  {
   "cell_type": "code",
   "execution_count": 5,
   "metadata": {
    "collapsed": false,
    "pixiedust": {
     "displayParams": {
      "aggregation": "SUM",
      "handlerId": "lineChart",
      "keyFields": "x",
      "rowCount": "500",
      "valueFields": "cos,sin"
     }
    }
   },
   "outputs": [
    {
     "data": {
      "text/html": [
       "<style type=\"text/css\">.pd_warning{display:none;}</style><div class=\"pd_warning\"><em>Hey, there's something awesome here! To see it, open this notebook outside GitHub, in a viewer like Jupyter</em></div>\n",
       "        <div class=\"pd_save is-viewer-good\" style=\"padding-right:10px;text-align: center;line-height:initial !important;font-size: xx-large;font-weight: 500;color: coral;\">\n",
       "            \n",
       "        </div>\n",
       "    <div id=\"chartFigure3ecedea9\" class=\"pd_save is-viewer-good\" style=\"overflow-x:auto\">\n",
       "            \n",
       "                    \n",
       "                            <center><img style=\"max-width:initial !important\" src=\"data:image/png;base64,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\" class=\"pd_save\"></center>\n",
       "                        \n",
       "                    \n",
       "                \n",
       "        </div>"
      ],
      "text/plain": [
       "<IPython.core.display.HTML object>"
      ]
     },
     "metadata": {},
     "output_type": "display_data"
    }
   ],
   "source": [
    "%%node\n",
    "var data = [];\n",
    "for (var i = 0; i < 1000; i++) {\n",
    "    var x = 2*Math.PI * i/ 360;\n",
    "    var obj = {\n",
    "      x: x,\n",
    "      i: i,\n",
    "      sin: Math.sin(x),\n",
    "      cos: Math.cos(x),\n",
    "      tan: Math.tan(x)\n",
    "    };\n",
    "    data.push(obj);\n",
    "}\n",
    "// render data \n",
    "display(data);"
   ]
  },
  {
   "cell_type": "markdown",
   "metadata": {},
   "source": [
    "PixieDust presents visualisations of data frames using Matplotlib, Bokeh, Brunel, d3, Google Maps and, MapBox. No code is required on your part because PixieDust presents simple pull-down menus and a friendly point-and-click interface, allowing you to configure how the data is presented:"
   ]
  },
  {
   "cell_type": "markdown",
   "metadata": {},
   "source": [
    "### Adding npm modules\n",
    "There are thousands of libraries and tools in the npm repository, Node.js’s package manager. It’s essential that we can install npm libraries and use them in our notebook code.\n",
    "Let’s say we want to make some HTTP calls to an external API service. We could deal with Node.js’s low-level HTTP library, or an easier option would be to use the ubiquitous `request` npm module.\n",
    "Once we have pixiedust_node set up, installing an npm module is as simple as running `npm.install` in a Python cell:"
   ]
  },
  {
   "cell_type": "code",
   "execution_count": 6,
   "metadata": {
    "collapsed": false
   },
   "outputs": [
    {
     "name": "stdout",
     "output_type": "stream",
     "text": [
      "/Users/patti/anaconda/bin/npm install -s request\n",
      "/Users/patti/pixiedust/node\n",
      "└─┬ silverlining@1.24.5\n",
      "└── request@2.83.0\n"
     ]
    }
   ],
   "source": [
    "npm.install('request');"
   ]
  },
  {
   "cell_type": "markdown",
   "metadata": {},
   "source": [
    "Once installed, you may `require` the module in your JavaScript code:"
   ]
  },
  {
   "cell_type": "code",
   "execution_count": 7,
   "metadata": {
    "collapsed": false
   },
   "outputs": [
    {
     "name": "stdout",
     "output_type": "stream",
     "text": [
      "... ... ... ...\n",
      "... ...\n",
      "{\"timestamp\": 1518038436, \"message\": \"success\", \"iss_position\": {\"latitude\": \"-4.7442\", \"longitude\": \"-158.5675\"}}\n"
     ]
    }
   ],
   "source": [
    "%%node\n",
    "var request = require('request');\n",
    "var r = {\n",
    "    method:'GET',\n",
    "    url: 'http://api.open-notify.org/iss-now.json',\n",
    "    json: true\n",
    "};\n",
    "request(r, function(err, req, body) {\n",
    "    print(body);\n",
    "});\n",
    "// {\"timestamp\": 1494857069, \"message\": \"success\", \"iss_position\": {\"latitude\": \"24.0980\", \"longitude\": \"-84.5517\"}}"
   ]
  },
  {
   "cell_type": "markdown",
   "metadata": {},
   "source": [
    "As an HTTP request is an asynchronous action, the `request` library calls our callback function when the operation has completed. Inside that function, we can call print to render the data.\n",
    "We can organise our code into functions to encapsulate complexity and make it easier to reuse code. We can create a function to get the current position of the International Space Station in one notebook cell:"
   ]
  },
  {
   "cell_type": "code",
   "execution_count": 8,
   "metadata": {
    "collapsed": false
   },
   "outputs": [
    {
     "name": "stdout",
     "output_type": "stream",
     "text": [
      "... ..... ..... ..... ..... ... ..... ..... ....... ....... ....... ....... ....... ..... ..... ...\n"
     ]
    }
   ],
   "source": [
    "%%node\n",
    "var request = require('request');\n",
    "var getPosition = function(callback) {\n",
    "    var r = {\n",
    "        method:'GET',\n",
    "        url: 'http://api.open-notify.org/iss-now.json',\n",
    "        json: true\n",
    "    };\n",
    "    request(r, function(err, req, body) {\n",
    "        var obj = null;\n",
    "        if (!err) {\n",
    "            obj = body.iss_position\n",
    "            obj.latitude = parseFloat(obj.latitude);\n",
    "            obj.longitude = parseFloat(obj.longitude);\n",
    "            obj.time = new Date().getTime();       \n",
    "        }\n",
    "        callback(err, obj);\n",
    "    });\n",
    "};"
   ]
  },
  {
   "cell_type": "markdown",
   "metadata": {},
   "source": [
    "And use it in another cell:"
   ]
  },
  {
   "cell_type": "code",
   "execution_count": 9,
   "metadata": {
    "collapsed": false
   },
   "outputs": [
    {
     "name": "stdout",
     "output_type": "stream",
     "text": [
      "... ...\n",
      "{\"latitude\": -4.7442, \"longitude\": -158.5675, \"time\": 1518038443184}\n"
     ]
    }
   ],
   "source": [
    "%%node\n",
    "getPosition(function(err, data) {\n",
    "    print(data);\n",
    "});"
   ]
  },
  {
   "cell_type": "markdown",
   "metadata": {},
   "source": [
    "### Promises\n",
    "If you prefer to work with JavaScript Promises when writing asynchronous code, then that’s okay too. Let’s rewrite our `getPosition` function to return a Promise. First we're going to install the `request-promise` module from npm:"
   ]
  },
  {
   "cell_type": "code",
   "execution_count": 10,
   "metadata": {
    "collapsed": false
   },
   "outputs": [
    {
     "name": "stdout",
     "output_type": "stream",
     "text": [
      "/Users/patti/anaconda/bin/npm install -s request request-promise\n",
      "/Users/patti/pixiedust/node\n",
      "├── request-promise@4.2.2\n",
      "└─┬ silverlining@1.24.5\n",
      "└── request@2.83.0\n"
     ]
    }
   ],
   "source": [
    "npm.install( ('request', 'request-promise') )"
   ]
  },
  {
   "cell_type": "markdown",
   "metadata": {},
   "source": [
    "Notice how you can install multiple modules in a single call. Just pass in a Python `list` or `tuple`.\n",
    "Then we can refactor our function a little:"
   ]
  },
  {
   "cell_type": "code",
   "execution_count": 11,
   "metadata": {
    "collapsed": false
   },
   "outputs": [
    {
     "name": "stdout",
     "output_type": "stream",
     "text": [
      "... ..... ..... ..... ..... ... ..... ..... ..... ..... ..... ..... ..... ...\n"
     ]
    }
   ],
   "source": [
    "%%node\n",
    "var request = require('request-promise');\n",
    "var getPosition = function(callback) {\n",
    "    var r = {\n",
    "        method:'GET',\n",
    "        url: 'http://api.open-notify.org/iss-now.json',\n",
    "        json: true\n",
    "    };\n",
    "    return request(r).then(function(body) {\n",
    "        var obj = null;\n",
    "        obj = body.iss_position;\n",
    "        obj.latitude = parseFloat(obj.latitude);\n",
    "        obj.longitude = parseFloat(obj.longitude);\n",
    "        obj.time = new Date().getTime();         \n",
    "        return obj;\n",
    "    });\n",
    "};"
   ]
  },
  {
   "cell_type": "markdown",
   "metadata": {},
   "source": [
    "And call it in the Promises style:"
   ]
  },
  {
   "cell_type": "code",
   "execution_count": 33,
   "metadata": {
    "collapsed": false
   },
   "outputs": [
    {
     "name": "stdout",
     "output_type": "stream",
     "text": [
      "... ... ... ...\n",
      "{\"latitude\": 24.5329, \"longitude\": -6.0458, \"time\": 1518040820765}\n"
     ]
    }
   ],
   "source": [
    "%%node\n",
    "getPosition().then(function(data) {\n",
    "  print(data);\n",
    "}).catch(function(err) {\n",
    "  print(err);    \n",
    "});"
   ]
  },
  {
   "cell_type": "markdown",
   "metadata": {},
   "source": [
    "Or call it in a more compact form:"
   ]
  },
  {
   "cell_type": "code",
   "execution_count": 34,
   "metadata": {
    "collapsed": false
   },
   "outputs": [
    {
     "name": "stdout",
     "output_type": "stream",
     "text": [
      "{\"latitude\": 24.0569, \"longitude\": -5.6023, \"time\": 1518040829323}\n"
     ]
    }
   ],
   "source": [
    "%%node\n",
    "getPosition().then(print).catch(print);\n"
   ]
  },
  {
   "cell_type": "markdown",
   "metadata": {},
   "source": [
    "***\n",
    "## Part 2: Working with data sources\n",
    "\n",
    "To access data stored in an Apache CouchDB or Cloudant database, we can use the [`cloudant-quickstart`](https://www.npmjs.com/package/cloudant-quickstart) npm module:\n"
   ]
  },
  {
   "cell_type": "code",
   "execution_count": 16,
   "metadata": {
    "collapsed": false
   },
   "outputs": [
    {
     "name": "stdout",
     "output_type": "stream",
     "text": [
      "/Users/patti/anaconda/bin/npm install -s cloudant-quickstart\n",
      "/Users/patti/pixiedust/node\n",
      "└─┬ cloudant-quickstart@1.25.1\n",
      "└── qrate@1.0.2\n"
     ]
    }
   ],
   "source": [
    "npm.install('cloudant-quickstart')"
   ]
  },
  {
   "cell_type": "markdown",
   "metadata": {},
   "source": [
    "With our Cloudant URL, we can start exploring the data in Node.js. First we make a connection to the remote Cloudant database:"
   ]
  },
  {
   "cell_type": "code",
   "execution_count": 28,
   "metadata": {
    "collapsed": false
   },
   "outputs": [],
   "source": [
    "%%node\n",
    "// connect to Cloudant using cloudant-quickstart\n",
    "var cqs = require('cloudant-quickstart');\n",
    "var cities = cqs('https://reader.cloudant.com/cities');"
   ]
  },
  {
   "cell_type": "markdown",
   "metadata": {},
   "source": [
    "Now we have an object cities that we can use to access the database. \n",
    "\n",
    "### Exploring the data using Node.js in a notebook \n",
    "\n",
    "If we know the IDs of documents, we can retrieve them singly:"
   ]
  },
  {
   "cell_type": "code",
   "execution_count": 29,
   "metadata": {
    "collapsed": false
   },
   "outputs": [
    {
     "name": "stdout",
     "output_type": "stream",
     "text": [
      "{\"name\": \"Stowmarket\", \"country\": \"GB\", \"longitude\": 0.99774, \"latitude\": 52.18893, \"timezone\": \"Europe/London\", \"_id\": \"2636749\", \"population\": 15394}\n"
     ]
    }
   ],
   "source": [
    "%%node\n",
    "cities.get('2636749').then(print).catch(print);"
   ]
  },
  {
   "cell_type": "markdown",
   "metadata": {},
   "source": [
    "Or in bulk:"
   ]
  },
  {
   "cell_type": "code",
   "execution_count": 20,
   "metadata": {
    "collapsed": false
   },
   "outputs": [
    {
     "name": "stdout",
     "output_type": "stream",
     "text": [
      "[{\"name\": \"York\", \"country\": \"US\", \"longitude\": -76.72774, \"latitude\": 39.9626, \"timezone\": \"America/New_York\", \"_id\": \"4562407\", \"population\": 43718}, {\"name\": \"Stowmarket\", \"country\": \"GB\", \"longitude\": 0.99774, \"latitude\": 52.18893, \"timezone\": \"Europe/London\", \"_id\": \"2636749\", \"population\": 15394}, {\"name\": \"Mexico City\", \"country\": \"MX\", \"longitude\": -99.12766, \"latitude\": 19.42847, \"timezone\": \"America/Mexico_City\", \"_id\": \"3530597\", \"population\": 12294193}]\n"
     ]
    }
   ],
   "source": [
    "%%node\n",
    "cities.get(['4562407','2636749','3530597']).then(print).catch(print);"
   ]
  },
  {
   "cell_type": "markdown",
   "metadata": {},
   "source": [
    "Instead of just calling `print` to output the JSON, we can bring PixieDust's `display` function to bear by passing it an array of data to visualize:"
   ]
  },
  {
   "cell_type": "code",
   "execution_count": 21,
   "metadata": {
    "collapsed": false,
    "pixiedust": {
     "displayParams": {
      "handlerId": "mapView",
      "keyFields": "latitude,longitude",
      "mapboxtoken": "pk.eyJ1IjoibWFwYm94IiwiYSI6ImNpejY4M29iazA2Z2gycXA4N2pmbDZmangifQ.-g_vE53SD2WrJ6tFX7QHmA",
      "rowCount": "500",
      "valueFields": "population"
     }
    }
   },
   "outputs": [
    {
     "data": {
      "text/html": [
       "<style type=\"text/css\">.pd_warning{display:none;}</style><div class=\"pd_warning\"><em>Hey, there's something awesome here! To see it, open this notebook outside GitHub, in a viewer like Jupyter</em></div>\n",
       "        <div class=\"pd_save is-viewer-good\" style=\"padding-right:10px;text-align: center;line-height:initial !important;font-size: xx-large;font-weight: 500;color: coral;\">\n",
       "            \n",
       "        </div>\n",
       "    \n",
       "        <div id=\"chartFigure50ee685e\" class=\"pd_save\" style=\"overflow-x:auto\">\n",
       "            <script>\n",
       "  window.iframeLoaded = window.iframeLoaded || function(iframe) {\n",
       "    try {\n",
       "      iframe.contentWindow.pdMessageListeners = [];\n",
       "      iframe.contentWindow[\"addPDMessageListener\"] = function(listener){\n",
       "        iframe.contentWindow.pdMessageListeners.push(listener);\n",
       "      }\n",
       "      iframe.contentWindow.addEventListener(\"message\", function(event){\n",
       "        iframe.contentWindow.pdMessageListeners.forEach(function(listener){\n",
       "          listener(event);\n",
       "        });\n",
       "      }, false);\n",
       "      iframe.contentWindow.ready = true;\n",
       "      iframe.contentWindow[\"triggerPDEvent\"] = function(eventInfo) {\n",
       "        $(document).trigger('pd_event', eventInfo);\n",
       "      }\n",
       "    } catch (e) {\n",
       "      console.log(e)\n",
       "    }\n",
       "  }\n",
       "\n",
       "  \n",
       "</script>\n",
       "<iframe id=\"mapframe50ee685e\" style=\"width:878.4px;height:500px\" srcdoc=\"<!DOCTYPE html><html lang=&quot;en&quot;><head>    <meta charset=&quot;UTF-8&quot;>    <meta name=&quot;viewport&quot; content=&quot;width=device-width, initial-scale=1&quot;>    <title>Pixiedust Mapbox map</title>    <script src=&quot;https://api.tiles.mapbox.com/mapbox-gl-js/v0.32.1/mapbox-gl.js&quot;></script>    <link href=&quot;https://api.tiles.mapbox.com/mapbox-gl-js/v0.32.1/mapbox-gl.css&quot; rel=&quot;stylesheet&quot; />    <style>    .mapboxgl-popup-content h3 {         margin: 2px 0 2px 0;        font-style: italic;    }    .mapboxgl-popup {        max-width: 200px;    }    #map canvas {        cursor: crosshair;    }    .legend {        background-color: rgba(255,255,255, 0.75);        border-radius: 3px;        position: absolute;        left: 14px;        top: 14px;        box-shadow: 0 1px 2px rgba(0,0,0,0.10);        font-size: 12px;        line-height: 18px;        padding: 10px;        z-index: 1;    }    .legend h4 {        margin: 0 0 10px;    }    .legend div span {        border-radius: 50%;        display: inline-block;        height: 10px;        margin-right: 5px;        width: 10px;    }    body {         background-color:#333;         margin:0px !important;         overflow: hidden;        font-family: &quot;Helvetica Neue&quot;, Arial, Helvetica, sans-serif;    }    </style></head><body><div id=&quot;map-50ee685e-65fb1f5c&quot; style=&quot;width:calc(878.4px - 4px);height:calc(500px - 4px)&quot; ></div><script>    !function(e){if(&quot;object&quot;==typeof exports&amp;&amp;&quot;undefined&quot;!=typeof module)module.exports=e();else if(&quot;function&quot;==typeof define&amp;&amp;define.amd)define([],e);else{var n;&quot;undefined&quot;!=typeof window?n=window:&quot;undefined&quot;!=typeof global?n=global:&quot;undefined&quot;!=typeof self&amp;&amp;(n=self),n.geojsonExtent=e()}}(function(){return function e(t,n,r){function s(o,u){if(!n[o]){if(!t[o]){var a=&quot;function&quot;==typeof require&amp;&amp;require;if(!u&amp;&amp;a)return a(o,!0);if(i)return i(o,!0);var f=new Error(&quot;Cannot find module &quot;+o+&quot;&quot;);throw f.code=&quot;MODULE_NOT_FOUND&quot;,f}var l=n[o]={exports:{}};t[o][0].call(l.exports,function(e){var n=t[o][1][e];return s(n?n:e)},l,l.exports,e,t,n,r)}return n[o].exports}for(var i=&quot;function&quot;==typeof require&amp;&amp;require,o=0;o<r.length;o++)s(r[o]);return s}({1:[function(require,module){function getExtent(_){for(var ext=extent(),coords=geojsonCoords(_),i=0;i<coords.length;i++)ext.include(coords[i]);return ext}var geojsonCoords=require(&quot;geojson-coords&quot;),traverse=require(&quot;traverse&quot;),extent=require(&quot;extent&quot;),geojsonTypes=[&quot;Point&quot;,&quot;MultiPoint&quot;,&quot;LineString&quot;,&quot;MultiLineString&quot;,&quot;Polygon&quot;,&quot;MultiPolygon&quot;,&quot;Feature&quot;,&quot;FeatureCollection&quot;,&quot;GeometryCollection&quot;];module.exports=function(_){return getExtent(_).bbox()},module.exports.polygon=function(_){return getExtent(_).polygon()},module.exports.bboxify=function(_){return traverse(_).map(function(value){value&amp;&amp;-1!==typeof geojsonTypes.indexOf(value.type)&amp;&amp;(console.log(value.type,value),value.bbox=getExtent(value).bbox(),this.update(value))})}},{extent:2,&quot;geojson-coords&quot;:4,traverse:7}],2:[function(require,module){function Extent(){return this instanceof Extent?(this._bbox=[1/0,1/0,-(1/0),-(1/0)],void(this._valid=!1)):new Extent}module.exports=Extent,Extent.prototype.include=function(ll){return this._valid=!0,this._bbox[0]=Math.min(this._bbox[0],ll[0]),this._bbox[1]=Math.min(this._bbox[1],ll[1]),this._bbox[2]=Math.max(this._bbox[2],ll[0]),this._bbox[3]=Math.max(this._bbox[3],ll[1]),this},Extent.prototype.union=function(other){return this._valid=!0,this._bbox[0]=Math.min(this._bbox[0],other[0]),this._bbox[1]=Math.min(this._bbox[1],other[1]),this._bbox[2]=Math.max(this._bbox[2],other[2]),this._bbox[3]=Math.max(this._bbox[3],other[3]),this},Extent.prototype.bbox=function(){return this._valid?this._bbox:null},Extent.prototype.contains=function(ll){return this._valid?this._bbox[0]<=ll[0]&amp;&amp;this._bbox[1]<=ll[1]&amp;&amp;this._bbox[2]>=ll[0]&amp;&amp;this._bbox[3]>=ll[1]:null},Extent.prototype.polygon=function(){return this._valid?{type:&quot;Polygon&quot;,coordinates:[[[this._bbox[0],this._bbox[1]],[this._bbox[2],this._bbox[1]],[this._bbox[2],this._bbox[3]],[this._bbox[0],this._bbox[3]],[this._bbox[0],this._bbox[1]]]]}:null}},{}],3:[function(require,module){module.exports=function(list){function _flatten(list){return Array.isArray(list)&amp;&amp;list.length&amp;&amp;&quot;number&quot;==typeof list[0]?[list]:list.reduce(function(acc,item){return Array.isArray(item)&amp;&amp;Array.isArray(item[0])?acc.concat(_flatten(item)):(acc.push(item),acc)},[])}return _flatten(list)}},{}],4:[function(require,module){var geojsonNormalize=require(&quot;geojson-normalize&quot;),geojsonFlatten=require(&quot;geojson-flatten&quot;),flatten=require(&quot;./flatten&quot;);module.exports=function(_){if(!_)return[];var normalized=geojsonFlatten(geojsonNormalize(_)),coordinates=[];return normalized.features.forEach(function(feature){feature.geometry&amp;&amp;(coordinates=coordinates.concat(flatten(feature.geometry.coordinates)))}),coordinates}},{&quot;./flatten&quot;:3,&quot;geojson-flatten&quot;:5,&quot;geojson-normalize&quot;:6}],5:[function(require,module){function flatten(gj){switch(gj&amp;&amp;gj.type||null){case&quot;FeatureCollection&quot;:return gj.features=gj.features.reduce(function(mem,feature){return mem.concat(flatten(feature))},[]),gj;case&quot;Feature&quot;:return flatten(gj.geometry).map(function(geom){return{type:&quot;Feature&quot;,properties:JSON.parse(JSON.stringify(gj.properties)),geometry:geom}});case&quot;MultiPoint&quot;:return gj.coordinates.map(function(_){return{type:&quot;Point&quot;,coordinates:_}});case&quot;MultiPolygon&quot;:return gj.coordinates.map(function(_){return{type:&quot;Polygon&quot;,coordinates:_}});case&quot;MultiLineString&quot;:return gj.coordinates.map(function(_){return{type:&quot;LineString&quot;,coordinates:_}});case&quot;GeometryCollection&quot;:return gj.geometries;case&quot;Point&quot;:case&quot;Polygon&quot;:case&quot;LineString&quot;:return[gj];default:return gj}}module.exports=flatten},{}],6:[function(require,module){function normalize(gj){if(!gj||!gj.type)return null;var type=types[gj.type];return type?&quot;geometry&quot;===type?{type:&quot;FeatureCollection&quot;,features:[{type:&quot;Feature&quot;,properties:{},geometry:gj}]}:&quot;feature&quot;===type?{type:&quot;FeatureCollection&quot;,features:[gj]}:&quot;featurecollection&quot;===type?gj:void 0:null}module.exports=normalize;var types={Point:&quot;geometry&quot;,MultiPoint:&quot;geometry&quot;,LineString:&quot;geometry&quot;,MultiLineString:&quot;geometry&quot;,Polygon:&quot;geometry&quot;,MultiPolygon:&quot;geometry&quot;,GeometryCollection:&quot;geometry&quot;,Feature:&quot;feature&quot;,FeatureCollection:&quot;featurecollection&quot;}},{}],7:[function(require,module){function Traverse(obj){this.value=obj}function walk(root,cb,immutable){var path=[],parents=[],alive=!0;return function walker(node_){function updateState(){if(&quot;object&quot;==typeof state.node&amp;&amp;null!==state.node){state.keys&amp;&amp;state.node_===state.node||(state.keys=objectKeys(state.node)),state.isLeaf=0==state.keys.length;for(var i=0;i<parents.length;i++)if(parents[i].node_===node_){state.circular=parents[i];break}}else state.isLeaf=!0,state.keys=null;state.notLeaf=!state.isLeaf,state.notRoot=!state.isRoot}var node=immutable?copy(node_):node_,modifiers={},keepGoing=!0,state={node:node,node_:node_,path:[].concat(path),parent:parents[parents.length-1],parents:parents,key:path.slice(-1)[0],isRoot:0===path.length,level:path.length,circular:null,update:function(x,stopHere){state.isRoot||(state.parent.node[state.key]=x),state.node=x,stopHere&amp;&amp;(keepGoing=!1)},&quot;delete&quot;:function(stopHere){delete state.parent.node[state.key],stopHere&amp;&amp;(keepGoing=!1)},remove:function(stopHere){isArray(state.parent.node)?state.parent.node.splice(state.key,1):delete state.parent.node[state.key],stopHere&amp;&amp;(keepGoing=!1)},keys:null,before:function(f){modifiers.before=f},after:function(f){modifiers.after=f},pre:function(f){modifiers.pre=f},post:function(f){modifiers.post=f},stop:function(){alive=!1},block:function(){keepGoing=!1}};if(!alive)return state;updateState();var ret=cb.call(state,state.node);return void 0!==ret&amp;&amp;state.update&amp;&amp;state.update(ret),modifiers.before&amp;&amp;modifiers.before.call(state,state.node),keepGoing?(&quot;object&quot;!=typeof state.node||null===state.node||state.circular||(parents.push(state),updateState(),forEach(state.keys,function(key,i){path.push(key),modifiers.pre&amp;&amp;modifiers.pre.call(state,state.node[key],key);var child=walker(state.node[key]);immutable&amp;&amp;hasOwnProperty.call(state.node,key)&amp;&amp;(state.node[key]=child.node),child.isLast=i==state.keys.length-1,child.isFirst=0==i,modifiers.post&amp;&amp;modifiers.post.call(state,child),path.pop()}),parents.pop()),modifiers.after&amp;&amp;modifiers.after.call(state,state.node),state):state}(root).node}function copy(src){if(&quot;object&quot;==typeof src&amp;&amp;null!==src){var dst;if(isArray(src))dst=[];else if(isDate(src))dst=new Date(src.getTime?src.getTime():src);else if(isRegExp(src))dst=new RegExp(src);else if(isError(src))dst={message:src.message};else if(isBoolean(src))dst=new Boolean(src);else if(isNumber(src))dst=new Number(src);else if(isString(src))dst=new String(src);else if(Object.create&amp;&amp;Object.getPrototypeOf)dst=Object.create(Object.getPrototypeOf(src));else if(src.constructor===Object)dst={};else{var proto=src.constructor&amp;&amp;src.constructor.prototype||src.__proto__||{},T=function(){};T.prototype=proto,dst=new T}return forEach(objectKeys(src),function(key){dst[key]=src[key]}),dst}return src}function toS(obj){return Object.prototype.toString.call(obj)}function isDate(obj){return&quot;[object Date]&quot;===toS(obj)}function isRegExp(obj){return&quot;[object RegExp]&quot;===toS(obj)}function isError(obj){return&quot;[object Error]&quot;===toS(obj)}function isBoolean(obj){return&quot;[object Boolean]&quot;===toS(obj)}function isNumber(obj){return&quot;[object Number]&quot;===toS(obj)}function isString(obj){return&quot;[object String]&quot;===toS(obj)}var traverse=module.exports=function(obj){return new Traverse(obj)};Traverse.prototype.get=function(ps){for(var node=this.value,i=0;i<ps.length;i++){var key=ps[i];if(!node||!hasOwnProperty.call(node,key)){node=void 0;break}node=node[key]}return node},Traverse.prototype.has=function(ps){for(var node=this.value,i=0;i<ps.length;i++){var key=ps[i];if(!node||!hasOwnProperty.call(node,key))return!1;node=node[key]}return!0},Traverse.prototype.set=function(ps,value){for(var node=this.value,i=0;i<ps.length-1;i++){var key=ps[i];hasOwnProperty.call(node,key)||(node[key]={}),node=node[key]}return node[ps[i]]=value,value},Traverse.prototype.map=function(cb){return walk(this.value,cb,!0)},Traverse.prototype.forEach=function(cb){return this.value=walk(this.value,cb,!1),this.value},Traverse.prototype.reduce=function(cb,init){var skip=1===arguments.length,acc=skip?this.value:init;return this.forEach(function(x){this.isRoot&amp;&amp;skip||(acc=cb.call(this,acc,x))}),acc},Traverse.prototype.paths=function(){var acc=[];return this.forEach(function(){acc.push(this.path)}),acc},Traverse.prototype.nodes=function(){var acc=[];return this.forEach(function(){acc.push(this.node)}),acc},Traverse.prototype.clone=function(){var parents=[],nodes=[];return function clone(src){for(var i=0;i<parents.length;i++)if(parents[i]===src)return nodes[i];if(&quot;object&quot;==typeof src&amp;&amp;null!==src){var dst=copy(src);return parents.push(src),nodes.push(dst),forEach(objectKeys(src),function(key){dst[key]=clone(src[key])}),parents.pop(),nodes.pop(),dst}return src}(this.value)};var objectKeys=Object.keys||function(obj){var res=[];for(var key in obj)res.push(key);return res},isArray=Array.isArray||function(xs){return&quot;[object Array]&quot;===Object.prototype.toString.call(xs)},forEach=function(xs,fn){if(xs.forEach)return xs.forEach(fn);for(var i=0;i<xs.length;i++)fn(xs[i],i,xs)};forEach(objectKeys(Traverse.prototype),function(key){traverse[key]=function(obj){var args=[].slice.call(arguments,1),t=new Traverse(obj);return t[key].apply(t,args)}});var hasOwnProperty=Object.hasOwnProperty||function(obj,key){return key in obj}},{}]},{},[1])(1)});        var comment = &quot;&quot;;    mapboxgl.accessToken=&quot;pk.eyJ1IjoibWFwYm94IiwiYSI6ImNpejY4M29iazA2Z2gycXA4N2pmbDZmangifQ.-g_vE53SD2WrJ6tFX7QHmA&quot;;    var mapdata = null;    var map = new mapboxgl.Map({        container: &quot;map-50ee685e-65fb1f5c&quot;,        style: &quot;mapbox://styles/mapbox/light-v9&quot;    });    setTimeout(function(){        if (window.addPDMessageListener){            window.addPDMessageListener(function(event){                streamingLayer = map.getSource(&quot;streamingLayer&quot;);                if (streamingLayer){                    streamingLayer.setData(event.data.data);                }else{                    map.addLayer({                        &quot;id&quot;: &quot;streamingLayer&quot;,                        &quot;maptype&quot;: &quot;mapbox&quot;,                        &quot;type&quot;: event.data.type,                        &quot;source&quot;: { type: &quot;geojson&quot;, data: event.data.data },                        &quot;layout&quot;: event.data.layout || {},                        &quot;paint&quot;: event.data.paint || {}                    });                    if (event.data.fitbounds &amp;&amp; event.data.data.features){                        function updateBounds(res, ar){                            if (ar[0].length >=2 &amp;&amp; ar[1].length >= 2 ){                                if (!res){                                    return ar;                                }                                return [                                     [Math.min( ar[0][0]-0.1, res[0][0]), Math.min( ar[0][1]-0.1, res[0][1])],                                    [Math.max( ar[1][0]+0.1, res[1][0]), Math.max( ar[1][1]+0.1, res[1][1])]                                ]                            }                            return null;                        }                        var bbox = event.data.data.features.reduce(function(res, value){                            var coord = value.geometry.coordinates;                            if (coord.length >= 2 ){                                res = updateBounds( res, [coord[0], coord[1]]);                            }                            return res;                        }, null);                        if (bbox){                            map.fitBounds(bbox);                        }                    }                }            });        };    },100);    var popup = new mapboxgl.Popup({closeButton: false,closeOnClick: true});    function divineGeometryType(mapdata) {        comment = &quot;check type of first geometry. Later expand to check all geometries and make a good decision&quot;;        return mapdata.features[0].geometry.type;    }        map.on(&quot;mousemove&quot;, function (e) {        var fs = map.queryRenderedFeatures(e.point,{layers:[&quot;pxlayer&quot;]});        if (!fs || !fs.length) {popup.remove();return;};        popuphtml = &quot;&quot;;        var hr = false;        fs.forEach(function(f){            if (hr){                 popuphtml += &quot;<hr>\\n&quot;;            }            hr=true;            popuphtml += &quot;<h3>&quot;+f.layer.id.toUpperCase()+&quot;</h3>\\n&quot;;            var keylength = Object.keys(f.properties).length;            for (var key in f.properties) {                popuphtml += &quot;<b>&quot;+key+&quot;: </b> &quot;+f.properties[key]+&quot;<br/>\\n&quot;;            }        });        popup.setLngLat(e.lngLat).setHTML(popuphtml).addTo(map);    });        map.on(&quot;click&quot;, function (e) {        var fs = map.queryRenderedFeatures(e.point, { layers: [&quot;pxlayer&quot;] });        if (fs &amp;&amp; fs.length) {            var f = fs[0];            console.log(&quot;clicked&quot;, f);            var keylength = Object.keys(f.properties).length;            var payload = {type:&quot;select&quot;, targetDivId: &quot;&quot; };            for (var key in f.properties) {                payload[key] = f.properties[key];            }            if (window.triggerPDEvent) {                window.triggerPDEvent(payload);            }        }    });            map.on(&quot;load&quot;, function() {                mapdata={&quot;type&quot;: &quot;FeatureCollection&quot;, &quot;features&quot;: [{&quot;geometry&quot;: {&quot;type&quot;: &quot;Point&quot;, &quot;coordinates&quot;: [-99.12766, 19.42847]}, &quot;type&quot;: &quot;Feature&quot;, &quot;properties&quot;: {&quot;population&quot;: 12294193}}, {&quot;geometry&quot;: {&quot;type&quot;: &quot;Point&quot;, &quot;coordinates&quot;: [-76.72774, 39.9626]}, &quot;type&quot;: &quot;Feature&quot;, &quot;properties&quot;: {&quot;population&quot;: 43718}}, {&quot;geometry&quot;: {&quot;type&quot;: &quot;Point&quot;, &quot;coordinates&quot;: [0.99774, 52.18893]}, &quot;type&quot;: &quot;Feature&quot;, &quot;properties&quot;: {&quot;population&quot;: 15394}}]};        geomtype = divineGeometryType(mapdata);                    var ds = {                &quot;type&quot;:&quot;geojson&quot;,                &quot;data&quot;:mapdata            };            var clusterme = false;            if (geomtype.substr(-5,5) == &quot;Point&quot;) {                                    clusterme = true;                    ds[&quot;cluster&quot;] = true;                    ds[&quot;clusterMaxZoom&quot;] = 14;                    ds[&quot;clusterRadius&quot;] = 20;                    console.log(&quot;IM CLUSTERED&quot;);                            }            map.addSource(&quot;pxdatasource&quot;, ds);            var maplayertype = &quot;circle&quot;;            if (geomtype.substr(-7,7) == &quot;Polygon&quot;)                 maplayertype = &quot;fill&quot;;            else if (geomtype.substr(-10,10) == &quot;LineString&quot;)                maplayertype = &quot;line&quot;;            map.addLayer({                &quot;id&quot;:&quot;pxlayer&quot;,                &quot;type&quot;:maplayertype,                 &quot;source&quot;: &quot;pxdatasource&quot;,                 &quot;paint&quot;: {&quot;circle-color&quot;: {&quot;property&quot;: &quot;population&quot;, &quot;stops&quot;: [[15394, &quot;#ffffcc&quot;], [29556.0, &quot;#a1dab4&quot;], [43718.0, &quot;#41b6c4&quot;], [6168955.5, &quot;#2c7fb8&quot;], [12294193, &quot;#253494&quot;]]}, &quot;circle-opacity&quot;: 0.25, &quot;circle-radius&quot;: 12}            });                        if (clusterme &amp;&amp; geomtype.substr(-5,5) == &quot;Point&quot;) {                map.addLayer({                    &quot;id&quot;: &quot;cluster-count-labels&quot;,                     &quot;type&quot;: &quot;symbol&quot;,                     &quot;source&quot;: &quot;pxdatasource&quot;,                     &quot;paint&quot;: {                        &quot;text-color&quot;: &quot;#FFF&quot;                    },                    &quot;layout&quot;: {                        &quot;text-field&quot;: &quot;{point_count}&quot;,                         &quot;text-font&quot;: [                            &quot;DIN Offc Pro Medium&quot;,                             &quot;Arial Unicode MS Bold&quot;                        ],                        &quot;text-size&quot;: 12                    }                });            }                        comment = &quot;Add user layers&quot;;        var layers = [];                layers.sort(function(a,b) {            return a[1] - b[1];        });        for (layersi=layers.length-1; layersi>=0; layersi--) {            map.addLayer(layers[layersi][0]);            comment = &quot;User layer legend&quot;;                    }                map.fitBounds([[-99.12766, 19.42847], [0.99774, 52.18893]]);                    });</script></body></html>\" onload=\"iframeLoaded(this)\"></iframe>\n",
       "\n",
       "        </div>\n",
       "    "
      ],
      "text/plain": [
       "<IPython.core.display.HTML object>"
      ]
     },
     "metadata": {},
     "output_type": "display_data"
    }
   ],
   "source": [
    "%%node\n",
    "cities.get(['4562407','2636749','3530597']).then(display).catch(print);"
   ]
  },
  {
   "cell_type": "markdown",
   "metadata": {},
   "source": [
    "We can also query a subset of the data using the `query` function, passing it a Cloudant Query statement:"
   ]
  },
  {
   "cell_type": "code",
   "execution_count": 27,
   "metadata": {
    "collapsed": false,
    "pixiedust": {
     "displayParams": {
      "handlerId": "mapView",
      "keyFields": "latitude,longitude",
      "mapboxtoken": "pk.eyJ1IjoibWFwYm94IiwiYSI6ImNpejY4M29iazA2Z2gycXA4N2pmbDZmangifQ.-g_vE53SD2WrJ6tFX7QHmA",
      "rowCount": "500"
     }
    },
    "scrolled": true
   },
   "outputs": [
    {
     "data": {
      "text/html": [
       "<style type=\"text/css\">.pd_warning{display:none;}</style><div class=\"pd_warning\"><em>Hey, there's something awesome here! To see it, open this notebook outside GitHub, in a viewer like Jupyter</em></div>\n",
       "        <div class=\"pd_save is-viewer-good\" style=\"padding-right:10px;text-align: center;line-height:initial !important;font-size: xx-large;font-weight: 500;color: coral;\">\n",
       "            \n",
       "        </div>\n",
       "    <div id=\"chartFigureae0ed665\" class=\"pd_save is-viewer-good\" style=\"overflow-x:auto\">\n",
       "            <script>\n",
       "  window.iframeLoaded = window.iframeLoaded || function(iframe) {\n",
       "    try {\n",
       "      iframe.contentWindow.pdMessageListeners = [];\n",
       "      iframe.contentWindow[\"addPDMessageListener\"] = function(listener){\n",
       "        iframe.contentWindow.pdMessageListeners.push(listener);\n",
       "      }\n",
       "      iframe.contentWindow.addEventListener(\"message\", function(event){\n",
       "        iframe.contentWindow.pdMessageListeners.forEach(function(listener){\n",
       "          listener(event);\n",
       "        });\n",
       "      }, false);\n",
       "      iframe.contentWindow.ready = true;\n",
       "      iframe.contentWindow[\"triggerPDEvent\"] = function(eventInfo) {\n",
       "        $(document).trigger('pd_event', eventInfo);\n",
       "      }\n",
       "    } catch (e) {\n",
       "      console.log(e)\n",
       "    }\n",
       "  }\n",
       "\n",
       "  \n",
       "</script>\n",
       "<iframe id=\"mapframeae0ed665\" style=\"width:878.4px;height:500px\" srcdoc=\"<!DOCTYPE html><html lang=&quot;en&quot;><head>    <meta charset=&quot;UTF-8&quot;>    <meta name=&quot;viewport&quot; content=&quot;width=device-width, initial-scale=1&quot;>    <title>Pixiedust Mapbox map</title>    <script src=&quot;https://api.tiles.mapbox.com/mapbox-gl-js/v0.32.1/mapbox-gl.js&quot;></script>    <link href=&quot;https://api.tiles.mapbox.com/mapbox-gl-js/v0.32.1/mapbox-gl.css&quot; rel=&quot;stylesheet&quot; />    <style>    .mapboxgl-popup-content h3 {         margin: 2px 0 2px 0;        font-style: italic;    }    .mapboxgl-popup {        max-width: 200px;    }    #map canvas {        cursor: crosshair;    }    .legend {        background-color: rgba(255,255,255, 0.75);        border-radius: 3px;        position: absolute;        left: 14px;        top: 14px;        box-shadow: 0 1px 2px rgba(0,0,0,0.10);        font-size: 12px;        line-height: 18px;        padding: 10px;        z-index: 1;    }    .legend h4 {        margin: 0 0 10px;    }    .legend div span {        border-radius: 50%;        display: inline-block;        height: 10px;        margin-right: 5px;        width: 10px;    }    body {         background-color:#333;         margin:0px !important;         overflow: hidden;        font-family: &quot;Helvetica Neue&quot;, Arial, Helvetica, sans-serif;    }    </style></head><body><div id=&quot;map-ae0ed665-34d3e557&quot; style=&quot;width:calc(878.4px - 4px);height:calc(500px - 4px)&quot; ></div><script>    !function(e){if(&quot;object&quot;==typeof exports&amp;&amp;&quot;undefined&quot;!=typeof module)module.exports=e();else if(&quot;function&quot;==typeof define&amp;&amp;define.amd)define([],e);else{var n;&quot;undefined&quot;!=typeof window?n=window:&quot;undefined&quot;!=typeof global?n=global:&quot;undefined&quot;!=typeof self&amp;&amp;(n=self),n.geojsonExtent=e()}}(function(){return function e(t,n,r){function s(o,u){if(!n[o]){if(!t[o]){var a=&quot;function&quot;==typeof require&amp;&amp;require;if(!u&amp;&amp;a)return a(o,!0);if(i)return i(o,!0);var f=new Error(&quot;Cannot find module &quot;+o+&quot;&quot;);throw f.code=&quot;MODULE_NOT_FOUND&quot;,f}var l=n[o]={exports:{}};t[o][0].call(l.exports,function(e){var n=t[o][1][e];return s(n?n:e)},l,l.exports,e,t,n,r)}return n[o].exports}for(var i=&quot;function&quot;==typeof require&amp;&amp;require,o=0;o<r.length;o++)s(r[o]);return s}({1:[function(require,module){function getExtent(_){for(var ext=extent(),coords=geojsonCoords(_),i=0;i<coords.length;i++)ext.include(coords[i]);return ext}var geojsonCoords=require(&quot;geojson-coords&quot;),traverse=require(&quot;traverse&quot;),extent=require(&quot;extent&quot;),geojsonTypes=[&quot;Point&quot;,&quot;MultiPoint&quot;,&quot;LineString&quot;,&quot;MultiLineString&quot;,&quot;Polygon&quot;,&quot;MultiPolygon&quot;,&quot;Feature&quot;,&quot;FeatureCollection&quot;,&quot;GeometryCollection&quot;];module.exports=function(_){return getExtent(_).bbox()},module.exports.polygon=function(_){return getExtent(_).polygon()},module.exports.bboxify=function(_){return traverse(_).map(function(value){value&amp;&amp;-1!==typeof geojsonTypes.indexOf(value.type)&amp;&amp;(console.log(value.type,value),value.bbox=getExtent(value).bbox(),this.update(value))})}},{extent:2,&quot;geojson-coords&quot;:4,traverse:7}],2:[function(require,module){function Extent(){return this instanceof Extent?(this._bbox=[1/0,1/0,-(1/0),-(1/0)],void(this._valid=!1)):new Extent}module.exports=Extent,Extent.prototype.include=function(ll){return this._valid=!0,this._bbox[0]=Math.min(this._bbox[0],ll[0]),this._bbox[1]=Math.min(this._bbox[1],ll[1]),this._bbox[2]=Math.max(this._bbox[2],ll[0]),this._bbox[3]=Math.max(this._bbox[3],ll[1]),this},Extent.prototype.union=function(other){return this._valid=!0,this._bbox[0]=Math.min(this._bbox[0],other[0]),this._bbox[1]=Math.min(this._bbox[1],other[1]),this._bbox[2]=Math.max(this._bbox[2],other[2]),this._bbox[3]=Math.max(this._bbox[3],other[3]),this},Extent.prototype.bbox=function(){return this._valid?this._bbox:null},Extent.prototype.contains=function(ll){return this._valid?this._bbox[0]<=ll[0]&amp;&amp;this._bbox[1]<=ll[1]&amp;&amp;this._bbox[2]>=ll[0]&amp;&amp;this._bbox[3]>=ll[1]:null},Extent.prototype.polygon=function(){return this._valid?{type:&quot;Polygon&quot;,coordinates:[[[this._bbox[0],this._bbox[1]],[this._bbox[2],this._bbox[1]],[this._bbox[2],this._bbox[3]],[this._bbox[0],this._bbox[3]],[this._bbox[0],this._bbox[1]]]]}:null}},{}],3:[function(require,module){module.exports=function(list){function _flatten(list){return Array.isArray(list)&amp;&amp;list.length&amp;&amp;&quot;number&quot;==typeof list[0]?[list]:list.reduce(function(acc,item){return Array.isArray(item)&amp;&amp;Array.isArray(item[0])?acc.concat(_flatten(item)):(acc.push(item),acc)},[])}return _flatten(list)}},{}],4:[function(require,module){var geojsonNormalize=require(&quot;geojson-normalize&quot;),geojsonFlatten=require(&quot;geojson-flatten&quot;),flatten=require(&quot;./flatten&quot;);module.exports=function(_){if(!_)return[];var normalized=geojsonFlatten(geojsonNormalize(_)),coordinates=[];return normalized.features.forEach(function(feature){feature.geometry&amp;&amp;(coordinates=coordinates.concat(flatten(feature.geometry.coordinates)))}),coordinates}},{&quot;./flatten&quot;:3,&quot;geojson-flatten&quot;:5,&quot;geojson-normalize&quot;:6}],5:[function(require,module){function flatten(gj){switch(gj&amp;&amp;gj.type||null){case&quot;FeatureCollection&quot;:return gj.features=gj.features.reduce(function(mem,feature){return mem.concat(flatten(feature))},[]),gj;case&quot;Feature&quot;:return flatten(gj.geometry).map(function(geom){return{type:&quot;Feature&quot;,properties:JSON.parse(JSON.stringify(gj.properties)),geometry:geom}});case&quot;MultiPoint&quot;:return gj.coordinates.map(function(_){return{type:&quot;Point&quot;,coordinates:_}});case&quot;MultiPolygon&quot;:return gj.coordinates.map(function(_){return{type:&quot;Polygon&quot;,coordinates:_}});case&quot;MultiLineString&quot;:return gj.coordinates.map(function(_){return{type:&quot;LineString&quot;,coordinates:_}});case&quot;GeometryCollection&quot;:return gj.geometries;case&quot;Point&quot;:case&quot;Polygon&quot;:case&quot;LineString&quot;:return[gj];default:return gj}}module.exports=flatten},{}],6:[function(require,module){function normalize(gj){if(!gj||!gj.type)return null;var type=types[gj.type];return type?&quot;geometry&quot;===type?{type:&quot;FeatureCollection&quot;,features:[{type:&quot;Feature&quot;,properties:{},geometry:gj}]}:&quot;feature&quot;===type?{type:&quot;FeatureCollection&quot;,features:[gj]}:&quot;featurecollection&quot;===type?gj:void 0:null}module.exports=normalize;var types={Point:&quot;geometry&quot;,MultiPoint:&quot;geometry&quot;,LineString:&quot;geometry&quot;,MultiLineString:&quot;geometry&quot;,Polygon:&quot;geometry&quot;,MultiPolygon:&quot;geometry&quot;,GeometryCollection:&quot;geometry&quot;,Feature:&quot;feature&quot;,FeatureCollection:&quot;featurecollection&quot;}},{}],7:[function(require,module){function Traverse(obj){this.value=obj}function walk(root,cb,immutable){var path=[],parents=[],alive=!0;return function walker(node_){function updateState(){if(&quot;object&quot;==typeof state.node&amp;&amp;null!==state.node){state.keys&amp;&amp;state.node_===state.node||(state.keys=objectKeys(state.node)),state.isLeaf=0==state.keys.length;for(var i=0;i<parents.length;i++)if(parents[i].node_===node_){state.circular=parents[i];break}}else state.isLeaf=!0,state.keys=null;state.notLeaf=!state.isLeaf,state.notRoot=!state.isRoot}var node=immutable?copy(node_):node_,modifiers={},keepGoing=!0,state={node:node,node_:node_,path:[].concat(path),parent:parents[parents.length-1],parents:parents,key:path.slice(-1)[0],isRoot:0===path.length,level:path.length,circular:null,update:function(x,stopHere){state.isRoot||(state.parent.node[state.key]=x),state.node=x,stopHere&amp;&amp;(keepGoing=!1)},&quot;delete&quot;:function(stopHere){delete state.parent.node[state.key],stopHere&amp;&amp;(keepGoing=!1)},remove:function(stopHere){isArray(state.parent.node)?state.parent.node.splice(state.key,1):delete state.parent.node[state.key],stopHere&amp;&amp;(keepGoing=!1)},keys:null,before:function(f){modifiers.before=f},after:function(f){modifiers.after=f},pre:function(f){modifiers.pre=f},post:function(f){modifiers.post=f},stop:function(){alive=!1},block:function(){keepGoing=!1}};if(!alive)return state;updateState();var ret=cb.call(state,state.node);return void 0!==ret&amp;&amp;state.update&amp;&amp;state.update(ret),modifiers.before&amp;&amp;modifiers.before.call(state,state.node),keepGoing?(&quot;object&quot;!=typeof state.node||null===state.node||state.circular||(parents.push(state),updateState(),forEach(state.keys,function(key,i){path.push(key),modifiers.pre&amp;&amp;modifiers.pre.call(state,state.node[key],key);var child=walker(state.node[key]);immutable&amp;&amp;hasOwnProperty.call(state.node,key)&amp;&amp;(state.node[key]=child.node),child.isLast=i==state.keys.length-1,child.isFirst=0==i,modifiers.post&amp;&amp;modifiers.post.call(state,child),path.pop()}),parents.pop()),modifiers.after&amp;&amp;modifiers.after.call(state,state.node),state):state}(root).node}function copy(src){if(&quot;object&quot;==typeof src&amp;&amp;null!==src){var dst;if(isArray(src))dst=[];else if(isDate(src))dst=new Date(src.getTime?src.getTime():src);else if(isRegExp(src))dst=new RegExp(src);else if(isError(src))dst={message:src.message};else if(isBoolean(src))dst=new Boolean(src);else if(isNumber(src))dst=new Number(src);else if(isString(src))dst=new String(src);else if(Object.create&amp;&amp;Object.getPrototypeOf)dst=Object.create(Object.getPrototypeOf(src));else if(src.constructor===Object)dst={};else{var proto=src.constructor&amp;&amp;src.constructor.prototype||src.__proto__||{},T=function(){};T.prototype=proto,dst=new T}return forEach(objectKeys(src),function(key){dst[key]=src[key]}),dst}return src}function toS(obj){return Object.prototype.toString.call(obj)}function isDate(obj){return&quot;[object Date]&quot;===toS(obj)}function isRegExp(obj){return&quot;[object RegExp]&quot;===toS(obj)}function isError(obj){return&quot;[object Error]&quot;===toS(obj)}function isBoolean(obj){return&quot;[object Boolean]&quot;===toS(obj)}function isNumber(obj){return&quot;[object Number]&quot;===toS(obj)}function isString(obj){return&quot;[object String]&quot;===toS(obj)}var traverse=module.exports=function(obj){return new Traverse(obj)};Traverse.prototype.get=function(ps){for(var node=this.value,i=0;i<ps.length;i++){var key=ps[i];if(!node||!hasOwnProperty.call(node,key)){node=void 0;break}node=node[key]}return node},Traverse.prototype.has=function(ps){for(var node=this.value,i=0;i<ps.length;i++){var key=ps[i];if(!node||!hasOwnProperty.call(node,key))return!1;node=node[key]}return!0},Traverse.prototype.set=function(ps,value){for(var node=this.value,i=0;i<ps.length-1;i++){var key=ps[i];hasOwnProperty.call(node,key)||(node[key]={}),node=node[key]}return node[ps[i]]=value,value},Traverse.prototype.map=function(cb){return walk(this.value,cb,!0)},Traverse.prototype.forEach=function(cb){return this.value=walk(this.value,cb,!1),this.value},Traverse.prototype.reduce=function(cb,init){var skip=1===arguments.length,acc=skip?this.value:init;return this.forEach(function(x){this.isRoot&amp;&amp;skip||(acc=cb.call(this,acc,x))}),acc},Traverse.prototype.paths=function(){var acc=[];return this.forEach(function(){acc.push(this.path)}),acc},Traverse.prototype.nodes=function(){var acc=[];return this.forEach(function(){acc.push(this.node)}),acc},Traverse.prototype.clone=function(){var parents=[],nodes=[];return function clone(src){for(var i=0;i<parents.length;i++)if(parents[i]===src)return nodes[i];if(&quot;object&quot;==typeof src&amp;&amp;null!==src){var dst=copy(src);return parents.push(src),nodes.push(dst),forEach(objectKeys(src),function(key){dst[key]=clone(src[key])}),parents.pop(),nodes.pop(),dst}return src}(this.value)};var objectKeys=Object.keys||function(obj){var res=[];for(var key in obj)res.push(key);return res},isArray=Array.isArray||function(xs){return&quot;[object Array]&quot;===Object.prototype.toString.call(xs)},forEach=function(xs,fn){if(xs.forEach)return xs.forEach(fn);for(var i=0;i<xs.length;i++)fn(xs[i],i,xs)};forEach(objectKeys(Traverse.prototype),function(key){traverse[key]=function(obj){var args=[].slice.call(arguments,1),t=new Traverse(obj);return t[key].apply(t,args)}});var hasOwnProperty=Object.hasOwnProperty||function(obj,key){return key in obj}},{}]},{},[1])(1)});        var comment = &quot;&quot;;    mapboxgl.accessToken=&quot;pk.eyJ1IjoibWFwYm94IiwiYSI6ImNpejY4M29iazA2Z2gycXA4N2pmbDZmangifQ.-g_vE53SD2WrJ6tFX7QHmA&quot;;    var mapdata = null;    var map = new mapboxgl.Map({        container: &quot;map-ae0ed665-34d3e557&quot;,        style: &quot;mapbox://styles/mapbox/light-v9&quot;    });    setTimeout(function(){        if (window.addPDMessageListener){            window.addPDMessageListener(function(event){                streamingLayer = map.getSource(&quot;streamingLayer&quot;);                if (streamingLayer){                    streamingLayer.setData(event.data.data);                }else{                    map.addLayer({                        &quot;id&quot;: &quot;streamingLayer&quot;,                        &quot;maptype&quot;: &quot;mapbox&quot;,                        &quot;type&quot;: event.data.type,                        &quot;source&quot;: { type: &quot;geojson&quot;, data: event.data.data },                        &quot;layout&quot;: event.data.layout || {},                        &quot;paint&quot;: event.data.paint || {}                    });                    if (event.data.fitbounds &amp;&amp; event.data.data.features){                        function updateBounds(res, ar){                            if (ar[0].length >=2 &amp;&amp; ar[1].length >= 2 ){                                if (!res){                                    return ar;                                }                                return [                                     [Math.min( ar[0][0]-0.1, res[0][0]), Math.min( ar[0][1]-0.1, res[0][1])],                                    [Math.max( ar[1][0]+0.1, res[1][0]), Math.max( ar[1][1]+0.1, res[1][1])]                                ]                            }                            return null;                        }                        var bbox = event.data.data.features.reduce(function(res, value){                            var coord = value.geometry.coordinates;                            if (coord.length >= 2 ){                                res = updateBounds( res, [coord[0], coord[1]]);                            }                            return res;                        }, null);                        if (bbox){                            map.fitBounds(bbox);                        }                    }                }            });        };    },100);    var popup = new mapboxgl.Popup({closeButton: false,closeOnClick: true});    function divineGeometryType(mapdata) {        comment = &quot;check type of first geometry. Later expand to check all geometries and make a good decision&quot;;        return mapdata.features[0].geometry.type;    }        map.on(&quot;mousemove&quot;, function (e) {        var fs = map.queryRenderedFeatures(e.point,{layers:[&quot;pxlayer&quot;]});        if (!fs || !fs.length) {popup.remove();return;};        popuphtml = &quot;&quot;;        var hr = false;        fs.forEach(function(f){            if (hr){                 popuphtml += &quot;<hr>\\n&quot;;            }            hr=true;            popuphtml += &quot;<h3>&quot;+f.layer.id.toUpperCase()+&quot;</h3>\\n&quot;;            var keylength = Object.keys(f.properties).length;            for (var key in f.properties) {                popuphtml += &quot;<b>&quot;+key+&quot;: </b> &quot;+f.properties[key]+&quot;<br/>\\n&quot;;            }        });        popup.setLngLat(e.lngLat).setHTML(popuphtml).addTo(map);    });        map.on(&quot;click&quot;, function (e) {        var fs = map.queryRenderedFeatures(e.point, { layers: [&quot;pxlayer&quot;] });        if (fs &amp;&amp; fs.length) {            var f = fs[0];            console.log(&quot;clicked&quot;, f);            var keylength = Object.keys(f.properties).length;            var payload = {type:&quot;select&quot;, targetDivId: &quot;&quot; };            for (var key in f.properties) {                payload[key] = f.properties[key];            }            if (window.triggerPDEvent) {                window.triggerPDEvent(payload);            }        }    });            map.on(&quot;load&quot;, function() {                mapdata={&quot;type&quot;: &quot;FeatureCollection&quot;, &quot;features&quot;: [{&quot;geometry&quot;: {&quot;type&quot;: &quot;Point&quot;, &quot;coordinates&quot;: [-2.79988, 54.04649]}, &quot;type&quot;: &quot;Feature&quot;, &quot;properties&quot;: {&quot;pd_count&quot;: 1}}, {&quot;geometry&quot;: {&quot;type&quot;: &quot;Point&quot;, &quot;coordinates&quot;: [-2.86108, 54.06835]}, &quot;type&quot;: &quot;Feature&quot;, &quot;properties&quot;: {&quot;pd_count&quot;: 1}}, {&quot;geometry&quot;: {&quot;type&quot;: &quot;Point&quot;, &quot;coordinates&quot;: [-0.19192, 54.08306]}, &quot;type&quot;: &quot;Feature&quot;, &quot;properties&quot;: {&quot;pd_count&quot;: 1}}, {&quot;geometry&quot;: {&quot;type&quot;: &quot;Point&quot;, &quot;coordinates&quot;: [-1.52826, 54.13579]}, &quot;type&quot;: &quot;Feature&quot;, &quot;properties&quot;: {&quot;pd_count&quot;: 1}}, {&quot;geometry&quot;: {&quot;type&quot;: &quot;Point&quot;, &quot;coordinates&quot;: [-6.33739, 54.17841]}, &quot;type&quot;: &quot;Feature&quot;, &quot;properties&quot;: {&quot;pd_count&quot;: 1}}, {&quot;geometry&quot;: {&quot;type&quot;: &quot;Point&quot;, &quot;coordinates&quot;: [-0.40443, 54.27966]}, &quot;type&quot;: &quot;Feature&quot;, &quot;properties&quot;: {&quot;pd_count&quot;: 1}}, {&quot;geometry&quot;: {&quot;type&quot;: &quot;Point&quot;, &quot;coordinates&quot;: [-2.74757, 54.32681]}, &quot;type&quot;: &quot;Feature&quot;, &quot;properties&quot;: {&quot;pd_count&quot;: 1}}, {&quot;geometry&quot;: {&quot;type&quot;: &quot;Point&quot;, &quot;coordinates&quot;: [-1.43243, 54.33901]}, &quot;type&quot;: &quot;Feature&quot;, &quot;properties&quot;: {&quot;pd_count&quot;: 1}}, {&quot;geometry&quot;: {&quot;type&quot;: &quot;Point&quot;, &quot;coordinates&quot;: [-6.44434, 54.42302]}, &quot;type&quot;: &quot;Feature&quot;, &quot;properties&quot;: {&quot;pd_count&quot;: 1}}, {&quot;geometry&quot;: {&quot;type&quot;: &quot;Point&quot;, &quot;coordinates&quot;: [-6.03527, 54.52337]}, &quot;type&quot;: &quot;Feature&quot;, &quot;properties&quot;: {&quot;pd_count&quot;: 1}}, {&quot;geometry&quot;: {&quot;type&quot;: &quot;Point&quot;, &quot;coordinates&quot;: [-1.55039, 54.52429]}, &quot;type&quot;: &quot;Feature&quot;, &quot;properties&quot;: {&quot;pd_count&quot;: 1}}, {&quot;geometry&quot;: {&quot;type&quot;: &quot;Point&quot;, &quot;coordinates&quot;: [-1.3, 54.53333]}, &quot;type&quot;: &quot;Feature&quot;, &quot;properties&quot;: {&quot;pd_count&quot;: 1}}, {&quot;geometry&quot;: {&quot;type&quot;: &quot;Point&quot;, &quot;coordinates&quot;: [-1.05606, 54.53478]}, &quot;type&quot;: &quot;Feature&quot;, &quot;properties&quot;: {&quot;pd_count&quot;: 1}}, {&quot;geometry&quot;: {&quot;type&quot;: &quot;Point&quot;, &quot;coordinates&quot;: [-3.58412, 54.54897]}, &quot;type&quot;: &quot;Feature&quot;, &quot;properties&quot;: {&quot;pd_count&quot;: 1}}, {&quot;geometry&quot;: {&quot;type&quot;: &quot;Point&quot;, &quot;coordinates&quot;: [-1.3187, 54.56848]}, &quot;type&quot;: &quot;Feature&quot;, &quot;properties&quot;: {&quot;pd_count&quot;: 1}}, {&quot;geometry&quot;: {&quot;type&quot;: &quot;Point&quot;, &quot;coordinates&quot;: [-5.88472, 54.5735]}, &quot;type&quot;: &quot;Feature&quot;, &quot;properties&quot;: {&quot;pd_count&quot;: 1}}, {&quot;geometry&quot;: {&quot;type&quot;: &quot;Point&quot;, &quot;coordinates&quot;: [-1.23483, 54.57623]}, &quot;type&quot;: &quot;Feature&quot;, &quot;properties&quot;: {&quot;pd_count&quot;: 1}}, {&quot;geometry&quot;: {&quot;type&quot;: &quot;Point&quot;, &quot;coordinates&quot;: [-1.29034, 54.58881]}, &quot;type&quot;: &quot;Feature&quot;, &quot;properties&quot;: {&quot;pd_count&quot;: 1}}, {&quot;geometry&quot;: {&quot;type&quot;: &quot;Point&quot;, &quot;coordinates&quot;: [-5.69092, 54.59236]}, &quot;type&quot;: &quot;Feature&quot;, &quot;properties&quot;: {&quot;pd_count&quot;: 1}}, {&quot;geometry&quot;: {&quot;type&quot;: &quot;Point&quot;, &quot;coordinates&quot;: [-7.3, 54.6]}, &quot;type&quot;: &quot;Feature&quot;, &quot;properties&quot;: {&quot;pd_count&quot;: 1}}, {&quot;geometry&quot;: {&quot;type&quot;: &quot;Point&quot;, &quot;coordinates&quot;: [-1.05999, 54.61657]}, &quot;type&quot;: &quot;Feature&quot;, &quot;properties&quot;: {&quot;pd_count&quot;: 1}}, {&quot;geometry&quot;: {&quot;type&quot;: &quot;Point&quot;, &quot;coordinates&quot;: [-1.5719, 54.61842]}, &quot;type&quot;: &quot;Feature&quot;, &quot;properties&quot;: {&quot;pd_count&quot;: 1}}, {&quot;geometry&quot;: {&quot;type&quot;: &quot;Point&quot;, &quot;coordinates&quot;: [-3.54413, 54.6425]}, &quot;type&quot;: &quot;Feature&quot;, &quot;properties&quot;: {&quot;pd_count&quot;: 1}}, {&quot;geometry&quot;: {&quot;type&quot;: &quot;Point&quot;, &quot;coordinates&quot;: [-1.67706, 54.65554]}, &quot;type&quot;: &quot;Feature&quot;, &quot;properties&quot;: {&quot;pd_count&quot;: 1}}, {&quot;geometry&quot;: {&quot;type&quot;: &quot;Point&quot;, &quot;coordinates&quot;: [-5.90858, 54.65983]}, &quot;type&quot;: &quot;Feature&quot;, &quot;properties&quot;: {&quot;pd_count&quot;: 1}}, {&quot;geometry&quot;: {&quot;type&quot;: &quot;Point&quot;, &quot;coordinates&quot;: [-1.2125, 54.68611]}, &quot;type&quot;: &quot;Feature&quot;, &quot;properties&quot;: {&quot;pd_count&quot;: 1}}, {&quot;geometry&quot;: {&quot;type&quot;: &quot;Point&quot;, &quot;coordinates&quot;: [-1.60229, 54.6988]}, &quot;type&quot;: &quot;Feature&quot;, &quot;properties&quot;: {&quot;pd_count&quot;: 1}}, {&quot;geometry&quot;: {&quot;type&quot;: &quot;Point&quot;, &quot;coordinates&quot;: [-5.8058, 54.7158]}, &quot;type&quot;: &quot;Feature&quot;, &quot;properties&quot;: {&quot;pd_count&quot;: 1}}, {&quot;geometry&quot;: {&quot;type&quot;: &quot;Point&quot;, &quot;coordinates&quot;: [-1.33649, 54.76032]}, &quot;type&quot;: &quot;Feature&quot;, &quot;properties&quot;: {&quot;pd_count&quot;: 1}}, {&quot;geometry&quot;: {&quot;type&quot;: &quot;Point&quot;, &quot;coordinates&quot;: [-1.57566, 54.77676]}, &quot;type&quot;: &quot;Feature&quot;, &quot;properties&quot;: {&quot;pd_count&quot;: 1}}, {&quot;geometry&quot;: {&quot;type&quot;: &quot;Point&quot;, &quot;coordinates&quot;: [-1.34575, 54.83903]}, &quot;type&quot;: &quot;Feature&quot;, &quot;properties&quot;: {&quot;pd_count&quot;: 1}}, {&quot;geometry&quot;: {&quot;type&quot;: &quot;Point&quot;, &quot;coordinates&quot;: [-1.46427, 54.84034]}, &quot;type&quot;: &quot;Feature&quot;, &quot;properties&quot;: {&quot;pd_count&quot;: 1}}, {&quot;geometry&quot;: {&quot;type&quot;: &quot;Point&quot;, &quot;coordinates&quot;: [-5.81667, 54.85]}, &quot;type&quot;: &quot;Feature&quot;, &quot;properties&quot;: {&quot;pd_count&quot;: 1}}, {&quot;geometry&quot;: {&quot;type&quot;: &quot;Point&quot;, &quot;coordinates&quot;: [-1.8316, 54.85404]}, &quot;type&quot;: &quot;Feature&quot;, &quot;properties&quot;: {&quot;pd_count&quot;: 1}}, {&quot;geometry&quot;: {&quot;type&quot;: &quot;Point&quot;, &quot;coordinates&quot;: [-1.57408, 54.85862]}, &quot;type&quot;: &quot;Feature&quot;, &quot;properties&quot;: {&quot;pd_count&quot;: 1}}, {&quot;geometry&quot;: {&quot;type&quot;: &quot;Point&quot;, &quot;coordinates&quot;: [-2.9382, 54.8951]}, &quot;type&quot;: &quot;Feature&quot;, &quot;properties&quot;: {&quot;pd_count&quot;: 1}}, {&quot;geometry&quot;: {&quot;type&quot;: &quot;Point&quot;, &quot;coordinates&quot;: [-1.51667, 54.9]}, &quot;type&quot;: &quot;Feature&quot;, &quot;properties&quot;: {&quot;pd_count&quot;: 1}}, {&quot;geometry&quot;: {&quot;type&quot;: &quot;Point&quot;, &quot;coordinates&quot;: [-1.38222, 54.90465]}, &quot;type&quot;: &quot;Feature&quot;, &quot;properties&quot;: {&quot;pd_count&quot;: 1}}, {&quot;geometry&quot;: {&quot;type&quot;: &quot;Point&quot;, &quot;coordinates&quot;: [-1.67635, 54.94561]}, &quot;type&quot;: &quot;Feature&quot;, &quot;properties&quot;: {&quot;pd_count&quot;: 1}}, {&quot;geometry&quot;: {&quot;type&quot;: &quot;Point&quot;, &quot;coordinates&quot;: [-1.57152, 54.95297]}, &quot;type&quot;: &quot;Feature&quot;, &quot;properties&quot;: {&quot;pd_count&quot;: 1}}, {&quot;geometry&quot;: {&quot;type&quot;: &quot;Point&quot;, &quot;coordinates&quot;: [-1.60168, 54.96209]}, &quot;type&quot;: &quot;Feature&quot;, &quot;properties&quot;: {&quot;pd_count&quot;: 1}}, {&quot;geometry&quot;: {&quot;type&quot;: &quot;Point&quot;, &quot;coordinates&quot;: [-1.51546, 54.97302]}, &quot;type&quot;: &quot;Feature&quot;, &quot;properties&quot;: {&quot;pd_count&quot;: 1}}, {&quot;geometry&quot;: {&quot;type&quot;: &quot;Point&quot;, &quot;coordinates&quot;: [-1.61396, 54.97328]}, &quot;type&quot;: &quot;Feature&quot;, &quot;properties&quot;: {&quot;pd_count&quot;: 1}}, {&quot;geometry&quot;: {&quot;type&quot;: &quot;Point&quot;, &quot;coordinates&quot;: [-1.48423, 54.98036]}, &quot;type&quot;: &quot;Feature&quot;, &quot;properties&quot;: {&quot;pd_count&quot;: 1}}, {&quot;geometry&quot;: {&quot;type&quot;: &quot;Point&quot;, &quot;coordinates&quot;: [-1.74415, 54.9876]}, &quot;type&quot;: &quot;Feature&quot;, &quot;properties&quot;: {&quot;pd_count&quot;: 1}}, {&quot;geometry&quot;: {&quot;type&quot;: &quot;Point&quot;, &quot;coordinates&quot;: [-1.53397, 54.99111]}, &quot;type&quot;: &quot;Feature&quot;, &quot;properties&quot;: {&quot;pd_count&quot;: 1}}, {&quot;geometry&quot;: {&quot;type&quot;: &quot;Point&quot;, &quot;coordinates&quot;: [-7.30917, 54.99721]}, &quot;type&quot;: &quot;Feature&quot;, &quot;properties&quot;: {&quot;pd_count&quot;: 1}}, {&quot;geometry&quot;: {&quot;type&quot;: &quot;Point&quot;, &quot;coordinates&quot;: [-7.30934, 54.9981]}, &quot;type&quot;: &quot;Feature&quot;, &quot;properties&quot;: {&quot;pd_count&quot;: 1}}, {&quot;geometry&quot;: {&quot;type&quot;: &quot;Point&quot;, &quot;coordinates&quot;: [-1.4323, 54.99859]}, &quot;type&quot;: &quot;Feature&quot;, &quot;properties&quot;: {&quot;pd_count&quot;: 1}}, {&quot;geometry&quot;: {&quot;type&quot;: &quot;Point&quot;, &quot;coordinates&quot;: [-1.61667, 55.0]}, &quot;type&quot;: &quot;Feature&quot;, &quot;properties&quot;: {&quot;pd_count&quot;: 1}}, {&quot;geometry&quot;: {&quot;type&quot;: &quot;Point&quot;, &quot;coordinates&quot;: [-1.44925, 55.01646]}, &quot;type&quot;: &quot;Feature&quot;, &quot;properties&quot;: {&quot;pd_count&quot;: 1}}, {&quot;geometry&quot;: {&quot;type&quot;: &quot;Point&quot;, &quot;coordinates&quot;: [-1.42559, 55.01788]}, &quot;type&quot;: &quot;Feature&quot;, &quot;properties&quot;: {&quot;pd_count&quot;: 1}}, {&quot;geometry&quot;: {&quot;type&quot;: &quot;Point&quot;, &quot;coordinates&quot;: [-1.44713, 55.03973]}, &quot;type&quot;: &quot;Feature&quot;, &quot;properties&quot;: {&quot;pd_count&quot;: 1}}, {&quot;geometry&quot;: {&quot;type&quot;: &quot;Point&quot;, &quot;coordinates&quot;: [-1.58598, 55.08652]}, &quot;type&quot;: &quot;Feature&quot;, &quot;properties&quot;: {&quot;pd_count&quot;: 1}}, {&quot;geometry&quot;: {&quot;type&quot;: &quot;Point&quot;, &quot;coordinates&quot;: [-1.50856, 55.12708]}, &quot;type&quot;: &quot;Feature&quot;, &quot;properties&quot;: {&quot;pd_count&quot;: 1}}, {&quot;geometry&quot;: {&quot;type&quot;: &quot;Point&quot;, &quot;coordinates&quot;: [-6.66667, 55.13333]}, &quot;type&quot;: &quot;Feature&quot;, &quot;properties&quot;: {&quot;pd_count&quot;: 1}}, {&quot;geometry&quot;: {&quot;type&quot;: &quot;Point&quot;, &quot;coordinates&quot;: [-4.61667, 55.48333]}, &quot;type&quot;: &quot;Feature&quot;, &quot;properties&quot;: {&quot;pd_count&quot;: 1}}, {&quot;geometry&quot;: {&quot;type&quot;: &quot;Point&quot;, &quot;coordinates&quot;: [-4.49581, 55.61171]}, &quot;type&quot;: &quot;Feature&quot;, &quot;properties&quot;: {&quot;pd_count&quot;: 1}}, {&quot;geometry&quot;: {&quot;type&quot;: &quot;Point&quot;, &quot;coordinates&quot;: [-4.65508, 55.6194]}, &quot;type&quot;: &quot;Feature&quot;, &quot;properties&quot;: {&quot;pd_count&quot;: 1}}, {&quot;geometry&quot;: {&quot;type&quot;: &quot;Point&quot;, &quot;coordinates&quot;: [-4.70666, 55.65333]}, &quot;type&quot;: &quot;Feature&quot;, &quot;properties&quot;: {&quot;pd_count&quot;: 1}}, {&quot;geometry&quot;: {&quot;type&quot;: &quot;Point&quot;, &quot;coordinates&quot;: [-3.96667, 55.73333]}, &quot;type&quot;: &quot;Feature&quot;, &quot;properties&quot;: {&quot;pd_count&quot;: 1}}, {&quot;geometry&quot;: {&quot;type&quot;: &quot;Point&quot;, &quot;coordinates&quot;: [-3.91667, 55.73333]}, &quot;type&quot;: &quot;Feature&quot;, &quot;properties&quot;: {&quot;pd_count&quot;: 1}}, {&quot;geometry&quot;: {&quot;type&quot;: &quot;Point&quot;, &quot;coordinates&quot;: [-4.17669, 55.76412]}, &quot;type&quot;: &quot;Feature&quot;, &quot;properties&quot;: {&quot;pd_count&quot;: 1}}, {&quot;geometry&quot;: {&quot;type&quot;: &quot;Point&quot;, &quot;coordinates&quot;: [-4.03333, 55.76667]}, &quot;type&quot;: &quot;Feature&quot;, &quot;properties&quot;: {&quot;pd_count&quot;: 1}}, {&quot;geometry&quot;: {&quot;type&quot;: &quot;Point&quot;, &quot;coordinates&quot;: [-3.91667, 55.76667]}, &quot;type&quot;: &quot;Feature&quot;, &quot;properties&quot;: {&quot;pd_count&quot;: 1}}, {&quot;geometry&quot;: {&quot;type&quot;: &quot;Point&quot;, &quot;coordinates&quot;: [-4.33339, 55.77334]}, &quot;type&quot;: &quot;Feature&quot;, &quot;properties&quot;: {&quot;pd_count&quot;: 1}}, {&quot;geometry&quot;: {&quot;type&quot;: &quot;Point&quot;, &quot;coordinates&quot;: [-4.10007, 55.78438]}, &quot;type&quot;: &quot;Feature&quot;, &quot;properties&quot;: {&quot;pd_count&quot;: 1}}, {&quot;geometry&quot;: {&quot;type&quot;: &quot;Point&quot;, &quot;coordinates&quot;: [-3.99187, 55.78924]}, &quot;type&quot;: &quot;Feature&quot;, &quot;properties&quot;: {&quot;pd_count&quot;: 1}}, {&quot;geometry&quot;: {&quot;type&quot;: &quot;Point&quot;, &quot;coordinates&quot;: [-4.29488, 55.80373]}, &quot;type&quot;: &quot;Feature&quot;, &quot;properties&quot;: {&quot;pd_count&quot;: 1}}, {&quot;geometry&quot;: {&quot;type&quot;: &quot;Point&quot;, &quot;coordinates&quot;: [-4.21376, 55.82885]}, &quot;type&quot;: &quot;Feature&quot;, &quot;properties&quot;: {&quot;pd_count&quot;: 1}}, {&quot;geometry&quot;: {&quot;type&quot;: &quot;Point&quot;, &quot;coordinates&quot;: [-4.51605, 55.82906]}, &quot;type&quot;: &quot;Feature&quot;, &quot;properties&quot;: {&quot;pd_count&quot;: 1}}, {&quot;geometry&quot;: {&quot;type&quot;: &quot;Point&quot;, &quot;coordinates&quot;: [-3.22608, 55.83116]}, &quot;type&quot;: &quot;Feature&quot;, &quot;properties&quot;: {&quot;pd_count&quot;: 1}}, {&quot;geometry&quot;: {&quot;type&quot;: &quot;Point&quot;, &quot;coordinates&quot;: [-4.43254, 55.83173]}, &quot;type&quot;: &quot;Feature&quot;, &quot;properties&quot;: {&quot;pd_count&quot;: 1}}, {&quot;geometry&quot;: {&quot;type&quot;: &quot;Point&quot;, &quot;coordinates&quot;: [-4.02469, 55.86216]}, &quot;type&quot;: &quot;Feature&quot;, &quot;properties&quot;: {&quot;pd_count&quot;: 1}}, {&quot;geometry&quot;: {&quot;type&quot;: &quot;Point&quot;, &quot;coordinates&quot;: [-4.25763, 55.86515]}, &quot;type&quot;: &quot;Feature&quot;, &quot;properties&quot;: {&quot;pd_count&quot;: 1}}, {&quot;geometry&quot;: {&quot;type&quot;: &quot;Point&quot;, &quot;coordinates&quot;: [-4.39253, 55.87197]}, &quot;type&quot;: &quot;Feature&quot;, &quot;properties&quot;: {&quot;pd_count&quot;: 1}}, {&quot;geometry&quot;: {&quot;type&quot;: &quot;Point&quot;, &quot;coordinates&quot;: [-4.4057, 55.90137]}, &quot;type&quot;: &quot;Feature&quot;, &quot;properties&quot;: {&quot;pd_count&quot;: 1}}, {&quot;geometry&quot;: {&quot;type&quot;: &quot;Point&quot;, &quot;coordinates&quot;: [-3.52261, 55.90288]}, &quot;type&quot;: &quot;Feature&quot;, &quot;properties&quot;: {&quot;pd_count&quot;: 1}}, {&quot;geometry&quot;: {&quot;type&quot;: &quot;Point&quot;, &quot;coordinates&quot;: [-4.21869, 55.90669]}, &quot;type&quot;: &quot;Feature&quot;, &quot;properties&quot;: {&quot;pd_count&quot;: 1}}, {&quot;geometry&quot;: {&quot;type&quot;: &quot;Point&quot;, &quot;coordinates&quot;: [-4.6895, 55.93464]}, &quot;type&quot;: &quot;Feature&quot;, &quot;properties&quot;: {&quot;pd_count&quot;: 1}}, {&quot;geometry&quot;: {&quot;type&quot;: &quot;Point&quot;, &quot;coordinates&quot;: [-4.15262, 55.93933]}, &quot;type&quot;: &quot;Feature&quot;, &quot;properties&quot;: {&quot;pd_count&quot;: 1}}, {&quot;geometry&quot;: {&quot;type&quot;: &quot;Point&quot;, &quot;coordinates&quot;: [-3.04991, 55.9417]}, &quot;type&quot;: &quot;Feature&quot;, &quot;properties&quot;: {&quot;pd_count&quot;: 1}}, {&quot;geometry&quot;: {&quot;type&quot;: &quot;Point&quot;, &quot;coordinates&quot;: [-4.57061, 55.94433]}, &quot;type&quot;: &quot;Feature&quot;, &quot;properties&quot;: {&quot;pd_count&quot;: 1}}, {&quot;geometry&quot;: {&quot;type&quot;: &quot;Point&quot;, &quot;coordinates&quot;: [-3.99051, 55.94685]}, &quot;type&quot;: &quot;Feature&quot;, &quot;properties&quot;: {&quot;pd_count&quot;: 1}}, {&quot;geometry&quot;: {&quot;type&quot;: &quot;Point&quot;, &quot;coordinates&quot;: [-4.76121, 55.94838]}, &quot;type&quot;: &quot;Feature&quot;, &quot;properties&quot;: {&quot;pd_count&quot;: 1}}, {&quot;geometry&quot;: {&quot;type&quot;: &quot;Point&quot;, &quot;coordinates&quot;: [-3.19648, 55.95206]}, &quot;type&quot;: &quot;Feature&quot;, &quot;properties&quot;: {&quot;pd_count&quot;: 1}}, {&quot;geometry&quot;: {&quot;type&quot;: &quot;Point&quot;, &quot;coordinates&quot;: [-3.70737, 55.9905]}, &quot;type&quot;: &quot;Feature&quot;, &quot;properties&quot;: {&quot;pd_count&quot;: 1}}, {&quot;geometry&quot;: {&quot;type&quot;: &quot;Point&quot;, &quot;coordinates&quot;: [-3.78535, 56.0021]}, &quot;type&quot;: &quot;Feature&quot;, &quot;properties&quot;: {&quot;pd_count&quot;: 1}}, {&quot;geometry&quot;: {&quot;type&quot;: &quot;Point&quot;, &quot;coordinates&quot;: [-3.72183, 56.01141]}, &quot;type&quot;: &quot;Feature&quot;, &quot;properties&quot;: {&quot;pd_count&quot;: 1}}, {&quot;geometry&quot;: {&quot;type&quot;: &quot;Point&quot;, &quot;coordinates&quot;: [-3.45887, 56.07156]}, &quot;type&quot;: &quot;Feature&quot;, &quot;properties&quot;: {&quot;pd_count&quot;: 1}}, {&quot;geometry&quot;: {&quot;type&quot;: &quot;Point&quot;, &quot;coordinates&quot;: [-3.15999, 56.11683]}, &quot;type&quot;: &quot;Feature&quot;, &quot;properties&quot;: {&quot;pd_count&quot;: 1}}, {&quot;geometry&quot;: {&quot;type&quot;: &quot;Point&quot;, &quot;coordinates&quot;: [-3.93682, 56.11903]}, &quot;type&quot;: &quot;Feature&quot;, &quot;properties&quot;: {&quot;pd_count&quot;: 1}}, {&quot;geometry&quot;: {&quot;type&quot;: &quot;Point&quot;, &quot;coordinates&quot;: [-3.03377, 56.17149]}, &quot;type&quot;: &quot;Feature&quot;, &quot;properties&quot;: {&quot;pd_count&quot;: 1}}, {&quot;geometry&quot;: {&quot;type&quot;: &quot;Point&quot;, &quot;coordinates&quot;: [-3.17316, 56.19514]}, &quot;type&quot;: &quot;Feature&quot;, &quot;properties&quot;: {&quot;pd_count&quot;: 1}}, {&quot;geometry&quot;: {&quot;type&quot;: &quot;Point&quot;, &quot;coordinates&quot;: [-2.79902, 56.33871]}, &quot;type&quot;: &quot;Feature&quot;, &quot;properties&quot;: {&quot;pd_count&quot;: 1}}, {&quot;geometry&quot;: {&quot;type&quot;: &quot;Point&quot;, &quot;coordinates&quot;: [-3.43139, 56.39522]}, &quot;type&quot;: &quot;Feature&quot;, &quot;properties&quot;: {&quot;pd_count&quot;: 1}}, {&quot;geometry&quot;: {&quot;type&quot;: &quot;Point&quot;, &quot;coordinates&quot;: [-2.97489, 56.46913]}, &quot;type&quot;: &quot;Feature&quot;, &quot;properties&quot;: {&quot;pd_count&quot;: 1}}, {&quot;geometry&quot;: {&quot;type&quot;: &quot;Point&quot;, &quot;coordinates&quot;: [-4.22398, 57.47908]}, &quot;type&quot;: &quot;Feature&quot;, &quot;properties&quot;: {&quot;pd_count&quot;: 1}}, {&quot;geometry&quot;: {&quot;type&quot;: &quot;Point&quot;, &quot;coordinates&quot;: [-1.79806, 57.50584]}, &quot;type&quot;: &quot;Feature&quot;, &quot;properties&quot;: {&quot;pd_count&quot;: 1}}, {&quot;geometry&quot;: {&quot;type&quot;: &quot;Point&quot;, &quot;coordinates&quot;: [-3.31843, 57.64947]}, &quot;type&quot;: &quot;Feature&quot;, &quot;properties&quot;: {&quot;pd_count&quot;: 1}}]};        geomtype = divineGeometryType(mapdata);                    var ds = {                &quot;type&quot;:&quot;geojson&quot;,                &quot;data&quot;:mapdata            };            var clusterme = false;            if (geomtype.substr(-5,5) == &quot;Point&quot;) {                                    clusterme = true;                    ds[&quot;cluster&quot;] = true;                    ds[&quot;clusterMaxZoom&quot;] = 14;                    ds[&quot;clusterRadius&quot;] = 20;                    console.log(&quot;IM CLUSTERED&quot;);                            }            map.addSource(&quot;pxdatasource&quot;, ds);            var maplayertype = &quot;circle&quot;;            if (geomtype.substr(-7,7) == &quot;Polygon&quot;)                 maplayertype = &quot;fill&quot;;            else if (geomtype.substr(-10,10) == &quot;LineString&quot;)                maplayertype = &quot;line&quot;;            map.addLayer({                &quot;id&quot;:&quot;pxlayer&quot;,                &quot;type&quot;:maplayertype,                 &quot;source&quot;: &quot;pxdatasource&quot;,                 &quot;paint&quot;: {&quot;circle-color&quot;: {&quot;property&quot;: &quot;pd_count&quot;, &quot;stops&quot;: [[1, &quot;#ffffcc&quot;], [1.0, &quot;#a1dab4&quot;], [1.0, &quot;#41b6c4&quot;], [1.0, &quot;#2c7fb8&quot;], [1, &quot;#253494&quot;]]}, &quot;circle-opacity&quot;: 0.25, &quot;circle-radius&quot;: 12}            });                        if (clusterme &amp;&amp; geomtype.substr(-5,5) == &quot;Point&quot;) {                map.addLayer({                    &quot;id&quot;: &quot;cluster-count-labels&quot;,                     &quot;type&quot;: &quot;symbol&quot;,                     &quot;source&quot;: &quot;pxdatasource&quot;,                     &quot;paint&quot;: {                        &quot;text-color&quot;: &quot;#FFF&quot;                    },                    &quot;layout&quot;: {                        &quot;text-field&quot;: &quot;{point_count}&quot;,                         &quot;text-font&quot;: [                            &quot;DIN Offc Pro Medium&quot;,                             &quot;Arial Unicode MS Bold&quot;                        ],                        &quot;text-size&quot;: 12                    }                });            }                        comment = &quot;Add user layers&quot;;        var layers = [];                layers.sort(function(a,b) {            return a[1] - b[1];        });        for (layersi=layers.length-1; layersi>=0; layersi--) {            map.addLayer(layers[layersi][0]);            comment = &quot;User layer legend&quot;;                    }                map.fitBounds([[-7.30934, 54.04649], [-0.19192, 57.64947]]);                    });</script></body></html>\" onload=\"iframeLoaded(this)\"></iframe>\n",
       "\n",
       "        </div>"
      ],
      "text/plain": [
       "<IPython.core.display.HTML object>"
      ]
     },
     "metadata": {},
     "output_type": "display_data"
    }
   ],
   "source": [
    "%%node\n",
    "// fetch cities in UK above latitude 54 degrees north\n",
    "cities.query({country:'GB', latitude: { \"$gt\": 54}}).then(display).catch(print);"
   ]
  },
  {
   "cell_type": "markdown",
   "metadata": {},
   "source": [
    "### Aggregating data\n",
    "The `cloudant-quickstart` library also allows aggregations (sum, count, stats) to be performed in the Cloudant database.\n",
    "Let’s calculate the sum of the population field:"
   ]
  },
  {
   "cell_type": "code",
   "execution_count": 25,
   "metadata": {
    "collapsed": false
   },
   "outputs": [
    {
     "name": "stdout",
     "output_type": "stream",
     "text": [
      "{\"ok\": false, \"statusCode\": 401}\n"
     ]
    }
   ],
   "source": [
    "%%node\n",
    "cities.sum('population').then(print).catch(print);"
   ]
  },
  {
   "cell_type": "markdown",
   "metadata": {},
   "source": [
    "Or compute the sum of the `population`, grouped by the `country` field:"
   ]
  },
  {
   "cell_type": "code",
   "execution_count": 26,
   "metadata": {
    "collapsed": false
   },
   "outputs": [
    {
     "name": "stdout",
     "output_type": "stream",
     "text": [
      "{\"ok\": false, \"statusCode\": 401}\n"
     ]
    }
   ],
   "source": [
    "%%node\n",
    "cities.sum('population','country').then(print).catch(print);"
   ]
  },
  {
   "cell_type": "markdown",
   "metadata": {},
   "source": [
    "***\n",
    "## Part 3: Sharing data between Python and Node.js cells"
   ]
  },
  {
   "cell_type": "markdown",
   "metadata": {},
   "source": [
    "to be continued ..."
   ]
  },
  {
   "cell_type": "markdown",
   "metadata": {},
   "source": [
    "#### References:\n",
    " * [Nodebooks: Introducing Node.js Data Science Notebooks](https://medium.com/ibm-watson-data-lab/nodebooks-node-js-data-science-notebooks-aa140bea21ba)\n",
    " * [Nodebooks: Sharing Data Between Node.js & Python](https://medium.com/ibm-watson-data-lab/nodebooks-sharing-data-between-node-js-python-3a4acae27a02)\n",
    " * [Sharing Variables Between Python & Node.js in Jupyter Notebooks](https://medium.com/ibm-watson-data-lab/sharing-variables-between-python-node-js-in-jupyter-notebooks-682a79d4bdd9)"
   ]
  },
  {
   "cell_type": "code",
   "execution_count": null,
   "metadata": {
    "collapsed": true
   },
   "outputs": [],
   "source": []
  }
 ],
 "metadata": {
  "kernelspec": {
   "display_name": "Python with Pixiedust (Spark 2.2)",
   "language": "python",
   "name": "pythonwithpixiedustspark22"
  },
  "language_info": {
   "codemirror_mode": {
    "name": "ipython",
    "version": 2
   },
   "file_extension": ".py",
   "mimetype": "text/x-python",
   "name": "python",
   "nbconvert_exporter": "python",
   "pygments_lexer": "ipython2",
   "version": "2.7.13"
  }
 },
 "nbformat": 4,
 "nbformat_minor": 2
}
