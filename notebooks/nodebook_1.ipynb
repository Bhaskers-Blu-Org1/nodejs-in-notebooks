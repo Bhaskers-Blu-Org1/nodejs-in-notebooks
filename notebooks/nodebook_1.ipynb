{
 "cells": [
  {
   "cell_type": "markdown",
   "metadata": {},
   "source": [
    "## Nodebooks: Introducing Node.js Data Science Notebooks\n",
    "\n",
    "Notebooks are where data scientists process, analyse, and visualise data in an iterative, collaborative environment. They typically run environments for languages like Python, R, and Scala. For years, data science notebooks have served academics and research scientists as a scratchpad for writing code, refining algorithms, and sharing and proving their work. Today, it's a workflow that lends itself well to web developers experimenting with data sets in Node.js.\n",
    "\n",
    "To that end, pixiedust_node is an add-on for Jupyter notebooks that allows Node.js/JavaScript to run inside notebook cells. Not only can web developers use the same workflow for collaborating in Node.js, but they can also use the same tools to work with existing data scientists coding in Python.\n",
    "\n",
    "pixiedust_node is built on the popular PixieDust helper library. Let’s get started.\n",
    "\n",
    "\n",
    "## Part 1: Variables, functions, and promises\n",
    "\n",
    "\n",
    "### Installing\n",
    "Install the [`pixiedust`](https://pypi.python.org/pypi/pixiedust) and [`pixiedust_node`](https://pypi.python.org/pypi/pixiedust-node) packages using `pip`, the Python package manager. "
   ]
  },
  {
   "cell_type": "code",
   "execution_count": null,
   "metadata": {
    "collapsed": true
   },
   "outputs": [],
   "source": [
    "# install or upgrade the packages\n",
    "# restart the kernel to pick up the latest version\n",
    "!pip install pixiedust --upgrade\n",
    "!pip install pixiedust_node --upgrade"
   ]
  },
  {
   "cell_type": "markdown",
   "metadata": {},
   "source": [
    "### Using pixiedust_node\n",
    "Now we can import `pixiedust_node` into our notebook:"
   ]
  },
  {
   "cell_type": "code",
   "execution_count": 1,
   "metadata": {},
   "outputs": [
    {
     "name": "stdout",
     "output_type": "stream",
     "text": [
      "Pixiedust database opened successfully\n"
     ]
    },
    {
     "data": {
      "text/html": [
       "\n",
       "        <div style=\"margin:10px\">\n",
       "            <a href=\"https://github.com/ibm-watson-data-lab/pixiedust\" target=\"_new\">\n",
       "                <img src=\"https://github.com/ibm-watson-data-lab/pixiedust/raw/master/docs/_static/pd_icon32.png\" style=\"float:left;margin-right:10px\"/>\n",
       "            </a>\n",
       "            <span>Pixiedust version 1.1.7</span>\n",
       "        </div>\n",
       "        "
      ],
      "text/plain": [
       "<IPython.core.display.HTML object>"
      ]
     },
     "metadata": {},
     "output_type": "display_data"
    },
    {
     "name": "stdout",
     "output_type": "stream",
     "text": [
      "('Node process id', 2650)\n"
     ]
    },
    {
     "data": {
      "text/html": [
       "\n",
       "            <div style=\"margin:10px\"> \n",
       "            <a href=\"https://github.com/ibm-cds-labs/pixiedust_node\" target=\"_new\"> \n",
       "            <img src=\"https://github.com/ibm-cds-labs/pixiedust_node/raw/master/docs/_images/pdn_icon32.png\" style=\"float:left;margin-right:10px\"/> \n",
       "            </a> \n",
       "            <span>Pixiedust Node.js</span> \n",
       "            </div> \n"
      ],
      "text/plain": [
       "<IPython.core.display.HTML object>"
      ]
     },
     "metadata": {},
     "output_type": "display_data"
    },
    {
     "name": "stdout",
     "output_type": "stream",
     "text": [
      "pixiedust_node 0.2.3 started. Cells starting '%%node' may contain Node.js code.\n"
     ]
    }
   ],
   "source": [
    "import pixiedust_node"
   ]
  },
  {
   "cell_type": "markdown",
   "metadata": {},
   "source": [
    "And then we can write JavaScript code in cells whose first line is `%%node`:"
   ]
  },
  {
   "cell_type": "code",
   "execution_count": 2,
   "metadata": {
    "collapsed": true
   },
   "outputs": [],
   "source": [
    "%%node\n",
    "// get the current date\n",
    "var date = new Date();"
   ]
  },
  {
   "cell_type": "markdown",
   "metadata": {},
   "source": [
    "It’s that easy! We can have Python and Node.js in the same notebook. Cells are Python by default, but simply starting a cell with `%%node` indicates that the next lines will be JavaScript."
   ]
  },
  {
   "cell_type": "markdown",
   "metadata": {},
   "source": [
    "### Displaying HTML and images in notebook cells\n",
    "We can use the `html` function to render HTML code in a cell:"
   ]
  },
  {
   "cell_type": "code",
   "execution_count": 3,
   "metadata": {},
   "outputs": [
    {
     "data": {
      "text/html": [
       "<h2>Quote</h2><blockquote cite=\"https://www.quora.com/Albert-Einstein-reportedly-said-The-true-sign-of-intelligence-is-not-knowledge-but-imagination-What-did-he-mean\">\"Imagination is more important than knowledge\"\n",
       "Albert Einstein</blockquote>"
      ],
      "text/plain": [
       "<IPython.core.display.HTML object>"
      ]
     },
     "metadata": {},
     "output_type": "display_data"
    }
   ],
   "source": [
    "%%node\n",
    "var str = '<h2>Quote</h2><blockquote cite=\"https://www.quora.com/Albert-Einstein-reportedly-said-The-true-sign-of-intelligence-is-not-knowledge-but-imagination-What-did-he-mean\">\"Imagination is more important than knowledge\"\\nAlbert Einstein</blockquote>';\n",
    "html(str)"
   ]
  },
  {
   "cell_type": "markdown",
   "metadata": {},
   "source": [
    "If we have an image we want to render, we can do that with the `image` function:"
   ]
  },
  {
   "cell_type": "code",
   "execution_count": 4,
   "metadata": {},
   "outputs": [
    {
     "data": {
      "text/html": [
       "<img src=\"https://media.giphy.com/media/JIX9t2j0ZTN9S/giphy.gif\" />"
      ],
      "text/plain": [
       "<IPython.core.display.HTML object>"
      ]
     },
     "metadata": {},
     "output_type": "display_data"
    }
   ],
   "source": [
    "%%node\n",
    "var url = 'https://media.giphy.com/media/JIX9t2j0ZTN9S/giphy.gif';\n",
    "image(url);"
   ]
  },
  {
   "cell_type": "markdown",
   "metadata": {},
   "source": [
    "### Printing JavaScript variables\n",
    "\n",
    "Print variables using `console.log`."
   ]
  },
  {
   "cell_type": "code",
   "execution_count": 5,
   "metadata": {},
   "outputs": [
    {
     "name": "stdout",
     "output_type": "stream",
     "text": [
      "{ a: 1, b: 'two', c: true }\n"
     ]
    }
   ],
   "source": [
    "%%node\n",
    "var x = { a:1, b:'two', c: true };\n",
    "console.log(x);"
   ]
  },
  {
   "cell_type": "markdown",
   "metadata": {},
   "source": [
    "Calling the `print` function within your JavaScript code is the same as calling `print` in your Python code."
   ]
  },
  {
   "cell_type": "code",
   "execution_count": 6,
   "metadata": {},
   "outputs": [
    {
     "name": "stdout",
     "output_type": "stream",
     "text": [
      "{\"a\": 3, \"c\": false, \"b\": \"four\"}\n"
     ]
    }
   ],
   "source": [
    "%%node\n",
    "var y = { a:3, b:'four', c: false };\n",
    "print(y);"
   ]
  },
  {
   "cell_type": "markdown",
   "metadata": {},
   "source": [
    "### Visualizing data using PixieDust\n",
    "You can also use PixieDust’s `display` function to render data graphically."
   ]
  },
  {
   "cell_type": "code",
   "execution_count": 7,
   "metadata": {
    "pixiedust": {
     "displayParams": {
      "aggregation": "SUM",
      "handlerId": "lineChart",
      "keyFields": "x",
      "rowCount": "500",
      "valueFields": "cos,sin"
     }
    }
   },
   "outputs": [
    {
     "data": {
      "text/html": [
       "<style type=\"text/css\">.pd_warning{display:none;}</style><div class=\"pd_warning\"><em>Hey, there's something awesome here! To see it, open this notebook outside GitHub, in a viewer like Jupyter</em></div>\n",
       "        <div class=\"pd_save is-viewer-good\" style=\"padding-right:10px;text-align: center;line-height:initial !important;font-size: xx-large;font-weight: 500;color: coral;\">\n",
       "            \n",
       "        </div>\n",
       "    <div id=\"chartFigured0d00679\" class=\"pd_save is-viewer-good\" style=\"overflow-x:auto\">\n",
       "            \n",
       "                    \n",
       "                            <center><img style=\"max-width:initial !important\" src=\"data:image/png;base64,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\" class=\"pd_save\"></center>\n",
       "                        \n",
       "                    \n",
       "                \n",
       "        </div>"
      ],
      "text/plain": [
       "<IPython.core.display.HTML object>"
      ]
     },
     "metadata": {},
     "output_type": "display_data"
    }
   ],
   "source": [
    "%%node\n",
    "var data = [];\n",
    "for (var i = 0; i < 1000; i++) {\n",
    "    var x = 2*Math.PI * i/ 360;\n",
    "    var obj = {\n",
    "      x: x,\n",
    "      i: i,\n",
    "      sin: Math.sin(x),\n",
    "      cos: Math.cos(x),\n",
    "      tan: Math.tan(x)\n",
    "    };\n",
    "    data.push(obj);\n",
    "}\n",
    "// render data \n",
    "display(data);"
   ]
  },
  {
   "cell_type": "markdown",
   "metadata": {},
   "source": [
    "<img src=\"images/display_sin_cos.png\"></img>\n",
    "\n",
    "PixieDust presents visualisations of DataFrames using Matplotlib, Bokeh, Brunel, d3, Google Maps and, MapBox. No code is required on your part because PixieDust presents simple pull-down menus and a friendly point-and-click interface, allowing you to configure how the data is presented:\n",
    "\n",
    "<img src=\"images/pd_chart_types.png\"></img>"
   ]
  },
  {
   "cell_type": "markdown",
   "metadata": {},
   "source": [
    "### Adding npm modules\n",
    "There are thousands of libraries and tools in the npm repository, Node.js’s package manager. It’s essential that we can install npm libraries and use them in our notebook code.\n",
    "Let’s say we want to make some HTTP calls to an external API service. We could deal with Node.js’s low-level HTTP library, or an easier option would be to use the ubiquitous `request` npm module.\n",
    "Once we have pixiedust_node set up, installing an npm module is as simple as running `npm.install` in a Python cell:"
   ]
  },
  {
   "cell_type": "code",
   "execution_count": 8,
   "metadata": {},
   "outputs": [
    {
     "name": "stdout",
     "output_type": "stream",
     "text": [
      "/Users/patti/anaconda/bin/npm install -s request\n",
      "/Users/patti/pixiedust/node\n",
      "└─┬ cloudant-quickstart@1.25.2\n",
      "└── request@2.83.0\n"
     ]
    }
   ],
   "source": [
    "npm.install('request');"
   ]
  },
  {
   "cell_type": "markdown",
   "metadata": {},
   "source": [
    "Once installed, you may `require` the module in your JavaScript code:"
   ]
  },
  {
   "cell_type": "code",
   "execution_count": 9,
   "metadata": {},
   "outputs": [
    {
     "name": "stdout",
     "output_type": "stream",
     "text": [
      "... ... ... ...\n",
      "... ...\n",
      "{\"timestamp\": 1518206491, \"message\": \"success\", \"iss_position\": {\"latitude\": \"51.1403\", \"longitude\": \"-67.2490\"}}\n"
     ]
    }
   ],
   "source": [
    "%%node\n",
    "var request = require('request');\n",
    "var r = {\n",
    "    method:'GET',\n",
    "    url: 'http://api.open-notify.org/iss-now.json',\n",
    "    json: true\n",
    "};\n",
    "request(r, function(err, req, body) {\n",
    "    print(body);\n",
    "});\n"
   ]
  },
  {
   "cell_type": "markdown",
   "metadata": {},
   "source": [
    "As an HTTP request is an asynchronous action, the `request` library calls our callback function when the operation has completed. Inside that function, we can call print to render the data.\n",
    "We can organise our code into functions to encapsulate complexity and make it easier to reuse code. We can create a function to get the current position of the International Space Station in one notebook cell:"
   ]
  },
  {
   "cell_type": "code",
   "execution_count": 10,
   "metadata": {},
   "outputs": [
    {
     "name": "stdout",
     "output_type": "stream",
     "text": [
      "... ..... ..... ..... ..... ... ..... ..... ....... ....... ....... ....... ....... ..... ..... ...\n"
     ]
    }
   ],
   "source": [
    "%%node\n",
    "var request = require('request');\n",
    "var getPosition = function(callback) {\n",
    "    var r = {\n",
    "        method:'GET',\n",
    "        url: 'http://api.open-notify.org/iss-now.json',\n",
    "        json: true\n",
    "    };\n",
    "    request(r, function(err, req, body) {\n",
    "        var obj = null;\n",
    "        if (!err) {\n",
    "            obj = body.iss_position\n",
    "            obj.latitude = parseFloat(obj.latitude);\n",
    "            obj.longitude = parseFloat(obj.longitude);\n",
    "            obj.time = new Date().getTime();       \n",
    "        }\n",
    "        callback(err, obj);\n",
    "    });\n",
    "};"
   ]
  },
  {
   "cell_type": "markdown",
   "metadata": {},
   "source": [
    "And use it in another cell:"
   ]
  },
  {
   "cell_type": "code",
   "execution_count": 11,
   "metadata": {},
   "outputs": [
    {
     "name": "stdout",
     "output_type": "stream",
     "text": [
      "... ...\n",
      "{\"latitude\": 51.1403, \"longitude\": -67.249, \"time\": 1518206499693}\n"
     ]
    }
   ],
   "source": [
    "%%node\n",
    "getPosition(function(err, data) {\n",
    "    print(data);\n",
    "});"
   ]
  },
  {
   "cell_type": "markdown",
   "metadata": {},
   "source": [
    "### Promises\n",
    "If you prefer to work with JavaScript Promises when writing asynchronous code, then that’s okay too. Let’s rewrite our `getPosition` function to return a Promise. First we're going to install the `request-promise` module from npm:"
   ]
  },
  {
   "cell_type": "code",
   "execution_count": 12,
   "metadata": {},
   "outputs": [
    {
     "name": "stdout",
     "output_type": "stream",
     "text": [
      "/Users/patti/anaconda/bin/npm install -s request request-promise\n",
      "/Users/patti/pixiedust/node\n",
      "├─┬ cloudant-quickstart@1.25.2\n",
      "│ └── request@2.83.0\n",
      "└── request-promise@4.2.2\n"
     ]
    }
   ],
   "source": [
    "npm.install( ('request', 'request-promise') )"
   ]
  },
  {
   "cell_type": "markdown",
   "metadata": {},
   "source": [
    "Notice how you can install multiple modules in a single call. Just pass in a Python `list` or `tuple`.\n",
    "Then we can refactor our function a little:"
   ]
  },
  {
   "cell_type": "code",
   "execution_count": 13,
   "metadata": {},
   "outputs": [
    {
     "name": "stdout",
     "output_type": "stream",
     "text": [
      "... ..... ..... ..... ..... ... ..... ..... ..... ..... ..... ..... ..... ...\n"
     ]
    }
   ],
   "source": [
    "%%node\n",
    "var request = require('request-promise');\n",
    "var getPosition = function(callback) {\n",
    "    var r = {\n",
    "        method:'GET',\n",
    "        url: 'http://api.open-notify.org/iss-now.json',\n",
    "        json: true\n",
    "    };\n",
    "    return request(r).then(function(body) {\n",
    "        var obj = null;\n",
    "        obj = body.iss_position;\n",
    "        obj.latitude = parseFloat(obj.latitude);\n",
    "        obj.longitude = parseFloat(obj.longitude);\n",
    "        obj.time = new Date().getTime();         \n",
    "        return obj;\n",
    "    });\n",
    "};"
   ]
  },
  {
   "cell_type": "markdown",
   "metadata": {},
   "source": [
    "And call it in the Promises style:"
   ]
  },
  {
   "cell_type": "code",
   "execution_count": 14,
   "metadata": {},
   "outputs": [
    {
     "name": "stdout",
     "output_type": "stream",
     "text": [
      "... ... ... ...\n",
      "{\"latitude\": 51.2126, \"longitude\": -66.4606, \"time\": 1518206510265}\n"
     ]
    }
   ],
   "source": [
    "%%node\n",
    "getPosition().then(function(data) {\n",
    "  print(data);\n",
    "}).catch(function(err) {\n",
    "  print(err);    \n",
    "});"
   ]
  },
  {
   "cell_type": "markdown",
   "metadata": {},
   "source": [
    "Or call it in a more compact form:"
   ]
  },
  {
   "cell_type": "code",
   "execution_count": 15,
   "metadata": {},
   "outputs": [
    {
     "name": "stdout",
     "output_type": "stream",
     "text": [
      "{\"latitude\": 51.2986, \"longitude\": -65.4219, \"time\": 1518206515828}\n"
     ]
    }
   ],
   "source": [
    "%%node\n",
    "getPosition().then(print).catch(print);"
   ]
  },
  {
   "cell_type": "markdown",
   "metadata": {},
   "source": [
    "In the next part of this notebook we'll illustrate how you can access local and remote data sources from within the notebook."
   ]
  },
  {
   "cell_type": "markdown",
   "metadata": {},
   "source": [
    "***\n",
    "# Part 2: Working with data sources\n",
    "\n",
    "You can access any data source using your favorite public or home-grown packages. In the second part of this notebook you'll learn how to retrieve data from an Apache CouchDB (or Cloudant) database and visualize it using PixieDust or third-party libraries.\n",
    "\n",
    "## Accessing Cloudant data sources\n",
    "\n",
    "\n",
    "To access data stored in an Apache CouchDB or Cloudant database, we can use the [`cloudant-quickstart`](https://www.npmjs.com/package/cloudant-quickstart) npm module:"
   ]
  },
  {
   "cell_type": "code",
   "execution_count": 16,
   "metadata": {},
   "outputs": [
    {
     "name": "stdout",
     "output_type": "stream",
     "text": [
      "/Users/patti/anaconda/bin/npm install -s cloudant-quickstart\n",
      "/Users/patti/pixiedust/node\n",
      "└── cloudant-quickstart@1.25.2\n"
     ]
    }
   ],
   "source": [
    "npm.install('cloudant-quickstart')"
   ]
  },
  {
   "cell_type": "markdown",
   "metadata": {},
   "source": [
    "With our Cloudant URL, we can start exploring the data in Node.js. First we make a connection to the remote Cloudant database:"
   ]
  },
  {
   "cell_type": "code",
   "execution_count": 20,
   "metadata": {
    "collapsed": true
   },
   "outputs": [],
   "source": [
    "%%node\n",
    "// connect to Cloudant using cloudant-quickstart\n",
    "var cqs = require('cloudant-quickstart');\n",
    "var cities = cqs('https://56953ed8-3fba-4f7e-824e-5498c8e1d18e-bluemix.cloudant.com/cities');"
   ]
  },
  {
   "cell_type": "markdown",
   "metadata": {},
   "source": [
    "Now we have an object cities that we can use to access the database. \n",
    "\n",
    "### Exploring the data using Node.js in a notebook \n",
    "\n",
    "If we know the IDs of documents, we can retrieve them singly:"
   ]
  },
  {
   "cell_type": "code",
   "execution_count": 21,
   "metadata": {},
   "outputs": [
    {
     "name": "stdout",
     "output_type": "stream",
     "text": [
      "{\"name\": \"Stowmarket\", \"country\": \"GB\", \"longitude\": 0.99774, \"latitude\": 52.18893, \"timezone\": \"Europe/London\", \"_id\": \"2636749\", \"population\": 15394}\n"
     ]
    }
   ],
   "source": [
    "%%node\n",
    "cities.get('2636749').then(print).catch(print);"
   ]
  },
  {
   "cell_type": "markdown",
   "metadata": {},
   "source": [
    "Or in bulk:"
   ]
  },
  {
   "cell_type": "code",
   "execution_count": 22,
   "metadata": {},
   "outputs": [
    {
     "name": "stdout",
     "output_type": "stream",
     "text": [
      "[{\"name\": \"York\", \"country\": \"US\", \"longitude\": -76.72774, \"latitude\": 39.9626, \"timezone\": \"America/New_York\", \"_id\": \"4562407\", \"population\": 43718}, {\"name\": \"Stowmarket\", \"country\": \"GB\", \"longitude\": 0.99774, \"latitude\": 52.18893, \"timezone\": \"Europe/London\", \"_id\": \"2636749\", \"population\": 15394}, {\"name\": \"Mexico City\", \"country\": \"MX\", \"longitude\": -99.12766, \"latitude\": 19.42847, \"timezone\": \"America/Mexico_City\", \"_id\": \"3530597\", \"population\": 12294193}]\n"
     ]
    }
   ],
   "source": [
    "%%node\n",
    "cities.get(['4562407','2636749','3530597']).then(print).catch(print);"
   ]
  },
  {
   "cell_type": "markdown",
   "metadata": {},
   "source": [
    "Instead of just calling `print` to output the JSON, we can bring PixieDust's `display` function to bear by passing it an array of data to visualize:"
   ]
  },
  {
   "cell_type": "code",
   "execution_count": 23,
   "metadata": {
    "pixiedust": {
     "displayParams": {
      "handlerId": "mapView",
      "keyFields": "latitude,longitude",
      "mapboxtoken": "pk.eyJ1IjoibWFwYm94IiwiYSI6ImNpejY4M29iazA2Z2gycXA4N2pmbDZmangifQ.-g_vE53SD2WrJ6tFX7QHmA",
      "rowCount": "500",
      "valueFields": "population"
     }
    }
   },
   "outputs": [
    {
     "data": {
      "text/html": [
       "<style type=\"text/css\">.pd_warning{display:none;}</style><div class=\"pd_warning\"><em>Hey, there's something awesome here! To see it, open this notebook outside GitHub, in a viewer like Jupyter</em></div>\n",
       "        <div class=\"pd_save is-viewer-good\" style=\"padding-right:10px;text-align: center;line-height:initial !important;font-size: xx-large;font-weight: 500;color: coral;\">\n",
       "            \n",
       "        </div>\n",
       "    <div id=\"chartFigure5cea377e\" class=\"pd_save is-viewer-good\" style=\"overflow-x:auto\">\n",
       "            <script>\n",
       "  window.iframeLoaded = window.iframeLoaded || function(iframe) {\n",
       "    try {\n",
       "      iframe.contentWindow.pdMessageListeners = [];\n",
       "      iframe.contentWindow[\"addPDMessageListener\"] = function(listener){\n",
       "        iframe.contentWindow.pdMessageListeners.push(listener);\n",
       "      }\n",
       "      iframe.contentWindow.addEventListener(\"message\", function(event){\n",
       "        iframe.contentWindow.pdMessageListeners.forEach(function(listener){\n",
       "          listener(event);\n",
       "        });\n",
       "      }, false);\n",
       "      iframe.contentWindow.ready = true;\n",
       "      iframe.contentWindow[\"triggerPDEvent\"] = function(eventInfo) {\n",
       "        $(document).trigger('pd_event', eventInfo);\n",
       "      }\n",
       "    } catch (e) {\n",
       "      console.log(e)\n",
       "    }\n",
       "  }\n",
       "\n",
       "  \n",
       "</script>\n",
       "<iframe id=\"mapframe5cea377e\" style=\"width:878.4px;height:500px\" srcdoc=\"<!DOCTYPE html>\n",
       "<html lang=&quot;en&quot;>\n",
       "<head>\n",
       "    <meta charset=&quot;UTF-8&quot;>\n",
       "    <meta name=&quot;viewport&quot; content=&quot;width=device-width, initial-scale=1&quot;>\n",
       "    <title>Pixiedust Mapbox map</title>\n",
       "    <script src=&quot;https://api.tiles.mapbox.com/mapbox-gl-js/v0.32.1/mapbox-gl.js&quot;></script>\n",
       "    <link href=&quot;https://api.tiles.mapbox.com/mapbox-gl-js/v0.32.1/mapbox-gl.css&quot; rel=&quot;stylesheet&quot; />\n",
       "    <style>\n",
       "    .mapboxgl-popup-content h3 { \n",
       "        margin: 2px 0 2px 0;\n",
       "        font-style: italic;\n",
       "    }\n",
       "    .mapboxgl-popup {\n",
       "        max-width: 200px;\n",
       "    }\n",
       "    #map canvas {\n",
       "        cursor: crosshair;\n",
       "    }\n",
       "    .legend {\n",
       "        background-color: rgba(255,255,255, 0.75);\n",
       "        border-radius: 3px;\n",
       "        position: absolute;\n",
       "        left: 14px;\n",
       "        top: 14px;\n",
       "        box-shadow: 0 1px 2px rgba(0,0,0,0.10);\n",
       "        font-size: 12px;\n",
       "        line-height: 18px;\n",
       "        padding: 10px;\n",
       "        z-index: 1;\n",
       "    }\n",
       "    .legend h4 {\n",
       "        margin: 0 0 10px;\n",
       "    }\n",
       "    .legend div span {\n",
       "        border-radius: 50%;\n",
       "        display: inline-block;\n",
       "        height: 10px;\n",
       "        margin-right: 5px;\n",
       "        width: 10px;\n",
       "    }\n",
       "    body { \n",
       "        background-color:#333; \n",
       "        margin:0px !important; \n",
       "        overflow: hidden;\n",
       "        font-family: &quot;Helvetica Neue&quot;, Arial, Helvetica, sans-serif;\n",
       "    }\n",
       "    </style>\n",
       "</head>\n",
       "<body>\n",
       "<div id=&quot;map-5cea377e-f373b1e1&quot; style=&quot;width:calc(878.4px - 4px);height:calc(500px - 4px)&quot; />\n",
       "\n",
       "\n",
       "<script>\n",
       "    !function(e){if(&quot;object&quot;==typeof exports&amp;&amp;&quot;undefined&quot;!=typeof module)module.exports=e();else if(&quot;function&quot;==typeof define&amp;&amp;define.amd)define([],e);else{var n;&quot;undefined&quot;!=typeof window?n=window:&quot;undefined&quot;!=typeof global?n=global:&quot;undefined&quot;!=typeof self&amp;&amp;(n=self),n.geojsonExtent=e()}}(function(){return function e(t,n,r){function s(o,u){if(!n[o]){if(!t[o]){var a=&quot;function&quot;==typeof require&amp;&amp;require;if(!u&amp;&amp;a)return a(o,!0);if(i)return i(o,!0);var f=new Error(&quot;Cannot find module &quot;+o+&quot;&quot;);throw f.code=&quot;MODULE_NOT_FOUND&quot;,f}var l=n[o]={exports:{}};t[o][0].call(l.exports,function(e){var n=t[o][1][e];return s(n?n:e)},l,l.exports,e,t,n,r)}return n[o].exports}for(var i=&quot;function&quot;==typeof require&amp;&amp;require,o=0;o<r.length;o++)s(r[o]);return s}({1:[function(require,module){function getExtent(_){for(var ext=extent(),coords=geojsonCoords(_),i=0;i<coords.length;i++)ext.include(coords[i]);return ext}var geojsonCoords=require(&quot;geojson-coords&quot;),traverse=require(&quot;traverse&quot;),extent=require(&quot;extent&quot;),geojsonTypes=[&quot;Point&quot;,&quot;MultiPoint&quot;,&quot;LineString&quot;,&quot;MultiLineString&quot;,&quot;Polygon&quot;,&quot;MultiPolygon&quot;,&quot;Feature&quot;,&quot;FeatureCollection&quot;,&quot;GeometryCollection&quot;];module.exports=function(_){return getExtent(_).bbox()},module.exports.polygon=function(_){return getExtent(_).polygon()},module.exports.bboxify=function(_){return traverse(_).map(function(value){value&amp;&amp;-1!==typeof geojsonTypes.indexOf(value.type)&amp;&amp;(console.log(value.type,value),value.bbox=getExtent(value).bbox(),this.update(value))})}},{extent:2,&quot;geojson-coords&quot;:4,traverse:7}],2:[function(require,module){function Extent(){return this instanceof Extent?(this._bbox=[1/0,1/0,-(1/0),-(1/0)],void(this._valid=!1)):new Extent}module.exports=Extent,Extent.prototype.include=function(ll){return this._valid=!0,this._bbox[0]=Math.min(this._bbox[0],ll[0]),this._bbox[1]=Math.min(this._bbox[1],ll[1]),this._bbox[2]=Math.max(this._bbox[2],ll[0]),this._bbox[3]=Math.max(this._bbox[3],ll[1]),this},Extent.prototype.union=function(other){return this._valid=!0,this._bbox[0]=Math.min(this._bbox[0],other[0]),this._bbox[1]=Math.min(this._bbox[1],other[1]),this._bbox[2]=Math.max(this._bbox[2],other[2]),this._bbox[3]=Math.max(this._bbox[3],other[3]),this},Extent.prototype.bbox=function(){return this._valid?this._bbox:null},Extent.prototype.contains=function(ll){return this._valid?this._bbox[0]<=ll[0]&amp;&amp;this._bbox[1]<=ll[1]&amp;&amp;this._bbox[2]>=ll[0]&amp;&amp;this._bbox[3]>=ll[1]:null},Extent.prototype.polygon=function(){return this._valid?{type:&quot;Polygon&quot;,coordinates:[[[this._bbox[0],this._bbox[1]],[this._bbox[2],this._bbox[1]],[this._bbox[2],this._bbox[3]],[this._bbox[0],this._bbox[3]],[this._bbox[0],this._bbox[1]]]]}:null}},{}],3:[function(require,module){module.exports=function(list){function _flatten(list){return Array.isArray(list)&amp;&amp;list.length&amp;&amp;&quot;number&quot;==typeof list[0]?[list]:list.reduce(function(acc,item){return Array.isArray(item)&amp;&amp;Array.isArray(item[0])?acc.concat(_flatten(item)):(acc.push(item),acc)},[])}return _flatten(list)}},{}],4:[function(require,module){var geojsonNormalize=require(&quot;geojson-normalize&quot;),geojsonFlatten=require(&quot;geojson-flatten&quot;),flatten=require(&quot;./flatten&quot;);module.exports=function(_){if(!_)return[];var normalized=geojsonFlatten(geojsonNormalize(_)),coordinates=[];return normalized.features.forEach(function(feature){feature.geometry&amp;&amp;(coordinates=coordinates.concat(flatten(feature.geometry.coordinates)))}),coordinates}},{&quot;./flatten&quot;:3,&quot;geojson-flatten&quot;:5,&quot;geojson-normalize&quot;:6}],5:[function(require,module){function flatten(gj){switch(gj&amp;&amp;gj.type||null){case&quot;FeatureCollection&quot;:return gj.features=gj.features.reduce(function(mem,feature){return mem.concat(flatten(feature))},[]),gj;case&quot;Feature&quot;:return flatten(gj.geometry).map(function(geom){return{type:&quot;Feature&quot;,properties:JSON.parse(JSON.stringify(gj.properties)),geometry:geom}});case&quot;MultiPoint&quot;:return gj.coordinates.map(function(_){return{type:&quot;Point&quot;,coordinates:_}});case&quot;MultiPolygon&quot;:return gj.coordinates.map(function(_){return{type:&quot;Polygon&quot;,coordinates:_}});case&quot;MultiLineString&quot;:return gj.coordinates.map(function(_){return{type:&quot;LineString&quot;,coordinates:_}});case&quot;GeometryCollection&quot;:return gj.geometries;case&quot;Point&quot;:case&quot;Polygon&quot;:case&quot;LineString&quot;:return[gj];default:return gj}}module.exports=flatten},{}],6:[function(require,module){function normalize(gj){if(!gj||!gj.type)return null;var type=types[gj.type];return type?&quot;geometry&quot;===type?{type:&quot;FeatureCollection&quot;,features:[{type:&quot;Feature&quot;,properties:{},geometry:gj}]}:&quot;feature&quot;===type?{type:&quot;FeatureCollection&quot;,features:[gj]}:&quot;featurecollection&quot;===type?gj:void 0:null}module.exports=normalize;var types={Point:&quot;geometry&quot;,MultiPoint:&quot;geometry&quot;,LineString:&quot;geometry&quot;,MultiLineString:&quot;geometry&quot;,Polygon:&quot;geometry&quot;,MultiPolygon:&quot;geometry&quot;,GeometryCollection:&quot;geometry&quot;,Feature:&quot;feature&quot;,FeatureCollection:&quot;featurecollection&quot;}},{}],7:[function(require,module){function Traverse(obj){this.value=obj}function walk(root,cb,immutable){var path=[],parents=[],alive=!0;return function walker(node_){function updateState(){if(&quot;object&quot;==typeof state.node&amp;&amp;null!==state.node){state.keys&amp;&amp;state.node_===state.node||(state.keys=objectKeys(state.node)),state.isLeaf=0==state.keys.length;for(var i=0;i<parents.length;i++)if(parents[i].node_===node_){state.circular=parents[i];break}}else state.isLeaf=!0,state.keys=null;state.notLeaf=!state.isLeaf,state.notRoot=!state.isRoot}var node=immutable?copy(node_):node_,modifiers={},keepGoing=!0,state={node:node,node_:node_,path:[].concat(path),parent:parents[parents.length-1],parents:parents,key:path.slice(-1)[0],isRoot:0===path.length,level:path.length,circular:null,update:function(x,stopHere){state.isRoot||(state.parent.node[state.key]=x),state.node=x,stopHere&amp;&amp;(keepGoing=!1)},&quot;delete&quot;:function(stopHere){delete state.parent.node[state.key],stopHere&amp;&amp;(keepGoing=!1)},remove:function(stopHere){isArray(state.parent.node)?state.parent.node.splice(state.key,1):delete state.parent.node[state.key],stopHere&amp;&amp;(keepGoing=!1)},keys:null,before:function(f){modifiers.before=f},after:function(f){modifiers.after=f},pre:function(f){modifiers.pre=f},post:function(f){modifiers.post=f},stop:function(){alive=!1},block:function(){keepGoing=!1}};if(!alive)return state;updateState();var ret=cb.call(state,state.node);return void 0!==ret&amp;&amp;state.update&amp;&amp;state.update(ret),modifiers.before&amp;&amp;modifiers.before.call(state,state.node),keepGoing?(&quot;object&quot;!=typeof state.node||null===state.node||state.circular||(parents.push(state),updateState(),forEach(state.keys,function(key,i){path.push(key),modifiers.pre&amp;&amp;modifiers.pre.call(state,state.node[key],key);var child=walker(state.node[key]);immutable&amp;&amp;hasOwnProperty.call(state.node,key)&amp;&amp;(state.node[key]=child.node),child.isLast=i==state.keys.length-1,child.isFirst=0==i,modifiers.post&amp;&amp;modifiers.post.call(state,child),path.pop()}),parents.pop()),modifiers.after&amp;&amp;modifiers.after.call(state,state.node),state):state}(root).node}function copy(src){if(&quot;object&quot;==typeof src&amp;&amp;null!==src){var dst;if(isArray(src))dst=[];else if(isDate(src))dst=new Date(src.getTime?src.getTime():src);else if(isRegExp(src))dst=new RegExp(src);else if(isError(src))dst={message:src.message};else if(isBoolean(src))dst=new Boolean(src);else if(isNumber(src))dst=new Number(src);else if(isString(src))dst=new String(src);else if(Object.create&amp;&amp;Object.getPrototypeOf)dst=Object.create(Object.getPrototypeOf(src));else if(src.constructor===Object)dst={};else{var proto=src.constructor&amp;&amp;src.constructor.prototype||src.__proto__||{},T=function(){};T.prototype=proto,dst=new T}return forEach(objectKeys(src),function(key){dst[key]=src[key]}),dst}return src}function toS(obj){return Object.prototype.toString.call(obj)}function isDate(obj){return&quot;[object Date]&quot;===toS(obj)}function isRegExp(obj){return&quot;[object RegExp]&quot;===toS(obj)}function isError(obj){return&quot;[object Error]&quot;===toS(obj)}function isBoolean(obj){return&quot;[object Boolean]&quot;===toS(obj)}function isNumber(obj){return&quot;[object Number]&quot;===toS(obj)}function isString(obj){return&quot;[object String]&quot;===toS(obj)}var traverse=module.exports=function(obj){return new Traverse(obj)};Traverse.prototype.get=function(ps){for(var node=this.value,i=0;i<ps.length;i++){var key=ps[i];if(!node||!hasOwnProperty.call(node,key)){node=void 0;break}node=node[key]}return node},Traverse.prototype.has=function(ps){for(var node=this.value,i=0;i<ps.length;i++){var key=ps[i];if(!node||!hasOwnProperty.call(node,key))return!1;node=node[key]}return!0},Traverse.prototype.set=function(ps,value){for(var node=this.value,i=0;i<ps.length-1;i++){var key=ps[i];hasOwnProperty.call(node,key)||(node[key]={}),node=node[key]}return node[ps[i]]=value,value},Traverse.prototype.map=function(cb){return walk(this.value,cb,!0)},Traverse.prototype.forEach=function(cb){return this.value=walk(this.value,cb,!1),this.value},Traverse.prototype.reduce=function(cb,init){var skip=1===arguments.length,acc=skip?this.value:init;return this.forEach(function(x){this.isRoot&amp;&amp;skip||(acc=cb.call(this,acc,x))}),acc},Traverse.prototype.paths=function(){var acc=[];return this.forEach(function(){acc.push(this.path)}),acc},Traverse.prototype.nodes=function(){var acc=[];return this.forEach(function(){acc.push(this.node)}),acc},Traverse.prototype.clone=function(){var parents=[],nodes=[];return function clone(src){for(var i=0;i<parents.length;i++)if(parents[i]===src)return nodes[i];if(&quot;object&quot;==typeof src&amp;&amp;null!==src){var dst=copy(src);return parents.push(src),nodes.push(dst),forEach(objectKeys(src),function(key){dst[key]=clone(src[key])}),parents.pop(),nodes.pop(),dst}return src}(this.value)};var objectKeys=Object.keys||function(obj){var res=[];for(var key in obj)res.push(key);return res},isArray=Array.isArray||function(xs){return&quot;[object Array]&quot;===Object.prototype.toString.call(xs)},forEach=function(xs,fn){if(xs.forEach)return xs.forEach(fn);for(var i=0;i<xs.length;i++)fn(xs[i],i,xs)};forEach(objectKeys(Traverse.prototype),function(key){traverse[key]=function(obj){var args=[].slice.call(arguments,1),t=new Traverse(obj);return t[key].apply(t,args)}});var hasOwnProperty=Object.hasOwnProperty||function(obj,key){return key in obj}},{}]},{},[1])(1)});    \n",
       "    var comment = &quot;&quot;;\n",
       "    mapboxgl.accessToken=&quot;pk.eyJ1IjoibWFwYm94IiwiYSI6ImNpejY4M29iazA2Z2gycXA4N2pmbDZmangifQ.-g_vE53SD2WrJ6tFX7QHmA&quot;;\n",
       "    var mapdata = null;\n",
       "    var map = new mapboxgl.Map({\n",
       "        container: &quot;map-5cea377e-f373b1e1&quot;,\n",
       "        style: &quot;mapbox://styles/mapbox/light-v9&quot;\n",
       "    });\n",
       "\n",
       "    setTimeout(function(){\n",
       "        if (window.addPDMessageListener){\n",
       "            window.addPDMessageListener(function(event){\n",
       "                streamingLayer = map.getSource(&quot;streamingLayer&quot;);\n",
       "                if (streamingLayer){\n",
       "                    streamingLayer.setData(event.data.data);\n",
       "                }else{\n",
       "                    map.addLayer({\n",
       "                        &quot;id&quot;: &quot;streamingLayer&quot;,\n",
       "                        &quot;maptype&quot;: &quot;mapbox&quot;,\n",
       "                        &quot;type&quot;: event.data.type,\n",
       "                        &quot;source&quot;: { type: &quot;geojson&quot;, data: event.data.data },\n",
       "                        &quot;layout&quot;: event.data.layout || {},\n",
       "                        &quot;paint&quot;: event.data.paint || {}\n",
       "                    });\n",
       "                    if (event.data.fitbounds &amp;&amp; event.data.data.features){\n",
       "                        function updateBounds(res, ar){\n",
       "                            if (ar[0].length >=2 &amp;&amp; ar[1].length >= 2 ){\n",
       "                                if (!res){\n",
       "                                    return ar;\n",
       "                                }\n",
       "                                return [ \n",
       "                                    [Math.min( ar[0][0]-0.1, res[0][0]), Math.min( ar[0][1]-0.1, res[0][1])],\n",
       "                                    [Math.max( ar[1][0]+0.1, res[1][0]), Math.max( ar[1][1]+0.1, res[1][1])]\n",
       "                                ]\n",
       "                            }\n",
       "                            return null;\n",
       "                        }\n",
       "                        var bbox = event.data.data.features.reduce(function(res, value){\n",
       "                            var coord = value.geometry.coordinates;\n",
       "                            if (coord.length >= 2 ){\n",
       "                                res = updateBounds( res, [coord[0], coord[1]]);\n",
       "                            }\n",
       "                            return res;\n",
       "                        }, null);\n",
       "                        if (bbox){\n",
       "                            map.fitBounds(bbox);\n",
       "                        }\n",
       "                    }\n",
       "                }\n",
       "            });\n",
       "        };\n",
       "    },100);\n",
       "\n",
       "    var popup = new mapboxgl.Popup({closeButton: false,closeOnClick: true});\n",
       "\n",
       "    function divineGeometryType(mapdata) {\n",
       "        comment = &quot;check type of first geometry. Later expand to check all geometries and make a good decision&quot;;\n",
       "        return mapdata.features[0].geometry.type;\n",
       "    }\n",
       "    \n",
       "    map.on(&quot;mousemove&quot;, function (e) {\n",
       "        var fs = map.queryRenderedFeatures(e.point,{layers:[&quot;pxlayer&quot;]});\n",
       "        if (!fs || !fs.length) {popup.remove();return;};\n",
       "        popuphtml = &quot;&quot;;\n",
       "        var hr = false;\n",
       "        fs.forEach(function(f){\n",
       "            if (hr){ \n",
       "                popuphtml += &quot;<hr>\\n&quot;;\n",
       "            }\n",
       "            hr=true;\n",
       "            popuphtml += &quot;<h3>&quot;+f.layer.id.toUpperCase()+&quot;</h3>\\n&quot;;\n",
       "            var keylength = Object.keys(f.properties).length;\n",
       "            for (var key in f.properties) {\n",
       "                popuphtml += &quot;<b>&quot;+key+&quot;: </b> &quot;+f.properties[key]+&quot;<br/>\\n&quot;;\n",
       "            }\n",
       "        });\n",
       "        popup.setLngLat(e.lngLat).setHTML(popuphtml).addTo(map);\n",
       "    });\n",
       "    \n",
       "    map.on(&quot;click&quot;, function (e) {\n",
       "        var fs = map.queryRenderedFeatures(e.point, { layers: [&quot;pxlayer&quot;] });\n",
       "        if (fs &amp;&amp; fs.length) {\n",
       "            var f = fs[0];\n",
       "            console.log(&quot;clicked&quot;, f);\n",
       "            var keylength = Object.keys(f.properties).length;\n",
       "            var payload = {type:&quot;select&quot;, targetDivId: &quot;&quot; };\n",
       "\n",
       "            for (var key in f.properties) {\n",
       "                payload[key] = f.properties[key];\n",
       "            }\n",
       "\n",
       "            if (window.triggerPDEvent) {\n",
       "                window.triggerPDEvent(payload);\n",
       "            }\n",
       "        }\n",
       "    });\n",
       "        \n",
       "    map.on(&quot;load&quot;, function() {\n",
       "        \n",
       "        mapdata={&quot;type&quot;: &quot;FeatureCollection&quot;, &quot;features&quot;: [{&quot;geometry&quot;: {&quot;type&quot;: &quot;Point&quot;, &quot;coordinates&quot;: [-99.12766, 19.42847]}, &quot;type&quot;: &quot;Feature&quot;, &quot;properties&quot;: {&quot;population&quot;: 12294193}}, {&quot;geometry&quot;: {&quot;type&quot;: &quot;Point&quot;, &quot;coordinates&quot;: [-76.72774, 39.9626]}, &quot;type&quot;: &quot;Feature&quot;, &quot;properties&quot;: {&quot;population&quot;: 43718}}, {&quot;geometry&quot;: {&quot;type&quot;: &quot;Point&quot;, &quot;coordinates&quot;: [0.99774, 52.18893]}, &quot;type&quot;: &quot;Feature&quot;, &quot;properties&quot;: {&quot;population&quot;: 15394}}]};\n",
       "        geomtype = divineGeometryType(mapdata);\n",
       "        \n",
       "            var ds = {\n",
       "                &quot;type&quot;:&quot;geojson&quot;,\n",
       "                &quot;data&quot;:mapdata\n",
       "            };\n",
       "            var clusterme = false;\n",
       "            if (geomtype.substr(-5,5) == &quot;Point&quot;) {\n",
       "                \n",
       "                    clusterme = true;\n",
       "                    ds[&quot;cluster&quot;] = true;\n",
       "                    ds[&quot;clusterMaxZoom&quot;] = 14;\n",
       "                    ds[&quot;clusterRadius&quot;] = 20;\n",
       "                    console.log(&quot;IM CLUSTERED&quot;);\n",
       "                \n",
       "            }\n",
       "            map.addSource(&quot;pxdatasource&quot;, ds);\n",
       "\n",
       "            var maplayertype = &quot;circle&quot;;\n",
       "            if (geomtype.substr(-7,7) == &quot;Polygon&quot;) \n",
       "                maplayertype = &quot;fill&quot;;\n",
       "            else if (geomtype.substr(-10,10) == &quot;LineString&quot;)\n",
       "                maplayertype = &quot;line&quot;;\n",
       "            map.addLayer({\n",
       "                &quot;id&quot;:&quot;pxlayer&quot;,\n",
       "                &quot;type&quot;:maplayertype, \n",
       "                &quot;source&quot;: &quot;pxdatasource&quot;, \n",
       "                &quot;paint&quot;: {&quot;circle-color&quot;: {&quot;property&quot;: &quot;population&quot;, &quot;stops&quot;: [[15394, &quot;#ffffcc&quot;], [29556.0, &quot;#a1dab4&quot;], [43718.0, &quot;#41b6c4&quot;], [6168955.5, &quot;#2c7fb8&quot;], [12294193, &quot;#253494&quot;]]}, &quot;circle-opacity&quot;: 0.25, &quot;circle-radius&quot;: 12}\n",
       "            });\n",
       "            \n",
       "            if (clusterme &amp;&amp; geomtype.substr(-5,5) == &quot;Point&quot;) {\n",
       "                map.addLayer({\n",
       "                    &quot;id&quot;: &quot;cluster-count-labels&quot;, \n",
       "                    &quot;type&quot;: &quot;symbol&quot;, \n",
       "                    &quot;source&quot;: &quot;pxdatasource&quot;, \n",
       "                    &quot;paint&quot;: {\n",
       "                        &quot;text-color&quot;: &quot;#FFF&quot;\n",
       "                    },\n",
       "                    &quot;layout&quot;: {\n",
       "                        &quot;text-field&quot;: &quot;{point_count}&quot;, \n",
       "                        &quot;text-font&quot;: [\n",
       "                            &quot;DIN Offc Pro Medium&quot;, \n",
       "                            &quot;Arial Unicode MS Bold&quot;\n",
       "                        ],\n",
       "                        &quot;text-size&quot;: 12\n",
       "                    }\n",
       "                });\n",
       "            }\n",
       "        \n",
       "        \n",
       "\n",
       "        comment = &quot;Add user layers&quot;;\n",
       "        var layers = [];\n",
       "        \n",
       "        layers.sort(function(a,b) {\n",
       "            return a[1] - b[1];\n",
       "        });\n",
       "        for (layersi=layers.length-1; layersi>=0; layersi--) {\n",
       "            map.addLayer(layers[layersi][0]);\n",
       "            comment = &quot;User layer legend&quot;;\n",
       "            \n",
       "        }\n",
       "        \n",
       "        map.fitBounds([[-99.12766, 19.42847], [0.99774, 52.18893]]);\n",
       "        \n",
       "        \n",
       "    });\n",
       "</script>\n",
       "</body>\n",
       "</html>\" onload=\"iframeLoaded(this)\"></iframe>\n",
       "<script>\n",
       "  var iframe = document.getElementById('mapframe5cea377e');\n",
       "  iframe.setAttribute('srcdoc', atob('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'));\n",
       "</script>\n",
       "\n",
       "        </div>"
      ],
      "text/plain": [
       "<IPython.core.display.HTML object>"
      ]
     },
     "metadata": {},
     "output_type": "display_data"
    }
   ],
   "source": [
    "%%node\n",
    "cities.get(['4562407','2636749','3530597']).then(display).catch(print);"
   ]
  },
  {
   "cell_type": "markdown",
   "metadata": {},
   "source": [
    "We can also query a subset of the data using the `query` function, passing it a Cloudant Query statement:"
   ]
  },
  {
   "cell_type": "code",
   "execution_count": 24,
   "metadata": {
    "pixiedust": {
     "displayParams": {
      "handlerId": "mapView",
      "keyFields": "latitude,longitude",
      "mapboxtoken": "pk.eyJ1IjoibWFwYm94IiwiYSI6ImNpejY4M29iazA2Z2gycXA4N2pmbDZmangifQ.-g_vE53SD2WrJ6tFX7QHmA",
      "rowCount": "500"
     }
    },
    "scrolled": false
   },
   "outputs": [
    {
     "data": {
      "text/html": [
       "<style type=\"text/css\">.pd_warning{display:none;}</style><div class=\"pd_warning\"><em>Hey, there's something awesome here! To see it, open this notebook outside GitHub, in a viewer like Jupyter</em></div>\n",
       "        <div class=\"pd_save is-viewer-good\" style=\"padding-right:10px;text-align: center;line-height:initial !important;font-size: xx-large;font-weight: 500;color: coral;\">\n",
       "            \n",
       "        </div>\n",
       "    <div id=\"chartFigure522cc44b\" class=\"pd_save is-viewer-good\" style=\"overflow-x:auto\">\n",
       "            <script>\n",
       "  window.iframeLoaded = window.iframeLoaded || function(iframe) {\n",
       "    try {\n",
       "      iframe.contentWindow.pdMessageListeners = [];\n",
       "      iframe.contentWindow[\"addPDMessageListener\"] = function(listener){\n",
       "        iframe.contentWindow.pdMessageListeners.push(listener);\n",
       "      }\n",
       "      iframe.contentWindow.addEventListener(\"message\", function(event){\n",
       "        iframe.contentWindow.pdMessageListeners.forEach(function(listener){\n",
       "          listener(event);\n",
       "        });\n",
       "      }, false);\n",
       "      iframe.contentWindow.ready = true;\n",
       "      iframe.contentWindow[\"triggerPDEvent\"] = function(eventInfo) {\n",
       "        $(document).trigger('pd_event', eventInfo);\n",
       "      }\n",
       "    } catch (e) {\n",
       "      console.log(e)\n",
       "    }\n",
       "  }\n",
       "\n",
       "  \n",
       "</script>\n",
       "<iframe id=\"mapframe522cc44b\" style=\"width:878.4px;height:500px\" srcdoc=\"<!DOCTYPE html>\n",
       "<html lang=&quot;en&quot;>\n",
       "<head>\n",
       "    <meta charset=&quot;UTF-8&quot;>\n",
       "    <meta name=&quot;viewport&quot; content=&quot;width=device-width, initial-scale=1&quot;>\n",
       "    <title>Pixiedust Mapbox map</title>\n",
       "    <script src=&quot;https://api.tiles.mapbox.com/mapbox-gl-js/v0.32.1/mapbox-gl.js&quot;></script>\n",
       "    <link href=&quot;https://api.tiles.mapbox.com/mapbox-gl-js/v0.32.1/mapbox-gl.css&quot; rel=&quot;stylesheet&quot; />\n",
       "    <style>\n",
       "    .mapboxgl-popup-content h3 { \n",
       "        margin: 2px 0 2px 0;\n",
       "        font-style: italic;\n",
       "    }\n",
       "    .mapboxgl-popup {\n",
       "        max-width: 200px;\n",
       "    }\n",
       "    #map canvas {\n",
       "        cursor: crosshair;\n",
       "    }\n",
       "    .legend {\n",
       "        background-color: rgba(255,255,255, 0.75);\n",
       "        border-radius: 3px;\n",
       "        position: absolute;\n",
       "        left: 14px;\n",
       "        top: 14px;\n",
       "        box-shadow: 0 1px 2px rgba(0,0,0,0.10);\n",
       "        font-size: 12px;\n",
       "        line-height: 18px;\n",
       "        padding: 10px;\n",
       "        z-index: 1;\n",
       "    }\n",
       "    .legend h4 {\n",
       "        margin: 0 0 10px;\n",
       "    }\n",
       "    .legend div span {\n",
       "        border-radius: 50%;\n",
       "        display: inline-block;\n",
       "        height: 10px;\n",
       "        margin-right: 5px;\n",
       "        width: 10px;\n",
       "    }\n",
       "    body { \n",
       "        background-color:#333; \n",
       "        margin:0px !important; \n",
       "        overflow: hidden;\n",
       "        font-family: &quot;Helvetica Neue&quot;, Arial, Helvetica, sans-serif;\n",
       "    }\n",
       "    </style>\n",
       "</head>\n",
       "<body>\n",
       "<div id=&quot;map-522cc44b-b30f9bfd&quot; style=&quot;width:calc(878.4px - 4px);height:calc(500px - 4px)&quot; />\n",
       "\n",
       "\n",
       "<script>\n",
       "    !function(e){if(&quot;object&quot;==typeof exports&amp;&amp;&quot;undefined&quot;!=typeof module)module.exports=e();else if(&quot;function&quot;==typeof define&amp;&amp;define.amd)define([],e);else{var n;&quot;undefined&quot;!=typeof window?n=window:&quot;undefined&quot;!=typeof global?n=global:&quot;undefined&quot;!=typeof self&amp;&amp;(n=self),n.geojsonExtent=e()}}(function(){return function e(t,n,r){function s(o,u){if(!n[o]){if(!t[o]){var a=&quot;function&quot;==typeof require&amp;&amp;require;if(!u&amp;&amp;a)return a(o,!0);if(i)return i(o,!0);var f=new Error(&quot;Cannot find module &quot;+o+&quot;&quot;);throw f.code=&quot;MODULE_NOT_FOUND&quot;,f}var l=n[o]={exports:{}};t[o][0].call(l.exports,function(e){var n=t[o][1][e];return s(n?n:e)},l,l.exports,e,t,n,r)}return n[o].exports}for(var i=&quot;function&quot;==typeof require&amp;&amp;require,o=0;o<r.length;o++)s(r[o]);return s}({1:[function(require,module){function getExtent(_){for(var ext=extent(),coords=geojsonCoords(_),i=0;i<coords.length;i++)ext.include(coords[i]);return ext}var geojsonCoords=require(&quot;geojson-coords&quot;),traverse=require(&quot;traverse&quot;),extent=require(&quot;extent&quot;),geojsonTypes=[&quot;Point&quot;,&quot;MultiPoint&quot;,&quot;LineString&quot;,&quot;MultiLineString&quot;,&quot;Polygon&quot;,&quot;MultiPolygon&quot;,&quot;Feature&quot;,&quot;FeatureCollection&quot;,&quot;GeometryCollection&quot;];module.exports=function(_){return getExtent(_).bbox()},module.exports.polygon=function(_){return getExtent(_).polygon()},module.exports.bboxify=function(_){return traverse(_).map(function(value){value&amp;&amp;-1!==typeof geojsonTypes.indexOf(value.type)&amp;&amp;(console.log(value.type,value),value.bbox=getExtent(value).bbox(),this.update(value))})}},{extent:2,&quot;geojson-coords&quot;:4,traverse:7}],2:[function(require,module){function Extent(){return this instanceof Extent?(this._bbox=[1/0,1/0,-(1/0),-(1/0)],void(this._valid=!1)):new Extent}module.exports=Extent,Extent.prototype.include=function(ll){return this._valid=!0,this._bbox[0]=Math.min(this._bbox[0],ll[0]),this._bbox[1]=Math.min(this._bbox[1],ll[1]),this._bbox[2]=Math.max(this._bbox[2],ll[0]),this._bbox[3]=Math.max(this._bbox[3],ll[1]),this},Extent.prototype.union=function(other){return this._valid=!0,this._bbox[0]=Math.min(this._bbox[0],other[0]),this._bbox[1]=Math.min(this._bbox[1],other[1]),this._bbox[2]=Math.max(this._bbox[2],other[2]),this._bbox[3]=Math.max(this._bbox[3],other[3]),this},Extent.prototype.bbox=function(){return this._valid?this._bbox:null},Extent.prototype.contains=function(ll){return this._valid?this._bbox[0]<=ll[0]&amp;&amp;this._bbox[1]<=ll[1]&amp;&amp;this._bbox[2]>=ll[0]&amp;&amp;this._bbox[3]>=ll[1]:null},Extent.prototype.polygon=function(){return this._valid?{type:&quot;Polygon&quot;,coordinates:[[[this._bbox[0],this._bbox[1]],[this._bbox[2],this._bbox[1]],[this._bbox[2],this._bbox[3]],[this._bbox[0],this._bbox[3]],[this._bbox[0],this._bbox[1]]]]}:null}},{}],3:[function(require,module){module.exports=function(list){function _flatten(list){return Array.isArray(list)&amp;&amp;list.length&amp;&amp;&quot;number&quot;==typeof list[0]?[list]:list.reduce(function(acc,item){return Array.isArray(item)&amp;&amp;Array.isArray(item[0])?acc.concat(_flatten(item)):(acc.push(item),acc)},[])}return _flatten(list)}},{}],4:[function(require,module){var geojsonNormalize=require(&quot;geojson-normalize&quot;),geojsonFlatten=require(&quot;geojson-flatten&quot;),flatten=require(&quot;./flatten&quot;);module.exports=function(_){if(!_)return[];var normalized=geojsonFlatten(geojsonNormalize(_)),coordinates=[];return normalized.features.forEach(function(feature){feature.geometry&amp;&amp;(coordinates=coordinates.concat(flatten(feature.geometry.coordinates)))}),coordinates}},{&quot;./flatten&quot;:3,&quot;geojson-flatten&quot;:5,&quot;geojson-normalize&quot;:6}],5:[function(require,module){function flatten(gj){switch(gj&amp;&amp;gj.type||null){case&quot;FeatureCollection&quot;:return gj.features=gj.features.reduce(function(mem,feature){return mem.concat(flatten(feature))},[]),gj;case&quot;Feature&quot;:return flatten(gj.geometry).map(function(geom){return{type:&quot;Feature&quot;,properties:JSON.parse(JSON.stringify(gj.properties)),geometry:geom}});case&quot;MultiPoint&quot;:return gj.coordinates.map(function(_){return{type:&quot;Point&quot;,coordinates:_}});case&quot;MultiPolygon&quot;:return gj.coordinates.map(function(_){return{type:&quot;Polygon&quot;,coordinates:_}});case&quot;MultiLineString&quot;:return gj.coordinates.map(function(_){return{type:&quot;LineString&quot;,coordinates:_}});case&quot;GeometryCollection&quot;:return gj.geometries;case&quot;Point&quot;:case&quot;Polygon&quot;:case&quot;LineString&quot;:return[gj];default:return gj}}module.exports=flatten},{}],6:[function(require,module){function normalize(gj){if(!gj||!gj.type)return null;var type=types[gj.type];return type?&quot;geometry&quot;===type?{type:&quot;FeatureCollection&quot;,features:[{type:&quot;Feature&quot;,properties:{},geometry:gj}]}:&quot;feature&quot;===type?{type:&quot;FeatureCollection&quot;,features:[gj]}:&quot;featurecollection&quot;===type?gj:void 0:null}module.exports=normalize;var types={Point:&quot;geometry&quot;,MultiPoint:&quot;geometry&quot;,LineString:&quot;geometry&quot;,MultiLineString:&quot;geometry&quot;,Polygon:&quot;geometry&quot;,MultiPolygon:&quot;geometry&quot;,GeometryCollection:&quot;geometry&quot;,Feature:&quot;feature&quot;,FeatureCollection:&quot;featurecollection&quot;}},{}],7:[function(require,module){function Traverse(obj){this.value=obj}function walk(root,cb,immutable){var path=[],parents=[],alive=!0;return function walker(node_){function updateState(){if(&quot;object&quot;==typeof state.node&amp;&amp;null!==state.node){state.keys&amp;&amp;state.node_===state.node||(state.keys=objectKeys(state.node)),state.isLeaf=0==state.keys.length;for(var i=0;i<parents.length;i++)if(parents[i].node_===node_){state.circular=parents[i];break}}else state.isLeaf=!0,state.keys=null;state.notLeaf=!state.isLeaf,state.notRoot=!state.isRoot}var node=immutable?copy(node_):node_,modifiers={},keepGoing=!0,state={node:node,node_:node_,path:[].concat(path),parent:parents[parents.length-1],parents:parents,key:path.slice(-1)[0],isRoot:0===path.length,level:path.length,circular:null,update:function(x,stopHere){state.isRoot||(state.parent.node[state.key]=x),state.node=x,stopHere&amp;&amp;(keepGoing=!1)},&quot;delete&quot;:function(stopHere){delete state.parent.node[state.key],stopHere&amp;&amp;(keepGoing=!1)},remove:function(stopHere){isArray(state.parent.node)?state.parent.node.splice(state.key,1):delete state.parent.node[state.key],stopHere&amp;&amp;(keepGoing=!1)},keys:null,before:function(f){modifiers.before=f},after:function(f){modifiers.after=f},pre:function(f){modifiers.pre=f},post:function(f){modifiers.post=f},stop:function(){alive=!1},block:function(){keepGoing=!1}};if(!alive)return state;updateState();var ret=cb.call(state,state.node);return void 0!==ret&amp;&amp;state.update&amp;&amp;state.update(ret),modifiers.before&amp;&amp;modifiers.before.call(state,state.node),keepGoing?(&quot;object&quot;!=typeof state.node||null===state.node||state.circular||(parents.push(state),updateState(),forEach(state.keys,function(key,i){path.push(key),modifiers.pre&amp;&amp;modifiers.pre.call(state,state.node[key],key);var child=walker(state.node[key]);immutable&amp;&amp;hasOwnProperty.call(state.node,key)&amp;&amp;(state.node[key]=child.node),child.isLast=i==state.keys.length-1,child.isFirst=0==i,modifiers.post&amp;&amp;modifiers.post.call(state,child),path.pop()}),parents.pop()),modifiers.after&amp;&amp;modifiers.after.call(state,state.node),state):state}(root).node}function copy(src){if(&quot;object&quot;==typeof src&amp;&amp;null!==src){var dst;if(isArray(src))dst=[];else if(isDate(src))dst=new Date(src.getTime?src.getTime():src);else if(isRegExp(src))dst=new RegExp(src);else if(isError(src))dst={message:src.message};else if(isBoolean(src))dst=new Boolean(src);else if(isNumber(src))dst=new Number(src);else if(isString(src))dst=new String(src);else if(Object.create&amp;&amp;Object.getPrototypeOf)dst=Object.create(Object.getPrototypeOf(src));else if(src.constructor===Object)dst={};else{var proto=src.constructor&amp;&amp;src.constructor.prototype||src.__proto__||{},T=function(){};T.prototype=proto,dst=new T}return forEach(objectKeys(src),function(key){dst[key]=src[key]}),dst}return src}function toS(obj){return Object.prototype.toString.call(obj)}function isDate(obj){return&quot;[object Date]&quot;===toS(obj)}function isRegExp(obj){return&quot;[object RegExp]&quot;===toS(obj)}function isError(obj){return&quot;[object Error]&quot;===toS(obj)}function isBoolean(obj){return&quot;[object Boolean]&quot;===toS(obj)}function isNumber(obj){return&quot;[object Number]&quot;===toS(obj)}function isString(obj){return&quot;[object String]&quot;===toS(obj)}var traverse=module.exports=function(obj){return new Traverse(obj)};Traverse.prototype.get=function(ps){for(var node=this.value,i=0;i<ps.length;i++){var key=ps[i];if(!node||!hasOwnProperty.call(node,key)){node=void 0;break}node=node[key]}return node},Traverse.prototype.has=function(ps){for(var node=this.value,i=0;i<ps.length;i++){var key=ps[i];if(!node||!hasOwnProperty.call(node,key))return!1;node=node[key]}return!0},Traverse.prototype.set=function(ps,value){for(var node=this.value,i=0;i<ps.length-1;i++){var key=ps[i];hasOwnProperty.call(node,key)||(node[key]={}),node=node[key]}return node[ps[i]]=value,value},Traverse.prototype.map=function(cb){return walk(this.value,cb,!0)},Traverse.prototype.forEach=function(cb){return this.value=walk(this.value,cb,!1),this.value},Traverse.prototype.reduce=function(cb,init){var skip=1===arguments.length,acc=skip?this.value:init;return this.forEach(function(x){this.isRoot&amp;&amp;skip||(acc=cb.call(this,acc,x))}),acc},Traverse.prototype.paths=function(){var acc=[];return this.forEach(function(){acc.push(this.path)}),acc},Traverse.prototype.nodes=function(){var acc=[];return this.forEach(function(){acc.push(this.node)}),acc},Traverse.prototype.clone=function(){var parents=[],nodes=[];return function clone(src){for(var i=0;i<parents.length;i++)if(parents[i]===src)return nodes[i];if(&quot;object&quot;==typeof src&amp;&amp;null!==src){var dst=copy(src);return parents.push(src),nodes.push(dst),forEach(objectKeys(src),function(key){dst[key]=clone(src[key])}),parents.pop(),nodes.pop(),dst}return src}(this.value)};var objectKeys=Object.keys||function(obj){var res=[];for(var key in obj)res.push(key);return res},isArray=Array.isArray||function(xs){return&quot;[object Array]&quot;===Object.prototype.toString.call(xs)},forEach=function(xs,fn){if(xs.forEach)return xs.forEach(fn);for(var i=0;i<xs.length;i++)fn(xs[i],i,xs)};forEach(objectKeys(Traverse.prototype),function(key){traverse[key]=function(obj){var args=[].slice.call(arguments,1),t=new Traverse(obj);return t[key].apply(t,args)}});var hasOwnProperty=Object.hasOwnProperty||function(obj,key){return key in obj}},{}]},{},[1])(1)});    \n",
       "    var comment = &quot;&quot;;\n",
       "    mapboxgl.accessToken=&quot;pk.eyJ1IjoibWFwYm94IiwiYSI6ImNpejY4M29iazA2Z2gycXA4N2pmbDZmangifQ.-g_vE53SD2WrJ6tFX7QHmA&quot;;\n",
       "    var mapdata = null;\n",
       "    var map = new mapboxgl.Map({\n",
       "        container: &quot;map-522cc44b-b30f9bfd&quot;,\n",
       "        style: &quot;mapbox://styles/mapbox/light-v9&quot;\n",
       "    });\n",
       "\n",
       "    setTimeout(function(){\n",
       "        if (window.addPDMessageListener){\n",
       "            window.addPDMessageListener(function(event){\n",
       "                streamingLayer = map.getSource(&quot;streamingLayer&quot;);\n",
       "                if (streamingLayer){\n",
       "                    streamingLayer.setData(event.data.data);\n",
       "                }else{\n",
       "                    map.addLayer({\n",
       "                        &quot;id&quot;: &quot;streamingLayer&quot;,\n",
       "                        &quot;maptype&quot;: &quot;mapbox&quot;,\n",
       "                        &quot;type&quot;: event.data.type,\n",
       "                        &quot;source&quot;: { type: &quot;geojson&quot;, data: event.data.data },\n",
       "                        &quot;layout&quot;: event.data.layout || {},\n",
       "                        &quot;paint&quot;: event.data.paint || {}\n",
       "                    });\n",
       "                    if (event.data.fitbounds &amp;&amp; event.data.data.features){\n",
       "                        function updateBounds(res, ar){\n",
       "                            if (ar[0].length >=2 &amp;&amp; ar[1].length >= 2 ){\n",
       "                                if (!res){\n",
       "                                    return ar;\n",
       "                                }\n",
       "                                return [ \n",
       "                                    [Math.min( ar[0][0]-0.1, res[0][0]), Math.min( ar[0][1]-0.1, res[0][1])],\n",
       "                                    [Math.max( ar[1][0]+0.1, res[1][0]), Math.max( ar[1][1]+0.1, res[1][1])]\n",
       "                                ]\n",
       "                            }\n",
       "                            return null;\n",
       "                        }\n",
       "                        var bbox = event.data.data.features.reduce(function(res, value){\n",
       "                            var coord = value.geometry.coordinates;\n",
       "                            if (coord.length >= 2 ){\n",
       "                                res = updateBounds( res, [coord[0], coord[1]]);\n",
       "                            }\n",
       "                            return res;\n",
       "                        }, null);\n",
       "                        if (bbox){\n",
       "                            map.fitBounds(bbox);\n",
       "                        }\n",
       "                    }\n",
       "                }\n",
       "            });\n",
       "        };\n",
       "    },100);\n",
       "\n",
       "    var popup = new mapboxgl.Popup({closeButton: false,closeOnClick: true});\n",
       "\n",
       "    function divineGeometryType(mapdata) {\n",
       "        comment = &quot;check type of first geometry. Later expand to check all geometries and make a good decision&quot;;\n",
       "        return mapdata.features[0].geometry.type;\n",
       "    }\n",
       "    \n",
       "    map.on(&quot;mousemove&quot;, function (e) {\n",
       "        var fs = map.queryRenderedFeatures(e.point,{layers:[&quot;pxlayer&quot;]});\n",
       "        if (!fs || !fs.length) {popup.remove();return;};\n",
       "        popuphtml = &quot;&quot;;\n",
       "        var hr = false;\n",
       "        fs.forEach(function(f){\n",
       "            if (hr){ \n",
       "                popuphtml += &quot;<hr>\\n&quot;;\n",
       "            }\n",
       "            hr=true;\n",
       "            popuphtml += &quot;<h3>&quot;+f.layer.id.toUpperCase()+&quot;</h3>\\n&quot;;\n",
       "            var keylength = Object.keys(f.properties).length;\n",
       "            for (var key in f.properties) {\n",
       "                popuphtml += &quot;<b>&quot;+key+&quot;: </b> &quot;+f.properties[key]+&quot;<br/>\\n&quot;;\n",
       "            }\n",
       "        });\n",
       "        popup.setLngLat(e.lngLat).setHTML(popuphtml).addTo(map);\n",
       "    });\n",
       "    \n",
       "    map.on(&quot;click&quot;, function (e) {\n",
       "        var fs = map.queryRenderedFeatures(e.point, { layers: [&quot;pxlayer&quot;] });\n",
       "        if (fs &amp;&amp; fs.length) {\n",
       "            var f = fs[0];\n",
       "            console.log(&quot;clicked&quot;, f);\n",
       "            var keylength = Object.keys(f.properties).length;\n",
       "            var payload = {type:&quot;select&quot;, targetDivId: &quot;&quot; };\n",
       "\n",
       "            for (var key in f.properties) {\n",
       "                payload[key] = f.properties[key];\n",
       "            }\n",
       "\n",
       "            if (window.triggerPDEvent) {\n",
       "                window.triggerPDEvent(payload);\n",
       "            }\n",
       "        }\n",
       "    });\n",
       "        \n",
       "    map.on(&quot;load&quot;, function() {\n",
       "        \n",
       "        mapdata={&quot;type&quot;: &quot;FeatureCollection&quot;, &quot;features&quot;: [{&quot;geometry&quot;: {&quot;type&quot;: &quot;Point&quot;, &quot;coordinates&quot;: [-2.79988, 54.04649]}, &quot;type&quot;: &quot;Feature&quot;, &quot;properties&quot;: {&quot;pd_count&quot;: 1}}, {&quot;geometry&quot;: {&quot;type&quot;: &quot;Point&quot;, &quot;coordinates&quot;: [-2.86108, 54.06835]}, &quot;type&quot;: &quot;Feature&quot;, &quot;properties&quot;: {&quot;pd_count&quot;: 1}}, {&quot;geometry&quot;: {&quot;type&quot;: &quot;Point&quot;, &quot;coordinates&quot;: [-0.19192, 54.08306]}, &quot;type&quot;: &quot;Feature&quot;, &quot;properties&quot;: {&quot;pd_count&quot;: 1}}, {&quot;geometry&quot;: {&quot;type&quot;: &quot;Point&quot;, &quot;coordinates&quot;: [-1.52826, 54.13579]}, &quot;type&quot;: &quot;Feature&quot;, &quot;properties&quot;: {&quot;pd_count&quot;: 1}}, {&quot;geometry&quot;: {&quot;type&quot;: &quot;Point&quot;, &quot;coordinates&quot;: [-6.33739, 54.17841]}, &quot;type&quot;: &quot;Feature&quot;, &quot;properties&quot;: {&quot;pd_count&quot;: 1}}, {&quot;geometry&quot;: {&quot;type&quot;: &quot;Point&quot;, &quot;coordinates&quot;: [-0.40443, 54.27966]}, &quot;type&quot;: &quot;Feature&quot;, &quot;properties&quot;: {&quot;pd_count&quot;: 1}}, {&quot;geometry&quot;: {&quot;type&quot;: &quot;Point&quot;, &quot;coordinates&quot;: [-2.74757, 54.32681]}, &quot;type&quot;: &quot;Feature&quot;, &quot;properties&quot;: {&quot;pd_count&quot;: 1}}, {&quot;geometry&quot;: {&quot;type&quot;: &quot;Point&quot;, &quot;coordinates&quot;: [-1.43243, 54.33901]}, &quot;type&quot;: &quot;Feature&quot;, &quot;properties&quot;: {&quot;pd_count&quot;: 1}}, {&quot;geometry&quot;: {&quot;type&quot;: &quot;Point&quot;, &quot;coordinates&quot;: [-6.44434, 54.42302]}, &quot;type&quot;: &quot;Feature&quot;, &quot;properties&quot;: {&quot;pd_count&quot;: 1}}, {&quot;geometry&quot;: {&quot;type&quot;: &quot;Point&quot;, &quot;coordinates&quot;: [-6.03527, 54.52337]}, &quot;type&quot;: &quot;Feature&quot;, &quot;properties&quot;: {&quot;pd_count&quot;: 1}}, {&quot;geometry&quot;: {&quot;type&quot;: &quot;Point&quot;, &quot;coordinates&quot;: [-1.55039, 54.52429]}, &quot;type&quot;: &quot;Feature&quot;, &quot;properties&quot;: {&quot;pd_count&quot;: 1}}, {&quot;geometry&quot;: {&quot;type&quot;: &quot;Point&quot;, &quot;coordinates&quot;: [-1.3, 54.53333]}, &quot;type&quot;: &quot;Feature&quot;, &quot;properties&quot;: {&quot;pd_count&quot;: 1}}, {&quot;geometry&quot;: {&quot;type&quot;: &quot;Point&quot;, &quot;coordinates&quot;: [-1.05606, 54.53478]}, &quot;type&quot;: &quot;Feature&quot;, &quot;properties&quot;: {&quot;pd_count&quot;: 1}}, {&quot;geometry&quot;: {&quot;type&quot;: &quot;Point&quot;, &quot;coordinates&quot;: [-3.58412, 54.54897]}, &quot;type&quot;: &quot;Feature&quot;, &quot;properties&quot;: {&quot;pd_count&quot;: 1}}, {&quot;geometry&quot;: {&quot;type&quot;: &quot;Point&quot;, &quot;coordinates&quot;: [-1.3187, 54.56848]}, &quot;type&quot;: &quot;Feature&quot;, &quot;properties&quot;: {&quot;pd_count&quot;: 1}}, {&quot;geometry&quot;: {&quot;type&quot;: &quot;Point&quot;, &quot;coordinates&quot;: [-5.88472, 54.5735]}, &quot;type&quot;: &quot;Feature&quot;, &quot;properties&quot;: {&quot;pd_count&quot;: 1}}, {&quot;geometry&quot;: {&quot;type&quot;: &quot;Point&quot;, &quot;coordinates&quot;: [-1.23483, 54.57623]}, &quot;type&quot;: &quot;Feature&quot;, &quot;properties&quot;: {&quot;pd_count&quot;: 1}}, {&quot;geometry&quot;: {&quot;type&quot;: &quot;Point&quot;, &quot;coordinates&quot;: [-1.29034, 54.58881]}, &quot;type&quot;: &quot;Feature&quot;, &quot;properties&quot;: {&quot;pd_count&quot;: 1}}, {&quot;geometry&quot;: {&quot;type&quot;: &quot;Point&quot;, &quot;coordinates&quot;: [-5.69092, 54.59236]}, &quot;type&quot;: &quot;Feature&quot;, &quot;properties&quot;: {&quot;pd_count&quot;: 1}}, {&quot;geometry&quot;: {&quot;type&quot;: &quot;Point&quot;, &quot;coordinates&quot;: [-7.3, 54.6]}, &quot;type&quot;: &quot;Feature&quot;, &quot;properties&quot;: {&quot;pd_count&quot;: 1}}, {&quot;geometry&quot;: {&quot;type&quot;: &quot;Point&quot;, &quot;coordinates&quot;: [-1.05999, 54.61657]}, &quot;type&quot;: &quot;Feature&quot;, &quot;properties&quot;: {&quot;pd_count&quot;: 1}}, {&quot;geometry&quot;: {&quot;type&quot;: &quot;Point&quot;, &quot;coordinates&quot;: [-1.5719, 54.61842]}, &quot;type&quot;: &quot;Feature&quot;, &quot;properties&quot;: {&quot;pd_count&quot;: 1}}, {&quot;geometry&quot;: {&quot;type&quot;: &quot;Point&quot;, &quot;coordinates&quot;: [-3.54413, 54.6425]}, &quot;type&quot;: &quot;Feature&quot;, &quot;properties&quot;: {&quot;pd_count&quot;: 1}}, {&quot;geometry&quot;: {&quot;type&quot;: &quot;Point&quot;, &quot;coordinates&quot;: [-1.67706, 54.65554]}, &quot;type&quot;: &quot;Feature&quot;, &quot;properties&quot;: {&quot;pd_count&quot;: 1}}, {&quot;geometry&quot;: {&quot;type&quot;: &quot;Point&quot;, &quot;coordinates&quot;: [-5.90858, 54.65983]}, &quot;type&quot;: &quot;Feature&quot;, &quot;properties&quot;: {&quot;pd_count&quot;: 1}}, {&quot;geometry&quot;: {&quot;type&quot;: &quot;Point&quot;, &quot;coordinates&quot;: [-1.2125, 54.68611]}, &quot;type&quot;: &quot;Feature&quot;, &quot;properties&quot;: {&quot;pd_count&quot;: 1}}, {&quot;geometry&quot;: {&quot;type&quot;: &quot;Point&quot;, &quot;coordinates&quot;: [-1.60229, 54.6988]}, &quot;type&quot;: &quot;Feature&quot;, &quot;properties&quot;: {&quot;pd_count&quot;: 1}}, {&quot;geometry&quot;: {&quot;type&quot;: &quot;Point&quot;, &quot;coordinates&quot;: [-5.8058, 54.7158]}, &quot;type&quot;: &quot;Feature&quot;, &quot;properties&quot;: {&quot;pd_count&quot;: 1}}, {&quot;geometry&quot;: {&quot;type&quot;: &quot;Point&quot;, &quot;coordinates&quot;: [-1.33649, 54.76032]}, &quot;type&quot;: &quot;Feature&quot;, &quot;properties&quot;: {&quot;pd_count&quot;: 1}}, {&quot;geometry&quot;: {&quot;type&quot;: &quot;Point&quot;, &quot;coordinates&quot;: [-1.57566, 54.77676]}, &quot;type&quot;: &quot;Feature&quot;, &quot;properties&quot;: {&quot;pd_count&quot;: 1}}, {&quot;geometry&quot;: {&quot;type&quot;: &quot;Point&quot;, &quot;coordinates&quot;: [-1.34575, 54.83903]}, &quot;type&quot;: &quot;Feature&quot;, &quot;properties&quot;: {&quot;pd_count&quot;: 1}}, {&quot;geometry&quot;: {&quot;type&quot;: &quot;Point&quot;, &quot;coordinates&quot;: [-1.46427, 54.84034]}, &quot;type&quot;: &quot;Feature&quot;, &quot;properties&quot;: {&quot;pd_count&quot;: 1}}, {&quot;geometry&quot;: {&quot;type&quot;: &quot;Point&quot;, &quot;coordinates&quot;: [-5.81667, 54.85]}, &quot;type&quot;: &quot;Feature&quot;, &quot;properties&quot;: {&quot;pd_count&quot;: 1}}, {&quot;geometry&quot;: {&quot;type&quot;: &quot;Point&quot;, &quot;coordinates&quot;: [-1.8316, 54.85404]}, &quot;type&quot;: &quot;Feature&quot;, &quot;properties&quot;: {&quot;pd_count&quot;: 1}}, {&quot;geometry&quot;: {&quot;type&quot;: &quot;Point&quot;, &quot;coordinates&quot;: [-1.57408, 54.85862]}, &quot;type&quot;: &quot;Feature&quot;, &quot;properties&quot;: {&quot;pd_count&quot;: 1}}, {&quot;geometry&quot;: {&quot;type&quot;: &quot;Point&quot;, &quot;coordinates&quot;: [-2.9382, 54.8951]}, &quot;type&quot;: &quot;Feature&quot;, &quot;properties&quot;: {&quot;pd_count&quot;: 1}}, {&quot;geometry&quot;: {&quot;type&quot;: &quot;Point&quot;, &quot;coordinates&quot;: [-1.51667, 54.9]}, &quot;type&quot;: &quot;Feature&quot;, &quot;properties&quot;: {&quot;pd_count&quot;: 1}}, {&quot;geometry&quot;: {&quot;type&quot;: &quot;Point&quot;, &quot;coordinates&quot;: [-1.38222, 54.90465]}, &quot;type&quot;: &quot;Feature&quot;, &quot;properties&quot;: {&quot;pd_count&quot;: 1}}, {&quot;geometry&quot;: {&quot;type&quot;: &quot;Point&quot;, &quot;coordinates&quot;: [-1.67635, 54.94561]}, &quot;type&quot;: &quot;Feature&quot;, &quot;properties&quot;: {&quot;pd_count&quot;: 1}}, {&quot;geometry&quot;: {&quot;type&quot;: &quot;Point&quot;, &quot;coordinates&quot;: [-1.57152, 54.95297]}, &quot;type&quot;: &quot;Feature&quot;, &quot;properties&quot;: {&quot;pd_count&quot;: 1}}, {&quot;geometry&quot;: {&quot;type&quot;: &quot;Point&quot;, &quot;coordinates&quot;: [-1.60168, 54.96209]}, &quot;type&quot;: &quot;Feature&quot;, &quot;properties&quot;: {&quot;pd_count&quot;: 1}}, {&quot;geometry&quot;: {&quot;type&quot;: &quot;Point&quot;, &quot;coordinates&quot;: [-1.51546, 54.97302]}, &quot;type&quot;: &quot;Feature&quot;, &quot;properties&quot;: {&quot;pd_count&quot;: 1}}, {&quot;geometry&quot;: {&quot;type&quot;: &quot;Point&quot;, &quot;coordinates&quot;: [-1.61396, 54.97328]}, &quot;type&quot;: &quot;Feature&quot;, &quot;properties&quot;: {&quot;pd_count&quot;: 1}}, {&quot;geometry&quot;: {&quot;type&quot;: &quot;Point&quot;, &quot;coordinates&quot;: [-1.48423, 54.98036]}, &quot;type&quot;: &quot;Feature&quot;, &quot;properties&quot;: {&quot;pd_count&quot;: 1}}, {&quot;geometry&quot;: {&quot;type&quot;: &quot;Point&quot;, &quot;coordinates&quot;: [-1.74415, 54.9876]}, &quot;type&quot;: &quot;Feature&quot;, &quot;properties&quot;: {&quot;pd_count&quot;: 1}}, {&quot;geometry&quot;: {&quot;type&quot;: &quot;Point&quot;, &quot;coordinates&quot;: [-1.53397, 54.99111]}, &quot;type&quot;: &quot;Feature&quot;, &quot;properties&quot;: {&quot;pd_count&quot;: 1}}, {&quot;geometry&quot;: {&quot;type&quot;: &quot;Point&quot;, &quot;coordinates&quot;: [-7.30917, 54.99721]}, &quot;type&quot;: &quot;Feature&quot;, &quot;properties&quot;: {&quot;pd_count&quot;: 1}}, {&quot;geometry&quot;: {&quot;type&quot;: &quot;Point&quot;, &quot;coordinates&quot;: [-7.30934, 54.9981]}, &quot;type&quot;: &quot;Feature&quot;, &quot;properties&quot;: {&quot;pd_count&quot;: 1}}, {&quot;geometry&quot;: {&quot;type&quot;: &quot;Point&quot;, &quot;coordinates&quot;: [-1.4323, 54.99859]}, &quot;type&quot;: &quot;Feature&quot;, &quot;properties&quot;: {&quot;pd_count&quot;: 1}}, {&quot;geometry&quot;: {&quot;type&quot;: &quot;Point&quot;, &quot;coordinates&quot;: [-1.61667, 55.0]}, &quot;type&quot;: &quot;Feature&quot;, &quot;properties&quot;: {&quot;pd_count&quot;: 1}}, {&quot;geometry&quot;: {&quot;type&quot;: &quot;Point&quot;, &quot;coordinates&quot;: [-1.44925, 55.01646]}, &quot;type&quot;: &quot;Feature&quot;, &quot;properties&quot;: {&quot;pd_count&quot;: 1}}, {&quot;geometry&quot;: {&quot;type&quot;: &quot;Point&quot;, &quot;coordinates&quot;: [-1.42559, 55.01788]}, &quot;type&quot;: &quot;Feature&quot;, &quot;properties&quot;: {&quot;pd_count&quot;: 1}}, {&quot;geometry&quot;: {&quot;type&quot;: &quot;Point&quot;, &quot;coordinates&quot;: [-1.44713, 55.03973]}, &quot;type&quot;: &quot;Feature&quot;, &quot;properties&quot;: {&quot;pd_count&quot;: 1}}, {&quot;geometry&quot;: {&quot;type&quot;: &quot;Point&quot;, &quot;coordinates&quot;: [-1.58598, 55.08652]}, &quot;type&quot;: &quot;Feature&quot;, &quot;properties&quot;: {&quot;pd_count&quot;: 1}}, {&quot;geometry&quot;: {&quot;type&quot;: &quot;Point&quot;, &quot;coordinates&quot;: [-1.50856, 55.12708]}, &quot;type&quot;: &quot;Feature&quot;, &quot;properties&quot;: {&quot;pd_count&quot;: 1}}, {&quot;geometry&quot;: {&quot;type&quot;: &quot;Point&quot;, &quot;coordinates&quot;: [-6.66667, 55.13333]}, &quot;type&quot;: &quot;Feature&quot;, &quot;properties&quot;: {&quot;pd_count&quot;: 1}}, {&quot;geometry&quot;: {&quot;type&quot;: &quot;Point&quot;, &quot;coordinates&quot;: [-4.61667, 55.48333]}, &quot;type&quot;: &quot;Feature&quot;, &quot;properties&quot;: {&quot;pd_count&quot;: 1}}, {&quot;geometry&quot;: {&quot;type&quot;: &quot;Point&quot;, &quot;coordinates&quot;: [-4.49581, 55.61171]}, &quot;type&quot;: &quot;Feature&quot;, &quot;properties&quot;: {&quot;pd_count&quot;: 1}}, {&quot;geometry&quot;: {&quot;type&quot;: &quot;Point&quot;, &quot;coordinates&quot;: [-4.65508, 55.6194]}, &quot;type&quot;: &quot;Feature&quot;, &quot;properties&quot;: {&quot;pd_count&quot;: 1}}, {&quot;geometry&quot;: {&quot;type&quot;: &quot;Point&quot;, &quot;coordinates&quot;: [-4.70666, 55.65333]}, &quot;type&quot;: &quot;Feature&quot;, &quot;properties&quot;: {&quot;pd_count&quot;: 1}}, {&quot;geometry&quot;: {&quot;type&quot;: &quot;Point&quot;, &quot;coordinates&quot;: [-3.96667, 55.73333]}, &quot;type&quot;: &quot;Feature&quot;, &quot;properties&quot;: {&quot;pd_count&quot;: 1}}, {&quot;geometry&quot;: {&quot;type&quot;: &quot;Point&quot;, &quot;coordinates&quot;: [-3.91667, 55.73333]}, &quot;type&quot;: &quot;Feature&quot;, &quot;properties&quot;: {&quot;pd_count&quot;: 1}}, {&quot;geometry&quot;: {&quot;type&quot;: &quot;Point&quot;, &quot;coordinates&quot;: [-4.17669, 55.76412]}, &quot;type&quot;: &quot;Feature&quot;, &quot;properties&quot;: {&quot;pd_count&quot;: 1}}, {&quot;geometry&quot;: {&quot;type&quot;: &quot;Point&quot;, &quot;coordinates&quot;: [-4.03333, 55.76667]}, &quot;type&quot;: &quot;Feature&quot;, &quot;properties&quot;: {&quot;pd_count&quot;: 1}}, {&quot;geometry&quot;: {&quot;type&quot;: &quot;Point&quot;, &quot;coordinates&quot;: [-3.91667, 55.76667]}, &quot;type&quot;: &quot;Feature&quot;, &quot;properties&quot;: {&quot;pd_count&quot;: 1}}, {&quot;geometry&quot;: {&quot;type&quot;: &quot;Point&quot;, &quot;coordinates&quot;: [-4.33339, 55.77334]}, &quot;type&quot;: &quot;Feature&quot;, &quot;properties&quot;: {&quot;pd_count&quot;: 1}}, {&quot;geometry&quot;: {&quot;type&quot;: &quot;Point&quot;, &quot;coordinates&quot;: [-4.10007, 55.78438]}, &quot;type&quot;: &quot;Feature&quot;, &quot;properties&quot;: {&quot;pd_count&quot;: 1}}, {&quot;geometry&quot;: {&quot;type&quot;: &quot;Point&quot;, &quot;coordinates&quot;: [-3.99187, 55.78924]}, &quot;type&quot;: &quot;Feature&quot;, &quot;properties&quot;: {&quot;pd_count&quot;: 1}}, {&quot;geometry&quot;: {&quot;type&quot;: &quot;Point&quot;, &quot;coordinates&quot;: [-4.29488, 55.80373]}, &quot;type&quot;: &quot;Feature&quot;, &quot;properties&quot;: {&quot;pd_count&quot;: 1}}, {&quot;geometry&quot;: {&quot;type&quot;: &quot;Point&quot;, &quot;coordinates&quot;: [-4.21376, 55.82885]}, &quot;type&quot;: &quot;Feature&quot;, &quot;properties&quot;: {&quot;pd_count&quot;: 1}}, {&quot;geometry&quot;: {&quot;type&quot;: &quot;Point&quot;, &quot;coordinates&quot;: [-4.51605, 55.82906]}, &quot;type&quot;: &quot;Feature&quot;, &quot;properties&quot;: {&quot;pd_count&quot;: 1}}, {&quot;geometry&quot;: {&quot;type&quot;: &quot;Point&quot;, &quot;coordinates&quot;: [-3.22608, 55.83116]}, &quot;type&quot;: &quot;Feature&quot;, &quot;properties&quot;: {&quot;pd_count&quot;: 1}}, {&quot;geometry&quot;: {&quot;type&quot;: &quot;Point&quot;, &quot;coordinates&quot;: [-4.43254, 55.83173]}, &quot;type&quot;: &quot;Feature&quot;, &quot;properties&quot;: {&quot;pd_count&quot;: 1}}, {&quot;geometry&quot;: {&quot;type&quot;: &quot;Point&quot;, &quot;coordinates&quot;: [-4.02469, 55.86216]}, &quot;type&quot;: &quot;Feature&quot;, &quot;properties&quot;: {&quot;pd_count&quot;: 1}}, {&quot;geometry&quot;: {&quot;type&quot;: &quot;Point&quot;, &quot;coordinates&quot;: [-4.25763, 55.86515]}, &quot;type&quot;: &quot;Feature&quot;, &quot;properties&quot;: {&quot;pd_count&quot;: 1}}, {&quot;geometry&quot;: {&quot;type&quot;: &quot;Point&quot;, &quot;coordinates&quot;: [-4.39253, 55.87197]}, &quot;type&quot;: &quot;Feature&quot;, &quot;properties&quot;: {&quot;pd_count&quot;: 1}}, {&quot;geometry&quot;: {&quot;type&quot;: &quot;Point&quot;, &quot;coordinates&quot;: [-4.4057, 55.90137]}, &quot;type&quot;: &quot;Feature&quot;, &quot;properties&quot;: {&quot;pd_count&quot;: 1}}, {&quot;geometry&quot;: {&quot;type&quot;: &quot;Point&quot;, &quot;coordinates&quot;: [-3.52261, 55.90288]}, &quot;type&quot;: &quot;Feature&quot;, &quot;properties&quot;: {&quot;pd_count&quot;: 1}}, {&quot;geometry&quot;: {&quot;type&quot;: &quot;Point&quot;, &quot;coordinates&quot;: [-4.21869, 55.90669]}, &quot;type&quot;: &quot;Feature&quot;, &quot;properties&quot;: {&quot;pd_count&quot;: 1}}, {&quot;geometry&quot;: {&quot;type&quot;: &quot;Point&quot;, &quot;coordinates&quot;: [-4.6895, 55.93464]}, &quot;type&quot;: &quot;Feature&quot;, &quot;properties&quot;: {&quot;pd_count&quot;: 1}}, {&quot;geometry&quot;: {&quot;type&quot;: &quot;Point&quot;, &quot;coordinates&quot;: [-4.15262, 55.93933]}, &quot;type&quot;: &quot;Feature&quot;, &quot;properties&quot;: {&quot;pd_count&quot;: 1}}, {&quot;geometry&quot;: {&quot;type&quot;: &quot;Point&quot;, &quot;coordinates&quot;: [-3.04991, 55.9417]}, &quot;type&quot;: &quot;Feature&quot;, &quot;properties&quot;: {&quot;pd_count&quot;: 1}}, {&quot;geometry&quot;: {&quot;type&quot;: &quot;Point&quot;, &quot;coordinates&quot;: [-4.57061, 55.94433]}, &quot;type&quot;: &quot;Feature&quot;, &quot;properties&quot;: {&quot;pd_count&quot;: 1}}, {&quot;geometry&quot;: {&quot;type&quot;: &quot;Point&quot;, &quot;coordinates&quot;: [-3.99051, 55.94685]}, &quot;type&quot;: &quot;Feature&quot;, &quot;properties&quot;: {&quot;pd_count&quot;: 1}}, {&quot;geometry&quot;: {&quot;type&quot;: &quot;Point&quot;, &quot;coordinates&quot;: [-4.76121, 55.94838]}, &quot;type&quot;: &quot;Feature&quot;, &quot;properties&quot;: {&quot;pd_count&quot;: 1}}, {&quot;geometry&quot;: {&quot;type&quot;: &quot;Point&quot;, &quot;coordinates&quot;: [-3.19648, 55.95206]}, &quot;type&quot;: &quot;Feature&quot;, &quot;properties&quot;: {&quot;pd_count&quot;: 1}}, {&quot;geometry&quot;: {&quot;type&quot;: &quot;Point&quot;, &quot;coordinates&quot;: [-3.70737, 55.9905]}, &quot;type&quot;: &quot;Feature&quot;, &quot;properties&quot;: {&quot;pd_count&quot;: 1}}, {&quot;geometry&quot;: {&quot;type&quot;: &quot;Point&quot;, &quot;coordinates&quot;: [-3.78535, 56.0021]}, &quot;type&quot;: &quot;Feature&quot;, &quot;properties&quot;: {&quot;pd_count&quot;: 1}}, {&quot;geometry&quot;: {&quot;type&quot;: &quot;Point&quot;, &quot;coordinates&quot;: [-3.72183, 56.01141]}, &quot;type&quot;: &quot;Feature&quot;, &quot;properties&quot;: {&quot;pd_count&quot;: 1}}, {&quot;geometry&quot;: {&quot;type&quot;: &quot;Point&quot;, &quot;coordinates&quot;: [-3.45887, 56.07156]}, &quot;type&quot;: &quot;Feature&quot;, &quot;properties&quot;: {&quot;pd_count&quot;: 1}}, {&quot;geometry&quot;: {&quot;type&quot;: &quot;Point&quot;, &quot;coordinates&quot;: [-3.15999, 56.11683]}, &quot;type&quot;: &quot;Feature&quot;, &quot;properties&quot;: {&quot;pd_count&quot;: 1}}, {&quot;geometry&quot;: {&quot;type&quot;: &quot;Point&quot;, &quot;coordinates&quot;: [-3.93682, 56.11903]}, &quot;type&quot;: &quot;Feature&quot;, &quot;properties&quot;: {&quot;pd_count&quot;: 1}}, {&quot;geometry&quot;: {&quot;type&quot;: &quot;Point&quot;, &quot;coordinates&quot;: [-3.03377, 56.17149]}, &quot;type&quot;: &quot;Feature&quot;, &quot;properties&quot;: {&quot;pd_count&quot;: 1}}, {&quot;geometry&quot;: {&quot;type&quot;: &quot;Point&quot;, &quot;coordinates&quot;: [-3.17316, 56.19514]}, &quot;type&quot;: &quot;Feature&quot;, &quot;properties&quot;: {&quot;pd_count&quot;: 1}}, {&quot;geometry&quot;: {&quot;type&quot;: &quot;Point&quot;, &quot;coordinates&quot;: [-2.79902, 56.33871]}, &quot;type&quot;: &quot;Feature&quot;, &quot;properties&quot;: {&quot;pd_count&quot;: 1}}, {&quot;geometry&quot;: {&quot;type&quot;: &quot;Point&quot;, &quot;coordinates&quot;: [-3.43139, 56.39522]}, &quot;type&quot;: &quot;Feature&quot;, &quot;properties&quot;: {&quot;pd_count&quot;: 1}}, {&quot;geometry&quot;: {&quot;type&quot;: &quot;Point&quot;, &quot;coordinates&quot;: [-2.97489, 56.46913]}, &quot;type&quot;: &quot;Feature&quot;, &quot;properties&quot;: {&quot;pd_count&quot;: 1}}, {&quot;geometry&quot;: {&quot;type&quot;: &quot;Point&quot;, &quot;coordinates&quot;: [-4.22398, 57.47908]}, &quot;type&quot;: &quot;Feature&quot;, &quot;properties&quot;: {&quot;pd_count&quot;: 1}}, {&quot;geometry&quot;: {&quot;type&quot;: &quot;Point&quot;, &quot;coordinates&quot;: [-1.79806, 57.50584]}, &quot;type&quot;: &quot;Feature&quot;, &quot;properties&quot;: {&quot;pd_count&quot;: 1}}, {&quot;geometry&quot;: {&quot;type&quot;: &quot;Point&quot;, &quot;coordinates&quot;: [-3.31843, 57.64947]}, &quot;type&quot;: &quot;Feature&quot;, &quot;properties&quot;: {&quot;pd_count&quot;: 1}}]};\n",
       "        geomtype = divineGeometryType(mapdata);\n",
       "        \n",
       "            var ds = {\n",
       "                &quot;type&quot;:&quot;geojson&quot;,\n",
       "                &quot;data&quot;:mapdata\n",
       "            };\n",
       "            var clusterme = false;\n",
       "            if (geomtype.substr(-5,5) == &quot;Point&quot;) {\n",
       "                \n",
       "                    clusterme = true;\n",
       "                    ds[&quot;cluster&quot;] = true;\n",
       "                    ds[&quot;clusterMaxZoom&quot;] = 14;\n",
       "                    ds[&quot;clusterRadius&quot;] = 20;\n",
       "                    console.log(&quot;IM CLUSTERED&quot;);\n",
       "                \n",
       "            }\n",
       "            map.addSource(&quot;pxdatasource&quot;, ds);\n",
       "\n",
       "            var maplayertype = &quot;circle&quot;;\n",
       "            if (geomtype.substr(-7,7) == &quot;Polygon&quot;) \n",
       "                maplayertype = &quot;fill&quot;;\n",
       "            else if (geomtype.substr(-10,10) == &quot;LineString&quot;)\n",
       "                maplayertype = &quot;line&quot;;\n",
       "            map.addLayer({\n",
       "                &quot;id&quot;:&quot;pxlayer&quot;,\n",
       "                &quot;type&quot;:maplayertype, \n",
       "                &quot;source&quot;: &quot;pxdatasource&quot;, \n",
       "                &quot;paint&quot;: {&quot;circle-color&quot;: {&quot;property&quot;: &quot;pd_count&quot;, &quot;stops&quot;: [[1, &quot;#ffffcc&quot;], [1.0, &quot;#a1dab4&quot;], [1.0, &quot;#41b6c4&quot;], [1.0, &quot;#2c7fb8&quot;], [1, &quot;#253494&quot;]]}, &quot;circle-opacity&quot;: 0.25, &quot;circle-radius&quot;: 12}\n",
       "            });\n",
       "            \n",
       "            if (clusterme &amp;&amp; geomtype.substr(-5,5) == &quot;Point&quot;) {\n",
       "                map.addLayer({\n",
       "                    &quot;id&quot;: &quot;cluster-count-labels&quot;, \n",
       "                    &quot;type&quot;: &quot;symbol&quot;, \n",
       "                    &quot;source&quot;: &quot;pxdatasource&quot;, \n",
       "                    &quot;paint&quot;: {\n",
       "                        &quot;text-color&quot;: &quot;#FFF&quot;\n",
       "                    },\n",
       "                    &quot;layout&quot;: {\n",
       "                        &quot;text-field&quot;: &quot;{point_count}&quot;, \n",
       "                        &quot;text-font&quot;: [\n",
       "                            &quot;DIN Offc Pro Medium&quot;, \n",
       "                            &quot;Arial Unicode MS Bold&quot;\n",
       "                        ],\n",
       "                        &quot;text-size&quot;: 12\n",
       "                    }\n",
       "                });\n",
       "            }\n",
       "        \n",
       "        \n",
       "\n",
       "        comment = &quot;Add user layers&quot;;\n",
       "        var layers = [];\n",
       "        \n",
       "        layers.sort(function(a,b) {\n",
       "            return a[1] - b[1];\n",
       "        });\n",
       "        for (layersi=layers.length-1; layersi>=0; layersi--) {\n",
       "            map.addLayer(layers[layersi][0]);\n",
       "            comment = &quot;User layer legend&quot;;\n",
       "            \n",
       "        }\n",
       "        \n",
       "        map.fitBounds([[-7.30934, 54.04649], [-0.19192, 57.64947]]);\n",
       "        \n",
       "        \n",
       "    });\n",
       "</script>\n",
       "</body>\n",
       "</html>\" onload=\"iframeLoaded(this)\"></iframe>\n",
       "<script>\n",
       "  var iframe = document.getElementById('mapframe522cc44b');\n",
       "  iframe.setAttribute('srcdoc', atob('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'));\n",
       "</script>\n",
       "\n",
       "        </div>"
      ],
      "text/plain": [
       "<IPython.core.display.HTML object>"
      ]
     },
     "metadata": {},
     "output_type": "display_data"
    }
   ],
   "source": [
    "%%node\n",
    "// fetch cities in UK above latitude 54 degrees north\n",
    "cities.query({country:'GB', latitude: { \"$gt\": 54}}).then(display).catch(print);"
   ]
  },
  {
   "cell_type": "markdown",
   "metadata": {},
   "source": [
    "<img src=\"images/mapbox_uk.png\"></img>\n",
    "\n",
    "### Aggregating data\n",
    "The `cloudant-quickstart` library also allows aggregations (sum, count, stats) to be performed in the Cloudant database.\n",
    "Let’s calculate the sum of the population field:"
   ]
  },
  {
   "cell_type": "code",
   "execution_count": 25,
   "metadata": {},
   "outputs": [
    {
     "name": "stdout",
     "output_type": "stream",
     "text": [
      "2694222973\n"
     ]
    }
   ],
   "source": [
    "%%node\n",
    "cities.sum('population').then(print).catch(print);"
   ]
  },
  {
   "cell_type": "markdown",
   "metadata": {},
   "source": [
    "Or compute the sum of the `population`, grouped by the `country` field:"
   ]
  },
  {
   "cell_type": "code",
   "execution_count": 26,
   "metadata": {},
   "outputs": [
    {
     "name": "stdout",
     "output_type": "stream",
     "text": [
      "{\"BD\": 25149982, \"BE\": 7224564, \"BF\": 2381615, \"BG\": 4401796, \"BA\": 1790001, \"BB\": 98511, \"WF\": 1200, \"BL\": 5988, \"BM\": 902, \"BN\": 144835, \"BO\": 4509695, \"BH\": 549748, \"BI\": 583666, \"BJ\": 2933374, \"BT\": 155886, \"JM\": 2026063, \"BW\": 858320, \"WS\": 40407, \"BQ\": 3081, \"BR\": 125426547, \"BS\": 301375, \"JE\": 28000, \"BY\": 6170996, \"BZ\": 106952, \"RU\": 108885695, \"RW\": 1402557, \"RS\": 3930021, \"TL\": 320381, \"RE\": 726060, \"TM\": 1953779, \"TJ\": 1546667, \"RO\": 11936471, \"GW\": 410549, \"GU\": 101409, \"GT\": 4892534, \"GS\": 2, \"GR\": 5962644, \"GQ\": 353840, \"GP\": 262601, \"JP\": 99000238, \"GY\": 314746, \"GG\": 16488, \"GF\": 155245, \"GE\": 1962046, \"GD\": 7500, \"GB\": 53345216, \"GA\": 870077, \"SV\": 2486365, \"GN\": 4589804, \"GM\": 225182, \"GL\": 14798, \"GI\": 26544, \"GH\": 7064394, \"OM\": 2521336, \"TN\": 4243888, \"JO\": 3737231, \"HR\": 1941447, \"HT\": 4185795, \"HU\": 6902725, \"HK\": 9562700, \"HN\": 2331671, \"VE\": 21050460, \"PR\": 1569135, \"PS\": 2490468, \"PT\": 4515288, \"SJ\": 2060, \"PY\": 3490032, \"IQ\": 24875865, \"PA\": 1619197, \"PF\": 81958, \"PG\": 628855, \"PE\": 17652285, \"PK\": 51026829, \"PH\": 40724110, \"PN\": 46, \"PL\": 21849757, \"PM\": 6200, \"ZM\": 3597362, \"EH\": 313387, \"EE\": 722695, \"EG\": 26540571, \"ZA\": 28680169, \"EC\": 7261462, \"IT\": 29159958, \"VN\": 13812762, \"SB\": 56298, \"ET\": 6468563, \"SO\": 4961036, \"ZW\": 3873749, \"SA\": 17428656, \"ES\": 39562784, \"ER\": 716802, \"ME\": 299974, \"MD\": 1418105, \"MG\": 4461610, \"MF\": 5700, \"MA\": 15168006, \"MC\": 48977, \"UZ\": 7924397, \"MM\": 12213171, \"ML\": 2300213, \"MO\": 520400, \"MN\": 1392774, \"MH\": 25400, \"MK\": 1807094, \"MU\": 669955, \"MT\": 79519, \"MW\": 1813395, \"MV\": 103693, \"MQ\": 242508, \"MP\": 48220, \"MS\": 1000, \"MR\": 1056011, \"IM\": 26218, \"UG\": 3324737, \"TZ\": 10602217, \"MY\": 17993636, \"MX\": 80474387, \"IL\": 5614726, \"FR\": 28479681, \"SH\": 637, \"FI\": 3466722, \"FJ\": 200099, \"FK\": 2213, \"FO\": 13200, \"NI\": 2658144, \"NL\": 12927917, \"NO\": 2088209, \"NA\": 596699, \"VU\": 35901, \"NC\": 137086, \"NE\": 1909067, \"NF\": 880, \"NG\": 49676951, \"NZ\": 3378995, \"NP\": 3634199, \"NR\": 1100, \"NU\": 624, \"CK\": 13373, \"XK\": 1613867, \"CI\": 8399817, \"CH\": 2893794, \"CO\": 30232543, \"CN\": 389487480, \"CM\": 8315462, \"CL\": 12427137, \"CC\": 120, \"CA\": 25754368, \"CG\": 2279211, \"CF\": 1245308, \"CD\": 16827014, \"CZ\": 5190317, \"CY\": 551870, \"CX\": 500, \"CR\": 1476278, \"CW\": 125000, \"CV\": 216556, \"CU\": 10798414, \"SZ\": 191312, \"SY\": 8191705, \"SX\": 1400, \"KG\": 2044980, \"KE\": 6182238, \"SS\": 891481, \"SR\": 241980, \"KI\": 40311, \"KH\": 3619567, \"KN\": 12920, \"KM\": 66466, \"ST\": 53300, \"SK\": 2359663, \"KR\": 41596884, \"SI\": 548905, \"KP\": 8526274, \"KW\": 1662180, \"SN\": 5455920, \"SM\": 4500, \"SL\": 1393808, \"SC\": 22881, \"KZ\": 9282861, \"KY\": 29370, \"SG\": 3547809, \"SE\": 5682906, \"SD\": 8161467, \"DO\": 7407389, \"DM\": 16571, \"DJ\": 744008, \"DK\": 3192153, \"VG\": 8449, \"DE\": 58884999, \"YE\": 5021187, \"DZ\": 18732449, \"US\": 190515768, \"UY\": 2303240, \"YT\": 88288, \"LB\": 4185498, \"LC\": 20000, \"LA\": 589160, \"TV\": 4492, \"TW\": 14073126, \"TT\": 567720, \"TR\": 55733719, \"LK\": 4162600, \"LI\": 5197, \"LV\": 1271084, \"TO\": 22400, \"LT\": 2309340, \"LU\": 122925, \"LR\": 1204285, \"LS\": 349549, \"TH\": 15262873, \"TF\": 45, \"TG\": 1522868, \"TD\": 1494229, \"TC\": 3720, \"LY\": 4950580, \"VA\": 829, \"VC\": 42512, \"AE\": 3272938, \"AD\": 36283, \"AG\": 24226, \"AF\": 6308267, \"AI\": 2035, \"VI\": 70601, \"IS\": 195138, \"IR\": 39895681, \"AM\": 1728343, \"AL\": 1246241, \"AO\": 4688752, \"AS\": 11500, \"AR\": 31687266, \"AU\": 22214787, \"AT\": 3221066, \"AW\": 100067, \"IN\": 269553896, \"AX\": 10682, \"AZ\": 3671768, \"IE\": 2200643, \"ID\": 63161801, \"UA\": 26267760, \"QA\": 692154, \"MZ\": 4818993}\n"
     ]
    }
   ],
   "source": [
    "%%node\n",
    "cities.sum('population','country').then(print).catch(print);"
   ]
  },
  {
   "cell_type": "markdown",
   "metadata": {},
   "source": [
    "The `cloudant-quickstart` package is just one of several Node.js libraries that you can use to access Apache CouchDB or Cloudant. Follow [this link](https://medium.com/ibm-watson-data-lab/choosing-a-cloudant-library-d14c06f3d714) to learn more about your options. "
   ]
  },
  {
   "cell_type": "markdown",
   "metadata": {},
   "source": [
    "### Visualizing data using custom charts\n",
    "\n",
    "If you prefer, you can also use third-party Node.js charting packages to visualize your data, such as [`quiche`](https://www.npmjs.com/package/quiche)."
   ]
  },
  {
   "cell_type": "code",
   "execution_count": 27,
   "metadata": {},
   "outputs": [
    {
     "name": "stdout",
     "output_type": "stream",
     "text": [
      "/Users/patti/anaconda/bin/npm install -s quiche\n",
      "/Users/patti/pixiedust/node\n",
      "└── quiche@0.3.0\n"
     ]
    }
   ],
   "source": [
    "npm.install('quiche');"
   ]
  },
  {
   "cell_type": "code",
   "execution_count": 28,
   "metadata": {},
   "outputs": [
    {
     "name": "stdout",
     "output_type": "stream",
     "text": [
      "... ... ... ... ... ... ... ... ...\n"
     ]
    },
    {
     "data": {
      "text/html": [
       "<img src=\"https://chart.googleapis.com/chart?cht=p&chd=t%3A128488%2C105162%2C120372%2C15192&chco=ff00ff%2C0055ff%2Cff0000%2Cffff00&chdl=Cambridge(GB)%7CCambridge(US)%7CCambridge(CA)%7CCambridge(NZ)&chds=a&chxt=y&chs=300x200\" />"
      ],
      "text/plain": [
       "<IPython.core.display.HTML object>"
      ]
     },
     "metadata": {},
     "output_type": "display_data"
    }
   ],
   "source": [
    "%%node\n",
    "var Quiche = require('quiche');\n",
    "var pie = new Quiche('pie');\n",
    "\n",
    "// fetch cities in UK\n",
    "cities.query({name: 'Cambridge'}).then(function(data) {\n",
    "\n",
    "  var colors = ['ff00ff','0055ff', 'ff0000', 'ffff00', '00ff00','0000ff'];\n",
    "  for(i in data) {\n",
    "    var city = data[i];\n",
    "    pie.addData(city.population, city.name + '(' + city.country +')', colors[i]);\n",
    "  }\n",
    "  var imageUrl = pie.getUrl(true);\n",
    "  image(imageUrl);    \n",
    "});"
   ]
  },
  {
   "cell_type": "markdown",
   "metadata": {},
   "source": [
    "***\n",
    "# Part 3: Sharing data between Python and Node.js cells\n",
    "\n",
    "You can share variables between Python and Node.js cells. Why woud you want to do that? Read on.\n",
    "\n",
    "The Node.js library ecosystem is extensive. Perhaps you need to fetch data from a database and prefer the syntax of a particular Node.js npm module. You can use Node.js to fetch the data, move it to the Python environment, and convert it into a Pandas or Spark DataFrame for aggregation, analysis and visualisation.\n",
    "\n",
    "PixieDust and pixiedust_node give you the flexibility to mix and match Python and Node.js code to suit the workflow you are building and the skill sets you have in your team.\n",
    "\n",
    "Mixing Node.js and Python code in the same notebook is a great way to integrate the work of your software development and data science teams to produce a collaborative report or dashboard.\n",
    "\n",
    "\n",
    "### Sharing data\n",
    "\n",
    "Define variables in a Python cell."
   ]
  },
  {
   "cell_type": "code",
   "execution_count": 29,
   "metadata": {
    "collapsed": true
   },
   "outputs": [],
   "source": [
    "# define a couple variables in Python\n",
    "a = 'Hello from Python!'\n",
    "b = 2\n",
    "c = False\n",
    "d = {'x':1, 'y':2}\n",
    "e = 3.142\n",
    "f = [{'a':1}, {'a':2}, {'a':3}]"
   ]
  },
  {
   "cell_type": "markdown",
   "metadata": {},
   "source": [
    "Access or modify their values in Node.js cells."
   ]
  },
  {
   "cell_type": "code",
   "execution_count": 30,
   "metadata": {},
   "outputs": [
    {
     "name": "stdout",
     "output_type": "stream",
     "text": [
      "\"Hello from Python!\"\n"
     ]
    }
   ],
   "source": [
    "%%node\n",
    "// print variable values\n",
    "print(a, b, c, d, e, f);\n",
    "\n",
    "// change variable value \n",
    "a = 'Hello from Node.js!';\n",
    "\n",
    "// define a new variable\n",
    "var g = 'Yes, it works both ways.';"
   ]
  },
  {
   "cell_type": "markdown",
   "metadata": {},
   "source": [
    "Inspect the manipulated data."
   ]
  },
  {
   "cell_type": "code",
   "execution_count": 31,
   "metadata": {},
   "outputs": [
    {
     "name": "stdout",
     "output_type": "stream",
     "text": [
      "Hello from Node.js! Yes, it works both ways.\n"
     ]
    }
   ],
   "source": [
    "# display modified variable and the new variable\n",
    "print('{} {}'.format(a,g))"
   ]
  },
  {
   "cell_type": "markdown",
   "metadata": {},
   "source": [
    "**Note:** PixieDust natively supports [data sharing between Python and Scala](https://ibm-watson-data-lab.github.io/pixiedust/scalabridge.html), extending the loop for some data types:\n",
    " ```\n",
    " %%scala\n",
    " println(a,b,c,d,e,f,g)\n",
    " \n",
    " (Hello from Node.js!,2,null,null,null,null,Yes, it works both ways.)\n",
    " ```"
   ]
  },
  {
   "cell_type": "markdown",
   "metadata": {},
   "source": [
    "### Sharing data from an asynchronous callback\n",
    "\n",
    "If you wish transfer data from Node.js to Python from an asynchronous callback, make sure you write the data to a global variable. \n",
    "\n",
    "Load a csv file from a GitHub repository."
   ]
  },
  {
   "cell_type": "code",
   "execution_count": 32,
   "metadata": {},
   "outputs": [
    {
     "name": "stdout",
     "output_type": "stream",
     "text": [
      "... ... ...\n",
      "\"Fetched sample data from GitHub.\"\n"
     ]
    }
   ],
   "source": [
    "%%node\n",
    "\n",
    "// global variable\n",
    "var sample_csv_data = '';\n",
    "\n",
    "// load csv file from GitHub and store data in the global variable\n",
    "request.get('https://github.com/ibm-watson-data-lab/open-data/raw/master/cars/cars.csv').then(function(data) {\n",
    "  sample_csv_data = data;\n",
    "  print('Fetched sample data from GitHub.');\n",
    "});"
   ]
  },
  {
   "cell_type": "markdown",
   "metadata": {},
   "source": [
    "Create a Pandas DataFrame from the downloaded data."
   ]
  },
  {
   "cell_type": "code",
   "execution_count": 33,
   "metadata": {
    "pixiedust": {
     "displayParams": {}
    }
   },
   "outputs": [
    {
     "data": {
      "text/html": [
       "<div>\n",
       "<style scoped>\n",
       "    .dataframe tbody tr th:only-of-type {\n",
       "        vertical-align: middle;\n",
       "    }\n",
       "\n",
       "    .dataframe tbody tr th {\n",
       "        vertical-align: top;\n",
       "    }\n",
       "\n",
       "    .dataframe thead th {\n",
       "        text-align: right;\n",
       "    }\n",
       "</style>\n",
       "<table border=\"1\" class=\"dataframe\">\n",
       "  <thead>\n",
       "    <tr style=\"text-align: right;\">\n",
       "      <th></th>\n",
       "      <th>mpg</th>\n",
       "      <th>cylinders</th>\n",
       "      <th>engine</th>\n",
       "      <th>horsepower</th>\n",
       "      <th>weight</th>\n",
       "      <th>acceleration</th>\n",
       "      <th>year</th>\n",
       "      <th>origin</th>\n",
       "      <th>name</th>\n",
       "    </tr>\n",
       "  </thead>\n",
       "  <tbody>\n",
       "    <tr>\n",
       "      <th>0</th>\n",
       "      <td>18.0</td>\n",
       "      <td>8</td>\n",
       "      <td>307.0</td>\n",
       "      <td>130</td>\n",
       "      <td>3504</td>\n",
       "      <td>12.0</td>\n",
       "      <td>70</td>\n",
       "      <td>American</td>\n",
       "      <td>chevrolet chevelle malibu</td>\n",
       "    </tr>\n",
       "    <tr>\n",
       "      <th>1</th>\n",
       "      <td>15.0</td>\n",
       "      <td>8</td>\n",
       "      <td>350.0</td>\n",
       "      <td>165</td>\n",
       "      <td>3693</td>\n",
       "      <td>11.5</td>\n",
       "      <td>70</td>\n",
       "      <td>American</td>\n",
       "      <td>buick skylark 320</td>\n",
       "    </tr>\n",
       "    <tr>\n",
       "      <th>2</th>\n",
       "      <td>18.0</td>\n",
       "      <td>8</td>\n",
       "      <td>318.0</td>\n",
       "      <td>150</td>\n",
       "      <td>3436</td>\n",
       "      <td>11.0</td>\n",
       "      <td>70</td>\n",
       "      <td>American</td>\n",
       "      <td>plymouth satellite</td>\n",
       "    </tr>\n",
       "    <tr>\n",
       "      <th>3</th>\n",
       "      <td>16.0</td>\n",
       "      <td>8</td>\n",
       "      <td>304.0</td>\n",
       "      <td>150</td>\n",
       "      <td>3433</td>\n",
       "      <td>12.0</td>\n",
       "      <td>70</td>\n",
       "      <td>American</td>\n",
       "      <td>amc rebel sst</td>\n",
       "    </tr>\n",
       "    <tr>\n",
       "      <th>4</th>\n",
       "      <td>17.0</td>\n",
       "      <td>8</td>\n",
       "      <td>302.0</td>\n",
       "      <td>140</td>\n",
       "      <td>3449</td>\n",
       "      <td>10.5</td>\n",
       "      <td>70</td>\n",
       "      <td>American</td>\n",
       "      <td>ford torino</td>\n",
       "    </tr>\n",
       "  </tbody>\n",
       "</table>\n",
       "</div>"
      ],
      "text/plain": [
       "    mpg  cylinders  engine  horsepower  weight  acceleration  year    origin  \\\n",
       "0  18.0          8   307.0         130    3504          12.0    70  American   \n",
       "1  15.0          8   350.0         165    3693          11.5    70  American   \n",
       "2  18.0          8   318.0         150    3436          11.0    70  American   \n",
       "3  16.0          8   304.0         150    3433          12.0    70  American   \n",
       "4  17.0          8   302.0         140    3449          10.5    70  American   \n",
       "\n",
       "                        name  \n",
       "0  chevrolet chevelle malibu  \n",
       "1          buick skylark 320  \n",
       "2         plymouth satellite  \n",
       "3              amc rebel sst  \n",
       "4                ford torino  "
      ]
     },
     "execution_count": 33,
     "metadata": {},
     "output_type": "execute_result"
    }
   ],
   "source": [
    "import pandas as pd\n",
    "import io\n",
    "# create DataFrame from shared csv data\n",
    "pandas_df = pd.read_csv(io.StringIO(sample_csv_data))\n",
    "# display first five rows\n",
    "pandas_df.head(5)"
   ]
  },
  {
   "cell_type": "markdown",
   "metadata": {},
   "source": [
    "**Note**: Above example is for illustrative purposes only.  A much easier solution is to use [PixieDust's sampleData method](https://ibm-watson-data-lab.github.io/pixiedust/loaddata.html#load-a-csv-using-its-url) if you want to create a DataFrame from a URL. "
   ]
  },
  {
   "cell_type": "markdown",
   "metadata": {},
   "source": [
    "#### References:\n",
    " * [Nodebooks: Introducing Node.js Data Science Notebooks](https://medium.com/ibm-watson-data-lab/nodebooks-node-js-data-science-notebooks-aa140bea21ba)\n",
    " * [Nodebooks: Sharing Data Between Node.js & Python](https://medium.com/ibm-watson-data-lab/nodebooks-sharing-data-between-node-js-python-3a4acae27a02)\n",
    " * [Sharing Variables Between Python & Node.js in Jupyter Notebooks](https://medium.com/ibm-watson-data-lab/sharing-variables-between-python-node-js-in-jupyter-notebooks-682a79d4bdd9)"
   ]
  }
 ],
 "metadata": {
  "kernelspec": {
   "display_name": "Python with Pixiedust (Spark 2.2)",
   "language": "python",
   "name": "pythonwithpixiedustspark22"
  },
  "language_info": {
   "codemirror_mode": {
    "name": "ipython",
    "version": 2
   },
   "file_extension": ".py",
   "mimetype": "text/x-python",
   "name": "python",
   "nbconvert_exporter": "python",
   "pygments_lexer": "ipython2",
   "version": "2.7.13"
  }
 },
 "nbformat": 4,
 "nbformat_minor": 2
}
